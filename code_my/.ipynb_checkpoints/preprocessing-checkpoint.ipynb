{
 "cells": [
  {
   "cell_type": "markdown",
   "metadata": {},
   "source": [
    "# credit crisis modeling on lending club\n",
    "信用风险建模：PD, LGD, EAD"
   ]
  },
  {
   "cell_type": "markdown",
   "metadata": {},
   "source": [
    "## 加载数据"
   ]
  },
  {
   "cell_type": "code",
   "execution_count": 1,
   "metadata": {},
   "outputs": [],
   "source": [
    "import pandas as pd\n",
    "%matplotlib inline"
   ]
  },
  {
   "cell_type": "code",
   "execution_count": 2,
   "metadata": {},
   "outputs": [
    {
     "name": "stdout",
     "output_type": "stream",
     "text": [
      "code_backup\t\t\t\t      LCDataDictionary.xlsx\r\n",
      "code_my\t\t\t\t\t      loan.csv\r\n",
      "datasets_680898_1195636_Data_Dictionary.xlsx  loan_data_2007_2014.csv\r\n"
     ]
    }
   ],
   "source": [
    "# 查看目录下的文件，查询数据文件名\n",
    "!ls .."
   ]
  },
  {
   "cell_type": "code",
   "execution_count": 3,
   "metadata": {},
   "outputs": [
    {
     "name": "stderr",
     "output_type": "stream",
     "text": [
      "/home/ligy/anaconda3/lib/python3.7/site-packages/IPython/core/interactiveshell.py:3063: DtypeWarning: Columns (20) have mixed types.Specify dtype option on import or set low_memory=False.\n",
      "  interactivity=interactivity, compiler=compiler, result=result)\n"
     ]
    },
    {
     "name": "stdout",
     "output_type": "stream",
     "text": [
      "<class 'pandas.core.frame.DataFrame'>\n",
      "RangeIndex: 466285 entries, 0 to 466284\n",
      "Data columns (total 75 columns):\n",
      " #   Column                       Non-Null Count   Dtype  \n",
      "---  ------                       --------------   -----  \n",
      " 0   Unnamed: 0                   466285 non-null  int64  \n",
      " 1   id                           466285 non-null  int64  \n",
      " 2   member_id                    466285 non-null  int64  \n",
      " 3   loan_amnt                    466285 non-null  int64  \n",
      " 4   funded_amnt                  466285 non-null  int64  \n",
      " 5   funded_amnt_inv              466285 non-null  float64\n",
      " 6   term                         466285 non-null  object \n",
      " 7   int_rate                     466285 non-null  float64\n",
      " 8   installment                  466285 non-null  float64\n",
      " 9   grade                        466285 non-null  object \n",
      " 10  sub_grade                    466285 non-null  object \n",
      " 11  emp_title                    438697 non-null  object \n",
      " 12  emp_length                   445277 non-null  object \n",
      " 13  home_ownership               466285 non-null  object \n",
      " 14  annual_inc                   466281 non-null  float64\n",
      " 15  verification_status          466285 non-null  object \n",
      " 16  issue_d                      466285 non-null  object \n",
      " 17  loan_status                  466285 non-null  object \n",
      " 18  pymnt_plan                   466285 non-null  object \n",
      " 19  url                          466285 non-null  object \n",
      " 20  desc                         125983 non-null  object \n",
      " 21  purpose                      466285 non-null  object \n",
      " 22  title                        466265 non-null  object \n",
      " 23  zip_code                     466285 non-null  object \n",
      " 24  addr_state                   466285 non-null  object \n",
      " 25  dti                          466285 non-null  float64\n",
      " 26  delinq_2yrs                  466256 non-null  float64\n",
      " 27  earliest_cr_line             466256 non-null  object \n",
      " 28  inq_last_6mths               466256 non-null  float64\n",
      " 29  mths_since_last_delinq       215934 non-null  float64\n",
      " 30  mths_since_last_record       62638 non-null   float64\n",
      " 31  open_acc                     466256 non-null  float64\n",
      " 32  pub_rec                      466256 non-null  float64\n",
      " 33  revol_bal                    466285 non-null  int64  \n",
      " 34  revol_util                   465945 non-null  float64\n",
      " 35  total_acc                    466256 non-null  float64\n",
      " 36  initial_list_status          466285 non-null  object \n",
      " 37  out_prncp                    466285 non-null  float64\n",
      " 38  out_prncp_inv                466285 non-null  float64\n",
      " 39  total_pymnt                  466285 non-null  float64\n",
      " 40  total_pymnt_inv              466285 non-null  float64\n",
      " 41  total_rec_prncp              466285 non-null  float64\n",
      " 42  total_rec_int                466285 non-null  float64\n",
      " 43  total_rec_late_fee           466285 non-null  float64\n",
      " 44  recoveries                   466285 non-null  float64\n",
      " 45  collection_recovery_fee      466285 non-null  float64\n",
      " 46  last_pymnt_d                 465909 non-null  object \n",
      " 47  last_pymnt_amnt              466285 non-null  float64\n",
      " 48  next_pymnt_d                 239071 non-null  object \n",
      " 49  last_credit_pull_d           466243 non-null  object \n",
      " 50  collections_12_mths_ex_med   466140 non-null  float64\n",
      " 51  mths_since_last_major_derog  98974 non-null   float64\n",
      " 52  policy_code                  466285 non-null  int64  \n",
      " 53  application_type             466285 non-null  object \n",
      " 54  annual_inc_joint             0 non-null       float64\n",
      " 55  dti_joint                    0 non-null       float64\n",
      " 56  verification_status_joint    0 non-null       float64\n",
      " 57  acc_now_delinq               466256 non-null  float64\n",
      " 58  tot_coll_amt                 396009 non-null  float64\n",
      " 59  tot_cur_bal                  396009 non-null  float64\n",
      " 60  open_acc_6m                  0 non-null       float64\n",
      " 61  open_il_6m                   0 non-null       float64\n",
      " 62  open_il_12m                  0 non-null       float64\n",
      " 63  open_il_24m                  0 non-null       float64\n",
      " 64  mths_since_rcnt_il           0 non-null       float64\n",
      " 65  total_bal_il                 0 non-null       float64\n",
      " 66  il_util                      0 non-null       float64\n",
      " 67  open_rv_12m                  0 non-null       float64\n",
      " 68  open_rv_24m                  0 non-null       float64\n",
      " 69  max_bal_bc                   0 non-null       float64\n",
      " 70  all_util                     0 non-null       float64\n",
      " 71  total_rev_hi_lim             396009 non-null  float64\n",
      " 72  inq_fi                       0 non-null       float64\n",
      " 73  total_cu_tl                  0 non-null       float64\n",
      " 74  inq_last_12m                 0 non-null       float64\n",
      "dtypes: float64(46), int64(7), object(22)\n",
      "memory usage: 266.8+ MB\n"
     ]
    }
   ],
   "source": [
    "# 加载数据文件\n",
    "df_bk = pd.read_csv('../loan_data_2007_2014.csv')\n",
    "# 查看数据的各列基本情况\n",
    "df_bk.info()"
   ]
  },
  {
   "cell_type": "code",
   "execution_count": 4,
   "metadata": {},
   "outputs": [
    {
     "data": {
      "text/html": [
       "<div>\n",
       "<style scoped>\n",
       "    .dataframe tbody tr th:only-of-type {\n",
       "        vertical-align: middle;\n",
       "    }\n",
       "\n",
       "    .dataframe tbody tr th {\n",
       "        vertical-align: top;\n",
       "    }\n",
       "\n",
       "    .dataframe thead th {\n",
       "        text-align: right;\n",
       "    }\n",
       "</style>\n",
       "<table border=\"1\" class=\"dataframe\">\n",
       "  <thead>\n",
       "    <tr style=\"text-align: right;\">\n",
       "      <th></th>\n",
       "      <th>LoanStatNew</th>\n",
       "      <th>Description</th>\n",
       "    </tr>\n",
       "  </thead>\n",
       "  <tbody>\n",
       "    <tr>\n",
       "      <th>0</th>\n",
       "      <td>id</td>\n",
       "      <td>A unique LC assigned ID for the loan listing.</td>\n",
       "    </tr>\n",
       "    <tr>\n",
       "      <th>1</th>\n",
       "      <td>member_id</td>\n",
       "      <td>A unique LC assigned Id for the borrower member.</td>\n",
       "    </tr>\n",
       "    <tr>\n",
       "      <th>2</th>\n",
       "      <td>loan_amnt</td>\n",
       "      <td>The listed amount of the loan applied for by the borrower. If at some point in time, the credit department reduces the loan amount, then it will be reflected in this value.</td>\n",
       "    </tr>\n",
       "    <tr>\n",
       "      <th>3</th>\n",
       "      <td>funded_amnt</td>\n",
       "      <td>The total amount committed to that loan at that point in time.</td>\n",
       "    </tr>\n",
       "    <tr>\n",
       "      <th>4</th>\n",
       "      <td>funded_amnt_inv</td>\n",
       "      <td>The total amount committed by investors for that loan at that point in time.</td>\n",
       "    </tr>\n",
       "    <tr>\n",
       "      <th>...</th>\n",
       "      <td>...</td>\n",
       "      <td>...</td>\n",
       "    </tr>\n",
       "    <tr>\n",
       "      <th>67</th>\n",
       "      <td>max_bal_bc</td>\n",
       "      <td>Maximum current balance owed on all revolving accounts</td>\n",
       "    </tr>\n",
       "    <tr>\n",
       "      <th>68</th>\n",
       "      <td>all_util</td>\n",
       "      <td>Balance to credit limit on all trades</td>\n",
       "    </tr>\n",
       "    <tr>\n",
       "      <th>69</th>\n",
       "      <td>inq_fi</td>\n",
       "      <td>Number of personal finance inquiries</td>\n",
       "    </tr>\n",
       "    <tr>\n",
       "      <th>70</th>\n",
       "      <td>total_cu_tl</td>\n",
       "      <td>Number of finance trades</td>\n",
       "    </tr>\n",
       "    <tr>\n",
       "      <th>71</th>\n",
       "      <td>inq_last_12m</td>\n",
       "      <td>Number of credit inquiries in past 12 months</td>\n",
       "    </tr>\n",
       "  </tbody>\n",
       "</table>\n",
       "<p>72 rows × 2 columns</p>\n",
       "</div>"
      ],
      "text/plain": [
       "        LoanStatNew  \\\n",
       "0                id   \n",
       "1         member_id   \n",
       "2         loan_amnt   \n",
       "3       funded_amnt   \n",
       "4   funded_amnt_inv   \n",
       "..              ...   \n",
       "67       max_bal_bc   \n",
       "68         all_util   \n",
       "69           inq_fi   \n",
       "70      total_cu_tl   \n",
       "71     inq_last_12m   \n",
       "\n",
       "                                                                                                                                                                     Description  \n",
       "0                                                                                                                                  A unique LC assigned ID for the loan listing.  \n",
       "1                                                                                                                               A unique LC assigned Id for the borrower member.  \n",
       "2   The listed amount of the loan applied for by the borrower. If at some point in time, the credit department reduces the loan amount, then it will be reflected in this value.  \n",
       "3                                                                                                                 The total amount committed to that loan at that point in time.  \n",
       "4                                                                                                   The total amount committed by investors for that loan at that point in time.  \n",
       "..                                                                                                                                                                           ...  \n",
       "67                                                                                                                        Maximum current balance owed on all revolving accounts  \n",
       "68                                                                                                                                         Balance to credit limit on all trades  \n",
       "69                                                                                                                                          Number of personal finance inquiries  \n",
       "70                                                                                                                                                      Number of finance trades  \n",
       "71                                                                                                                                  Number of credit inquiries in past 12 months  \n",
       "\n",
       "[72 rows x 2 columns]"
      ]
     },
     "execution_count": 4,
     "metadata": {},
     "output_type": "execute_result"
    }
   ],
   "source": [
    "# 每列的意义\n",
    "# 从以下稍有不同的数据集描述中筛选出本数据集的描述\n",
    "pd.set_option('max_colwidth', 400) # 全部显示，不省略显示字符串\n",
    "col_name = pd.read_excel('../datasets_680898_1195636_Data_Dictionary.xlsx')\n",
    "cols = df_bk.columns\n",
    "col_names = pd.DataFrame(columns=['LoanStatNew', 'Description'])\n",
    "for i, col in enumerate(cols):\n",
    "    if col in list(col_name.LoanStatNew):\n",
    "        col_names.loc[i, 'Description'] = col_name[col_name.LoanStatNew == col]['Description'].values[0]\n",
    "        col_names.loc[i, 'LoanStatNew'] = col_name[col_name.LoanStatNew == col]['LoanStatNew'].values[0]\n",
    "col_names.reset_index(drop=True, inplace=True)\n",
    "col_names"
   ]
  },
  {
   "cell_type": "code",
   "execution_count": 5,
   "metadata": {
    "scrolled": true
   },
   "outputs": [
    {
     "data": {
      "text/plain": [
       "array(['A unique LC assigned ID for the loan listing.',\n",
       "       'A unique LC assigned Id for the borrower member.',\n",
       "       'The listed amount of the loan applied for by the borrower. If at some point in time, the credit department reduces the loan amount, then it will be reflected in this value.',\n",
       "       'The total amount committed to that loan at that point in time.',\n",
       "       'The total amount committed by investors for that loan at that point in time.',\n",
       "       'The number of payments on the loan. Values are in months and can be either 36 or 60.',\n",
       "       'Interest Rate on the loan',\n",
       "       'The monthly payment owed by the borrower if the loan originates.',\n",
       "       'LC assigned loan grade', 'LC assigned loan subgrade',\n",
       "       'The job title supplied by the Borrower when applying for the loan.*',\n",
       "       'Employment length in years. Possible values are between 0 and 10 where 0 means less than one year and 10 means ten or more years. ',\n",
       "       'The home ownership status provided by the borrower during registration. Our values are: RENT, OWN, MORTGAGE, OTHER.',\n",
       "       'The self-reported annual income provided by the borrower during registration.',\n",
       "       'Indicates if income was verified by LC, not verified, or if the income source was verified',\n",
       "       'The month which the loan was funded',\n",
       "       'Current status of the loan',\n",
       "       'Indicates if a payment plan has been put in place for the loan',\n",
       "       'URL for the LC page with listing data.',\n",
       "       'Loan description provided by the borrower',\n",
       "       'A category provided by the borrower for the loan request. ',\n",
       "       'The loan title provided by the borrower',\n",
       "       'The first 3 numbers of the zip code provided by the borrower in the loan application.',\n",
       "       'The state provided by the borrower in the loan application',\n",
       "       'A ratio calculated using the borrower’s total monthly debt payments on the total debt obligations, excluding mortgage and the requested LC loan, divided by the borrower’s self-reported monthly income.',\n",
       "       \"The number of 30+ days past-due incidences of delinquency in the borrower's credit file for the past 2 years\",\n",
       "       \"The month the borrower's earliest reported credit line was opened\",\n",
       "       'The number of inquiries in past 6 months (excluding auto and mortgage inquiries)',\n",
       "       \"The number of months since the borrower's last delinquency.\",\n",
       "       'The number of months since the last public record.',\n",
       "       \"The number of open credit lines in the borrower's credit file.\",\n",
       "       'Number of derogatory public records',\n",
       "       'Total credit revolving balance',\n",
       "       'Revolving line utilization rate, or the amount of credit the borrower is using relative to all available revolving credit.',\n",
       "       \"The total number of credit lines currently in the borrower's credit file\",\n",
       "       'The initial listing status of the loan. Possible values are – W, F',\n",
       "       'Remaining outstanding principal for total amount funded',\n",
       "       'Remaining outstanding principal for portion of total amount funded by investors',\n",
       "       'Payments received to date for total amount funded',\n",
       "       'Payments received to date for portion of total amount funded by investors',\n",
       "       'Principal received to date', 'Interest received to date',\n",
       "       'Late fees received to date', 'post charge off gross recovery',\n",
       "       'post charge off collection fee',\n",
       "       'Last month payment was received',\n",
       "       'Last total payment amount received',\n",
       "       'Next scheduled payment date',\n",
       "       'The most recent month LC pulled credit for this loan',\n",
       "       'Number of collections in 12 months excluding medical collections',\n",
       "       'Months since most recent 90-day or worse rating',\n",
       "       'publicly available policy_code=1\\nnew products not publicly available policy_code=2',\n",
       "       'Indicates whether the loan is an individual application or a joint application with two co-borrowers',\n",
       "       'The combined self-reported annual income provided by the co-borrowers during registration',\n",
       "       \"A ratio calculated using the co-borrowers' total monthly payments on the total debt obligations, excluding mortgages and the requested LC loan, divided by the co-borrowers' combined self-reported monthly income\",\n",
       "       'The number of accounts on which the borrower is now delinquent.',\n",
       "       'Total collection amounts ever owed',\n",
       "       'Total current balance of all accounts',\n",
       "       'Number of open trades in last 6 months',\n",
       "       'Number of currently active installment trades',\n",
       "       'Number of installment accounts opened in past 12 months',\n",
       "       'Number of installment accounts opened in past 24 months',\n",
       "       'Months since most recent installment accounts opened',\n",
       "       'Total current balance of all installment accounts',\n",
       "       'Ratio of total current balance to high credit/credit limit on all install acct',\n",
       "       'Number of revolving trades opened in past 12 months',\n",
       "       'Number of revolving trades opened in past 24 months',\n",
       "       'Maximum current balance owed on all revolving accounts',\n",
       "       'Balance to credit limit on all trades',\n",
       "       'Number of personal finance inquiries', 'Number of finance trades',\n",
       "       'Number of credit inquiries in past 12 months'], dtype=object)"
      ]
     },
     "execution_count": 5,
     "metadata": {},
     "output_type": "execute_result"
    }
   ],
   "source": [
    "# 英文描述\n",
    "col_names.Description.values"
   ]
  },
  {
   "cell_type": "code",
   "execution_count": 6,
   "metadata": {},
   "outputs": [
    {
     "data": {
      "text/plain": [
       "(72, 72)"
      ]
     },
     "execution_count": 6,
     "metadata": {},
     "output_type": "execute_result"
    }
   ],
   "source": [
    "# 翻译成中文\n",
    "Description_CN = ['贷款清单的唯一LC分配ID',\n",
    "                  '为借款人成员分配的唯一信用证ID',\n",
    "                  '借款人申请的贷款清单金额如果信贷部门在某个时间点减少了贷款额,那么它将反映在该值中',\n",
    "                  '在该时间点对该贷款的承诺总额',\n",
    "                  '投资者在该时间点对该贷款的承诺总额',\n",
    "                  '贷款的还款数量值以月为单位,可以是36或60',\n",
    "                  '贷款利率',\n",
    "                  '如果产生贷款,则借款人每月要还款',\n",
    "                  'LC指定的贷款等级',\n",
    "                  'LC指定的贷款子等级',\n",
    "                  '借款人在申请贷款时提供的职位',\n",
    "                  '就业年限可能的值在0到10之间,其中0表示少于一年,而10表示十年或更长时间 ',\n",
    "                  '借方在注册过程中提供的房屋所有权状态我们的值是：租金,自有,抵押,其他',\n",
    "                  '借款人在注册期间提供的自我报告的年收入',\n",
    "                  '表明收入是否已由LC核实,未核实,或收入来源是否已核实',\n",
    "                  '贷款融资的月份',\n",
    "                  '贷款的当前状态',\n",
    "                  '指示是否已为贷款制定了付款计划',\n",
    "                  '具有列表数据的LC页面的URL',\n",
    "                  '借款人提供的贷款说明',\n",
    "                  '借款人为贷款申请提供的类别 ',\n",
    "                  '借款人提供的贷款名称',\n",
    "                  '借款人在贷款申请中提供的邮政编码的前3个数字',\n",
    "                  '借款人在贷款申请中提供的状态',\n",
    "                  '用借款人每月偿还的债务总额与债务总额（不包括抵押和所要求的信用证贷款）的比率除以借款人的自我报告的每月收入得出的比率',\n",
    "                  '过去两年来,借方贷方档案中逾期30天以上的逾期欠款的次数',\n",
    "                  '借款人最早报告的信用额度开放的月份',\n",
    "                  '过去6个月的查询数量（不包括汽车和抵押贷款查询）',\n",
    "                  '自借款人上次拖欠债务以来的月数',\n",
    "                  '自上次公开记录以来的月数',\n",
    "                  '借款人的信用档案中未清信用额度的数目',\n",
    "                  '贬损的公共记录数量',\n",
    "                  '信贷周转总额',\n",
    "                  '循环线利用率,或借款人相对于所有可用循环信贷所使用的信贷量',\n",
    "                  '当前在借款人的信用档案中的信用额总数',\n",
    "                  '贷款的初始上市状态可能的值为– W,F',\n",
    "                  '剩余未偿还本金总额,',\n",
    "                  '剩余未偿还本金占投资者出资总额的一部分',\n",
    "                  '迄今已收到的已付款总额的款项',\n",
    "                  '迄今为止已收到的由投资者资助的部分款项',\n",
    "                  '迄今为止收到的本金',\n",
    "                  '迄今为止收到的利息',\n",
    "                  '迄今为止已收的滞纳金',\n",
    "                  '从总回收中扣除后的费用',\n",
    "                  '过帐后收取收款费',\n",
    "                  '已收到上个月的付款',\n",
    "                  '最后收到的总付款额',\n",
    "                  '下一个预定的付款日期',\n",
    "                  '最近一个月信用证为这笔贷款取消了信用',\n",
    "                  ' 12个月内不包括医学收藏的收藏数量',\n",
    "                  '自最近90天或更差的评分以来的月份',\n",
    "                  '公开提供的policy_code = 1 \\ n新产品没有公开提供的policy_code = 2',\n",
    "                  '表明贷款是个人申请还是与两个共同借款人共同申请',\n",
    "                  '共同借款人在注册期间提供的自我报告的合并年收入',\n",
    "                  '用同借款人每月总付款额除债务和所要求的信用证贷款外的债务总额计算的比率除以同借款人自行报告的月总收入之比',\n",
    "                  '借款人现在拖欠的帐户数量',\n",
    "                  '曾经拖欠的托收总额',\n",
    "                  '所有帐户的当前总余额',\n",
    "                  '过去6个月的未平仓交易数量',\n",
    "                  '当前活跃的分期付款交易数',\n",
    "                  '过去12个月内开设的分期付款帐户数',\n",
    "                  '过去24个月内开设的分期付款帐户数',\n",
    "                  '自最近的分期付款帐户开设以来的月份',\n",
    "                  '所有分期付款帐户的当前总余额',\n",
    "                  '当前总余额与所有安装帐户的最高信用/信用额度之比',\n",
    "                  '过去12个月内开立的循环交易数',\n",
    "                  '过去24个月内开立的循环交易数',\n",
    "                  '所有循环帐户上的最大当前余额',\n",
    "                  '平衡所有交易的信用额度',\n",
    "                  '个人理财查询数量',\n",
    "                  '金融交易数量',\n",
    "                  '过去12个月中的信用查询数量'\n",
    "]\n",
    "len(Description_CN), len(col_names)"
   ]
  },
  {
   "cell_type": "code",
   "execution_count": 7,
   "metadata": {
    "scrolled": false
   },
   "outputs": [
    {
     "data": {
      "text/html": [
       "<div>\n",
       "<style scoped>\n",
       "    .dataframe tbody tr th:only-of-type {\n",
       "        vertical-align: middle;\n",
       "    }\n",
       "\n",
       "    .dataframe tbody tr th {\n",
       "        vertical-align: top;\n",
       "    }\n",
       "\n",
       "    .dataframe thead th {\n",
       "        text-align: right;\n",
       "    }\n",
       "</style>\n",
       "<table border=\"1\" class=\"dataframe\">\n",
       "  <thead>\n",
       "    <tr style=\"text-align: right;\">\n",
       "      <th></th>\n",
       "      <th>LoanStatNew</th>\n",
       "      <th>Description</th>\n",
       "      <th>Description_CN</th>\n",
       "    </tr>\n",
       "  </thead>\n",
       "  <tbody>\n",
       "    <tr>\n",
       "      <th>0</th>\n",
       "      <td>id</td>\n",
       "      <td>A unique LC assigned ID for the loan listing.</td>\n",
       "      <td>贷款清单的唯一LC分配ID</td>\n",
       "    </tr>\n",
       "    <tr>\n",
       "      <th>1</th>\n",
       "      <td>member_id</td>\n",
       "      <td>A unique LC assigned Id for the borrower member.</td>\n",
       "      <td>为借款人成员分配的唯一信用证ID</td>\n",
       "    </tr>\n",
       "    <tr>\n",
       "      <th>2</th>\n",
       "      <td>loan_amnt</td>\n",
       "      <td>The listed amount of the loan applied for by the borrower. If at some point in time, the credit department reduces the loan amount, then it will be reflected in this value.</td>\n",
       "      <td>借款人申请的贷款清单金额如果信贷部门在某个时间点减少了贷款额,那么它将反映在该值中</td>\n",
       "    </tr>\n",
       "    <tr>\n",
       "      <th>3</th>\n",
       "      <td>funded_amnt</td>\n",
       "      <td>The total amount committed to that loan at that point in time.</td>\n",
       "      <td>在该时间点对该贷款的承诺总额</td>\n",
       "    </tr>\n",
       "    <tr>\n",
       "      <th>4</th>\n",
       "      <td>funded_amnt_inv</td>\n",
       "      <td>The total amount committed by investors for that loan at that point in time.</td>\n",
       "      <td>投资者在该时间点对该贷款的承诺总额</td>\n",
       "    </tr>\n",
       "    <tr>\n",
       "      <th>...</th>\n",
       "      <td>...</td>\n",
       "      <td>...</td>\n",
       "      <td>...</td>\n",
       "    </tr>\n",
       "    <tr>\n",
       "      <th>67</th>\n",
       "      <td>max_bal_bc</td>\n",
       "      <td>Maximum current balance owed on all revolving accounts</td>\n",
       "      <td>所有循环帐户上的最大当前余额</td>\n",
       "    </tr>\n",
       "    <tr>\n",
       "      <th>68</th>\n",
       "      <td>all_util</td>\n",
       "      <td>Balance to credit limit on all trades</td>\n",
       "      <td>平衡所有交易的信用额度</td>\n",
       "    </tr>\n",
       "    <tr>\n",
       "      <th>69</th>\n",
       "      <td>inq_fi</td>\n",
       "      <td>Number of personal finance inquiries</td>\n",
       "      <td>个人理财查询数量</td>\n",
       "    </tr>\n",
       "    <tr>\n",
       "      <th>70</th>\n",
       "      <td>total_cu_tl</td>\n",
       "      <td>Number of finance trades</td>\n",
       "      <td>金融交易数量</td>\n",
       "    </tr>\n",
       "    <tr>\n",
       "      <th>71</th>\n",
       "      <td>inq_last_12m</td>\n",
       "      <td>Number of credit inquiries in past 12 months</td>\n",
       "      <td>过去12个月中的信用查询数量</td>\n",
       "    </tr>\n",
       "  </tbody>\n",
       "</table>\n",
       "<p>72 rows × 3 columns</p>\n",
       "</div>"
      ],
      "text/plain": [
       "        LoanStatNew  \\\n",
       "0                id   \n",
       "1         member_id   \n",
       "2         loan_amnt   \n",
       "3       funded_amnt   \n",
       "4   funded_amnt_inv   \n",
       "..              ...   \n",
       "67       max_bal_bc   \n",
       "68         all_util   \n",
       "69           inq_fi   \n",
       "70      total_cu_tl   \n",
       "71     inq_last_12m   \n",
       "\n",
       "                                                                                                                                                                     Description  \\\n",
       "0                                                                                                                                  A unique LC assigned ID for the loan listing.   \n",
       "1                                                                                                                               A unique LC assigned Id for the borrower member.   \n",
       "2   The listed amount of the loan applied for by the borrower. If at some point in time, the credit department reduces the loan amount, then it will be reflected in this value.   \n",
       "3                                                                                                                 The total amount committed to that loan at that point in time.   \n",
       "4                                                                                                   The total amount committed by investors for that loan at that point in time.   \n",
       "..                                                                                                                                                                           ...   \n",
       "67                                                                                                                        Maximum current balance owed on all revolving accounts   \n",
       "68                                                                                                                                         Balance to credit limit on all trades   \n",
       "69                                                                                                                                          Number of personal finance inquiries   \n",
       "70                                                                                                                                                      Number of finance trades   \n",
       "71                                                                                                                                  Number of credit inquiries in past 12 months   \n",
       "\n",
       "                               Description_CN  \n",
       "0                               贷款清单的唯一LC分配ID  \n",
       "1                            为借款人成员分配的唯一信用证ID  \n",
       "2   借款人申请的贷款清单金额如果信贷部门在某个时间点减少了贷款额,那么它将反映在该值中  \n",
       "3                              在该时间点对该贷款的承诺总额  \n",
       "4                           投资者在该时间点对该贷款的承诺总额  \n",
       "..                                        ...  \n",
       "67                             所有循环帐户上的最大当前余额  \n",
       "68                                平衡所有交易的信用额度  \n",
       "69                                   个人理财查询数量  \n",
       "70                                     金融交易数量  \n",
       "71                             过去12个月中的信用查询数量  \n",
       "\n",
       "[72 rows x 3 columns]"
      ]
     },
     "execution_count": 7,
     "metadata": {},
     "output_type": "execute_result"
    }
   ],
   "source": [
    "# 将英文与中文翻译对应起来\n",
    "col_names = col_names.reset_index(drop=True)\n",
    "col_names['Description_CN'] = pd.Series(Description_CN)\n",
    "col_names"
   ]
  },
  {
   "cell_type": "code",
   "execution_count": 8,
   "metadata": {
    "scrolled": true
   },
   "outputs": [
    {
     "data": {
      "text/html": [
       "<div>\n",
       "<style scoped>\n",
       "    .dataframe tbody tr th:only-of-type {\n",
       "        vertical-align: middle;\n",
       "    }\n",
       "\n",
       "    .dataframe tbody tr th {\n",
       "        vertical-align: top;\n",
       "    }\n",
       "\n",
       "    .dataframe thead th {\n",
       "        text-align: right;\n",
       "    }\n",
       "</style>\n",
       "<table border=\"1\" class=\"dataframe\">\n",
       "  <thead>\n",
       "    <tr style=\"text-align: right;\">\n",
       "      <th></th>\n",
       "      <th>Unnamed: 0</th>\n",
       "      <th>id</th>\n",
       "      <th>member_id</th>\n",
       "      <th>loan_amnt</th>\n",
       "      <th>funded_amnt</th>\n",
       "      <th>funded_amnt_inv</th>\n",
       "      <th>term</th>\n",
       "      <th>int_rate</th>\n",
       "      <th>installment</th>\n",
       "      <th>grade</th>\n",
       "      <th>sub_grade</th>\n",
       "      <th>emp_title</th>\n",
       "      <th>emp_length</th>\n",
       "      <th>home_ownership</th>\n",
       "      <th>annual_inc</th>\n",
       "      <th>verification_status</th>\n",
       "      <th>issue_d</th>\n",
       "      <th>loan_status</th>\n",
       "      <th>pymnt_plan</th>\n",
       "      <th>url</th>\n",
       "      <th>desc</th>\n",
       "      <th>purpose</th>\n",
       "      <th>title</th>\n",
       "      <th>zip_code</th>\n",
       "      <th>addr_state</th>\n",
       "      <th>dti</th>\n",
       "      <th>delinq_2yrs</th>\n",
       "      <th>earliest_cr_line</th>\n",
       "      <th>inq_last_6mths</th>\n",
       "      <th>mths_since_last_delinq</th>\n",
       "      <th>mths_since_last_record</th>\n",
       "      <th>open_acc</th>\n",
       "      <th>pub_rec</th>\n",
       "      <th>revol_bal</th>\n",
       "      <th>revol_util</th>\n",
       "      <th>total_acc</th>\n",
       "      <th>initial_list_status</th>\n",
       "      <th>out_prncp</th>\n",
       "      <th>out_prncp_inv</th>\n",
       "      <th>total_pymnt</th>\n",
       "      <th>total_pymnt_inv</th>\n",
       "      <th>total_rec_prncp</th>\n",
       "      <th>total_rec_int</th>\n",
       "      <th>total_rec_late_fee</th>\n",
       "      <th>recoveries</th>\n",
       "      <th>collection_recovery_fee</th>\n",
       "      <th>last_pymnt_d</th>\n",
       "      <th>last_pymnt_amnt</th>\n",
       "      <th>next_pymnt_d</th>\n",
       "      <th>last_credit_pull_d</th>\n",
       "      <th>collections_12_mths_ex_med</th>\n",
       "      <th>mths_since_last_major_derog</th>\n",
       "      <th>policy_code</th>\n",
       "      <th>application_type</th>\n",
       "      <th>annual_inc_joint</th>\n",
       "      <th>dti_joint</th>\n",
       "      <th>verification_status_joint</th>\n",
       "      <th>acc_now_delinq</th>\n",
       "      <th>tot_coll_amt</th>\n",
       "      <th>tot_cur_bal</th>\n",
       "      <th>open_acc_6m</th>\n",
       "      <th>open_il_6m</th>\n",
       "      <th>open_il_12m</th>\n",
       "      <th>open_il_24m</th>\n",
       "      <th>mths_since_rcnt_il</th>\n",
       "      <th>total_bal_il</th>\n",
       "      <th>il_util</th>\n",
       "      <th>open_rv_12m</th>\n",
       "      <th>open_rv_24m</th>\n",
       "      <th>max_bal_bc</th>\n",
       "      <th>all_util</th>\n",
       "      <th>total_rev_hi_lim</th>\n",
       "      <th>inq_fi</th>\n",
       "      <th>total_cu_tl</th>\n",
       "      <th>inq_last_12m</th>\n",
       "    </tr>\n",
       "  </thead>\n",
       "  <tbody>\n",
       "    <tr>\n",
       "      <th>0</th>\n",
       "      <td>0</td>\n",
       "      <td>1077501</td>\n",
       "      <td>1296599</td>\n",
       "      <td>5000</td>\n",
       "      <td>5000</td>\n",
       "      <td>4975.0</td>\n",
       "      <td>36 months</td>\n",
       "      <td>10.65</td>\n",
       "      <td>162.87</td>\n",
       "      <td>B</td>\n",
       "      <td>B2</td>\n",
       "      <td>NaN</td>\n",
       "      <td>10+ years</td>\n",
       "      <td>RENT</td>\n",
       "      <td>24000.0</td>\n",
       "      <td>Verified</td>\n",
       "      <td>Dec-11</td>\n",
       "      <td>Fully Paid</td>\n",
       "      <td>n</td>\n",
       "      <td>https://www.lend...</td>\n",
       "      <td>Borrower added...</td>\n",
       "      <td>credit_card</td>\n",
       "      <td>Computer</td>\n",
       "      <td>860xx</td>\n",
       "      <td>AZ</td>\n",
       "      <td>27.65</td>\n",
       "      <td>0.0</td>\n",
       "      <td>Jan-85</td>\n",
       "      <td>1.0</td>\n",
       "      <td>NaN</td>\n",
       "      <td>NaN</td>\n",
       "      <td>3.0</td>\n",
       "      <td>0.0</td>\n",
       "      <td>13648</td>\n",
       "      <td>83.7</td>\n",
       "      <td>9.0</td>\n",
       "      <td>f</td>\n",
       "      <td>0.0</td>\n",
       "      <td>0.0</td>\n",
       "      <td>5861.071414</td>\n",
       "      <td>5831.78</td>\n",
       "      <td>5000.00</td>\n",
       "      <td>861.07</td>\n",
       "      <td>0.00</td>\n",
       "      <td>0.00</td>\n",
       "      <td>0.00</td>\n",
       "      <td>Jan-15</td>\n",
       "      <td>171.62</td>\n",
       "      <td>NaN</td>\n",
       "      <td>Jan-16</td>\n",
       "      <td>0.0</td>\n",
       "      <td>NaN</td>\n",
       "      <td>1</td>\n",
       "      <td>INDIVIDUAL</td>\n",
       "      <td>NaN</td>\n",
       "      <td>NaN</td>\n",
       "      <td>NaN</td>\n",
       "      <td>0.0</td>\n",
       "      <td>NaN</td>\n",
       "      <td>NaN</td>\n",
       "      <td>NaN</td>\n",
       "      <td>NaN</td>\n",
       "      <td>NaN</td>\n",
       "      <td>NaN</td>\n",
       "      <td>NaN</td>\n",
       "      <td>NaN</td>\n",
       "      <td>NaN</td>\n",
       "      <td>NaN</td>\n",
       "      <td>NaN</td>\n",
       "      <td>NaN</td>\n",
       "      <td>NaN</td>\n",
       "      <td>NaN</td>\n",
       "      <td>NaN</td>\n",
       "      <td>NaN</td>\n",
       "      <td>NaN</td>\n",
       "    </tr>\n",
       "    <tr>\n",
       "      <th>1</th>\n",
       "      <td>1</td>\n",
       "      <td>1077430</td>\n",
       "      <td>1314167</td>\n",
       "      <td>2500</td>\n",
       "      <td>2500</td>\n",
       "      <td>2500.0</td>\n",
       "      <td>60 months</td>\n",
       "      <td>15.27</td>\n",
       "      <td>59.83</td>\n",
       "      <td>C</td>\n",
       "      <td>C4</td>\n",
       "      <td>Ryder</td>\n",
       "      <td>&lt; 1 year</td>\n",
       "      <td>RENT</td>\n",
       "      <td>30000.0</td>\n",
       "      <td>Source Verified</td>\n",
       "      <td>Dec-11</td>\n",
       "      <td>Charged Off</td>\n",
       "      <td>n</td>\n",
       "      <td>https://www.lend...</td>\n",
       "      <td>Borrower added...</td>\n",
       "      <td>car</td>\n",
       "      <td>bike</td>\n",
       "      <td>309xx</td>\n",
       "      <td>GA</td>\n",
       "      <td>1.00</td>\n",
       "      <td>0.0</td>\n",
       "      <td>Apr-99</td>\n",
       "      <td>5.0</td>\n",
       "      <td>NaN</td>\n",
       "      <td>NaN</td>\n",
       "      <td>3.0</td>\n",
       "      <td>0.0</td>\n",
       "      <td>1687</td>\n",
       "      <td>9.4</td>\n",
       "      <td>4.0</td>\n",
       "      <td>f</td>\n",
       "      <td>0.0</td>\n",
       "      <td>0.0</td>\n",
       "      <td>1008.710000</td>\n",
       "      <td>1008.71</td>\n",
       "      <td>456.46</td>\n",
       "      <td>435.17</td>\n",
       "      <td>0.00</td>\n",
       "      <td>117.08</td>\n",
       "      <td>1.11</td>\n",
       "      <td>Apr-13</td>\n",
       "      <td>119.66</td>\n",
       "      <td>NaN</td>\n",
       "      <td>Sep-13</td>\n",
       "      <td>0.0</td>\n",
       "      <td>NaN</td>\n",
       "      <td>1</td>\n",
       "      <td>INDIVIDUAL</td>\n",
       "      <td>NaN</td>\n",
       "      <td>NaN</td>\n",
       "      <td>NaN</td>\n",
       "      <td>0.0</td>\n",
       "      <td>NaN</td>\n",
       "      <td>NaN</td>\n",
       "      <td>NaN</td>\n",
       "      <td>NaN</td>\n",
       "      <td>NaN</td>\n",
       "      <td>NaN</td>\n",
       "      <td>NaN</td>\n",
       "      <td>NaN</td>\n",
       "      <td>NaN</td>\n",
       "      <td>NaN</td>\n",
       "      <td>NaN</td>\n",
       "      <td>NaN</td>\n",
       "      <td>NaN</td>\n",
       "      <td>NaN</td>\n",
       "      <td>NaN</td>\n",
       "      <td>NaN</td>\n",
       "      <td>NaN</td>\n",
       "    </tr>\n",
       "    <tr>\n",
       "      <th>2</th>\n",
       "      <td>2</td>\n",
       "      <td>1077175</td>\n",
       "      <td>1313524</td>\n",
       "      <td>2400</td>\n",
       "      <td>2400</td>\n",
       "      <td>2400.0</td>\n",
       "      <td>36 months</td>\n",
       "      <td>15.96</td>\n",
       "      <td>84.33</td>\n",
       "      <td>C</td>\n",
       "      <td>C5</td>\n",
       "      <td>NaN</td>\n",
       "      <td>10+ years</td>\n",
       "      <td>RENT</td>\n",
       "      <td>12252.0</td>\n",
       "      <td>Not Verified</td>\n",
       "      <td>Dec-11</td>\n",
       "      <td>Fully Paid</td>\n",
       "      <td>n</td>\n",
       "      <td>https://www.lend...</td>\n",
       "      <td>NaN</td>\n",
       "      <td>small_business</td>\n",
       "      <td>real estate busi...</td>\n",
       "      <td>606xx</td>\n",
       "      <td>IL</td>\n",
       "      <td>8.72</td>\n",
       "      <td>0.0</td>\n",
       "      <td>Nov-01</td>\n",
       "      <td>2.0</td>\n",
       "      <td>NaN</td>\n",
       "      <td>NaN</td>\n",
       "      <td>2.0</td>\n",
       "      <td>0.0</td>\n",
       "      <td>2956</td>\n",
       "      <td>98.5</td>\n",
       "      <td>10.0</td>\n",
       "      <td>f</td>\n",
       "      <td>0.0</td>\n",
       "      <td>0.0</td>\n",
       "      <td>3003.653644</td>\n",
       "      <td>3003.65</td>\n",
       "      <td>2400.00</td>\n",
       "      <td>603.65</td>\n",
       "      <td>0.00</td>\n",
       "      <td>0.00</td>\n",
       "      <td>0.00</td>\n",
       "      <td>Jun-14</td>\n",
       "      <td>649.91</td>\n",
       "      <td>NaN</td>\n",
       "      <td>Jan-16</td>\n",
       "      <td>0.0</td>\n",
       "      <td>NaN</td>\n",
       "      <td>1</td>\n",
       "      <td>INDIVIDUAL</td>\n",
       "      <td>NaN</td>\n",
       "      <td>NaN</td>\n",
       "      <td>NaN</td>\n",
       "      <td>0.0</td>\n",
       "      <td>NaN</td>\n",
       "      <td>NaN</td>\n",
       "      <td>NaN</td>\n",
       "      <td>NaN</td>\n",
       "      <td>NaN</td>\n",
       "      <td>NaN</td>\n",
       "      <td>NaN</td>\n",
       "      <td>NaN</td>\n",
       "      <td>NaN</td>\n",
       "      <td>NaN</td>\n",
       "      <td>NaN</td>\n",
       "      <td>NaN</td>\n",
       "      <td>NaN</td>\n",
       "      <td>NaN</td>\n",
       "      <td>NaN</td>\n",
       "      <td>NaN</td>\n",
       "      <td>NaN</td>\n",
       "    </tr>\n",
       "    <tr>\n",
       "      <th>3</th>\n",
       "      <td>3</td>\n",
       "      <td>1076863</td>\n",
       "      <td>1277178</td>\n",
       "      <td>10000</td>\n",
       "      <td>10000</td>\n",
       "      <td>10000.0</td>\n",
       "      <td>36 months</td>\n",
       "      <td>13.49</td>\n",
       "      <td>339.31</td>\n",
       "      <td>C</td>\n",
       "      <td>C1</td>\n",
       "      <td>AIR RESOURCES BOARD</td>\n",
       "      <td>10+ years</td>\n",
       "      <td>RENT</td>\n",
       "      <td>49200.0</td>\n",
       "      <td>Source Verified</td>\n",
       "      <td>Dec-11</td>\n",
       "      <td>Fully Paid</td>\n",
       "      <td>n</td>\n",
       "      <td>https://www.lend...</td>\n",
       "      <td>Borrower added...</td>\n",
       "      <td>other</td>\n",
       "      <td>personel</td>\n",
       "      <td>917xx</td>\n",
       "      <td>CA</td>\n",
       "      <td>20.00</td>\n",
       "      <td>0.0</td>\n",
       "      <td>Feb-96</td>\n",
       "      <td>1.0</td>\n",
       "      <td>35.0</td>\n",
       "      <td>NaN</td>\n",
       "      <td>10.0</td>\n",
       "      <td>0.0</td>\n",
       "      <td>5598</td>\n",
       "      <td>21.0</td>\n",
       "      <td>37.0</td>\n",
       "      <td>f</td>\n",
       "      <td>0.0</td>\n",
       "      <td>0.0</td>\n",
       "      <td>12226.302210</td>\n",
       "      <td>12226.30</td>\n",
       "      <td>10000.00</td>\n",
       "      <td>2209.33</td>\n",
       "      <td>16.97</td>\n",
       "      <td>0.00</td>\n",
       "      <td>0.00</td>\n",
       "      <td>Jan-15</td>\n",
       "      <td>357.48</td>\n",
       "      <td>NaN</td>\n",
       "      <td>Jan-15</td>\n",
       "      <td>0.0</td>\n",
       "      <td>NaN</td>\n",
       "      <td>1</td>\n",
       "      <td>INDIVIDUAL</td>\n",
       "      <td>NaN</td>\n",
       "      <td>NaN</td>\n",
       "      <td>NaN</td>\n",
       "      <td>0.0</td>\n",
       "      <td>NaN</td>\n",
       "      <td>NaN</td>\n",
       "      <td>NaN</td>\n",
       "      <td>NaN</td>\n",
       "      <td>NaN</td>\n",
       "      <td>NaN</td>\n",
       "      <td>NaN</td>\n",
       "      <td>NaN</td>\n",
       "      <td>NaN</td>\n",
       "      <td>NaN</td>\n",
       "      <td>NaN</td>\n",
       "      <td>NaN</td>\n",
       "      <td>NaN</td>\n",
       "      <td>NaN</td>\n",
       "      <td>NaN</td>\n",
       "      <td>NaN</td>\n",
       "      <td>NaN</td>\n",
       "    </tr>\n",
       "    <tr>\n",
       "      <th>4</th>\n",
       "      <td>4</td>\n",
       "      <td>1075358</td>\n",
       "      <td>1311748</td>\n",
       "      <td>3000</td>\n",
       "      <td>3000</td>\n",
       "      <td>3000.0</td>\n",
       "      <td>60 months</td>\n",
       "      <td>12.69</td>\n",
       "      <td>67.79</td>\n",
       "      <td>B</td>\n",
       "      <td>B5</td>\n",
       "      <td>University Medic...</td>\n",
       "      <td>1 year</td>\n",
       "      <td>RENT</td>\n",
       "      <td>80000.0</td>\n",
       "      <td>Source Verified</td>\n",
       "      <td>Dec-11</td>\n",
       "      <td>Current</td>\n",
       "      <td>n</td>\n",
       "      <td>https://www.lend...</td>\n",
       "      <td>Borrower added...</td>\n",
       "      <td>other</td>\n",
       "      <td>Personal</td>\n",
       "      <td>972xx</td>\n",
       "      <td>OR</td>\n",
       "      <td>17.94</td>\n",
       "      <td>0.0</td>\n",
       "      <td>Jan-96</td>\n",
       "      <td>0.0</td>\n",
       "      <td>38.0</td>\n",
       "      <td>NaN</td>\n",
       "      <td>15.0</td>\n",
       "      <td>0.0</td>\n",
       "      <td>27783</td>\n",
       "      <td>53.9</td>\n",
       "      <td>38.0</td>\n",
       "      <td>f</td>\n",
       "      <td>766.9</td>\n",
       "      <td>766.9</td>\n",
       "      <td>3242.170000</td>\n",
       "      <td>3242.17</td>\n",
       "      <td>2233.10</td>\n",
       "      <td>1009.07</td>\n",
       "      <td>0.00</td>\n",
       "      <td>0.00</td>\n",
       "      <td>0.00</td>\n",
       "      <td>Jan-16</td>\n",
       "      <td>67.79</td>\n",
       "      <td>Feb-16</td>\n",
       "      <td>Jan-16</td>\n",
       "      <td>0.0</td>\n",
       "      <td>NaN</td>\n",
       "      <td>1</td>\n",
       "      <td>INDIVIDUAL</td>\n",
       "      <td>NaN</td>\n",
       "      <td>NaN</td>\n",
       "      <td>NaN</td>\n",
       "      <td>0.0</td>\n",
       "      <td>NaN</td>\n",
       "      <td>NaN</td>\n",
       "      <td>NaN</td>\n",
       "      <td>NaN</td>\n",
       "      <td>NaN</td>\n",
       "      <td>NaN</td>\n",
       "      <td>NaN</td>\n",
       "      <td>NaN</td>\n",
       "      <td>NaN</td>\n",
       "      <td>NaN</td>\n",
       "      <td>NaN</td>\n",
       "      <td>NaN</td>\n",
       "      <td>NaN</td>\n",
       "      <td>NaN</td>\n",
       "      <td>NaN</td>\n",
       "      <td>NaN</td>\n",
       "      <td>NaN</td>\n",
       "    </tr>\n",
       "  </tbody>\n",
       "</table>\n",
       "</div>"
      ],
      "text/plain": [
       "   Unnamed: 0       id  member_id  loan_amnt  funded_amnt  funded_amnt_inv  \\\n",
       "0           0  1077501    1296599       5000         5000           4975.0   \n",
       "1           1  1077430    1314167       2500         2500           2500.0   \n",
       "2           2  1077175    1313524       2400         2400           2400.0   \n",
       "3           3  1076863    1277178      10000        10000          10000.0   \n",
       "4           4  1075358    1311748       3000         3000           3000.0   \n",
       "\n",
       "         term  int_rate  installment grade sub_grade            emp_title  \\\n",
       "0   36 months     10.65       162.87     B        B2                  NaN   \n",
       "1   60 months     15.27        59.83     C        C4                Ryder   \n",
       "2   36 months     15.96        84.33     C        C5                  NaN   \n",
       "3   36 months     13.49       339.31     C        C1  AIR RESOURCES BOARD   \n",
       "4   60 months     12.69        67.79     B        B5  University Medic...   \n",
       "\n",
       "  emp_length home_ownership  annual_inc verification_status issue_d  \\\n",
       "0  10+ years           RENT     24000.0            Verified  Dec-11   \n",
       "1   < 1 year           RENT     30000.0     Source Verified  Dec-11   \n",
       "2  10+ years           RENT     12252.0        Not Verified  Dec-11   \n",
       "3  10+ years           RENT     49200.0     Source Verified  Dec-11   \n",
       "4     1 year           RENT     80000.0     Source Verified  Dec-11   \n",
       "\n",
       "   loan_status pymnt_plan                  url                 desc  \\\n",
       "0   Fully Paid          n  https://www.lend...    Borrower added...   \n",
       "1  Charged Off          n  https://www.lend...    Borrower added...   \n",
       "2   Fully Paid          n  https://www.lend...                  NaN   \n",
       "3   Fully Paid          n  https://www.lend...    Borrower added...   \n",
       "4      Current          n  https://www.lend...    Borrower added...   \n",
       "\n",
       "          purpose                title zip_code addr_state    dti  \\\n",
       "0     credit_card             Computer    860xx         AZ  27.65   \n",
       "1             car                 bike    309xx         GA   1.00   \n",
       "2  small_business  real estate busi...    606xx         IL   8.72   \n",
       "3           other             personel    917xx         CA  20.00   \n",
       "4           other             Personal    972xx         OR  17.94   \n",
       "\n",
       "   delinq_2yrs earliest_cr_line  inq_last_6mths  mths_since_last_delinq  \\\n",
       "0          0.0           Jan-85             1.0                  NaN      \n",
       "1          0.0           Apr-99             5.0                  NaN      \n",
       "2          0.0           Nov-01             2.0                  NaN      \n",
       "3          0.0           Feb-96             1.0                 35.0      \n",
       "4          0.0           Jan-96             0.0                 38.0      \n",
       "\n",
       "   mths_since_last_record  open_acc  pub_rec  revol_bal  revol_util  \\\n",
       "0                  NaN          3.0      0.0      13648        83.7   \n",
       "1                  NaN          3.0      0.0       1687         9.4   \n",
       "2                  NaN          2.0      0.0       2956        98.5   \n",
       "3                  NaN         10.0      0.0       5598        21.0   \n",
       "4                  NaN         15.0      0.0      27783        53.9   \n",
       "\n",
       "   total_acc initial_list_status  out_prncp  out_prncp_inv   total_pymnt  \\\n",
       "0        9.0                   f        0.0            0.0   5861.071414   \n",
       "1        4.0                   f        0.0            0.0   1008.710000   \n",
       "2       10.0                   f        0.0            0.0   3003.653644   \n",
       "3       37.0                   f        0.0            0.0  12226.302210   \n",
       "4       38.0                   f      766.9          766.9   3242.170000   \n",
       "\n",
       "   total_pymnt_inv  total_rec_prncp  total_rec_int  total_rec_late_fee  \\\n",
       "0          5831.78          5000.00         861.07                0.00   \n",
       "1          1008.71           456.46         435.17                0.00   \n",
       "2          3003.65          2400.00         603.65                0.00   \n",
       "3         12226.30         10000.00        2209.33               16.97   \n",
       "4          3242.17          2233.10        1009.07                0.00   \n",
       "\n",
       "   recoveries  collection_recovery_fee last_pymnt_d  last_pymnt_amnt  \\\n",
       "0        0.00                 0.00           Jan-15           171.62   \n",
       "1      117.08                 1.11           Apr-13           119.66   \n",
       "2        0.00                 0.00           Jun-14           649.91   \n",
       "3        0.00                 0.00           Jan-15           357.48   \n",
       "4        0.00                 0.00           Jan-16            67.79   \n",
       "\n",
       "  next_pymnt_d last_credit_pull_d  collections_12_mths_ex_med  \\\n",
       "0          NaN             Jan-16                  0.0          \n",
       "1          NaN             Sep-13                  0.0          \n",
       "2          NaN             Jan-16                  0.0          \n",
       "3          NaN             Jan-15                  0.0          \n",
       "4       Feb-16             Jan-16                  0.0          \n",
       "\n",
       "   mths_since_last_major_derog  policy_code application_type  \\\n",
       "0                  NaN                    1       INDIVIDUAL   \n",
       "1                  NaN                    1       INDIVIDUAL   \n",
       "2                  NaN                    1       INDIVIDUAL   \n",
       "3                  NaN                    1       INDIVIDUAL   \n",
       "4                  NaN                    1       INDIVIDUAL   \n",
       "\n",
       "   annual_inc_joint  dti_joint  verification_status_joint  acc_now_delinq  \\\n",
       "0               NaN        NaN                  NaN                   0.0   \n",
       "1               NaN        NaN                  NaN                   0.0   \n",
       "2               NaN        NaN                  NaN                   0.0   \n",
       "3               NaN        NaN                  NaN                   0.0   \n",
       "4               NaN        NaN                  NaN                   0.0   \n",
       "\n",
       "   tot_coll_amt  tot_cur_bal  open_acc_6m  open_il_6m  open_il_12m  \\\n",
       "0           NaN          NaN          NaN         NaN          NaN   \n",
       "1           NaN          NaN          NaN         NaN          NaN   \n",
       "2           NaN          NaN          NaN         NaN          NaN   \n",
       "3           NaN          NaN          NaN         NaN          NaN   \n",
       "4           NaN          NaN          NaN         NaN          NaN   \n",
       "\n",
       "   open_il_24m  mths_since_rcnt_il  total_bal_il  il_util  open_rv_12m  \\\n",
       "0          NaN                 NaN           NaN      NaN          NaN   \n",
       "1          NaN                 NaN           NaN      NaN          NaN   \n",
       "2          NaN                 NaN           NaN      NaN          NaN   \n",
       "3          NaN                 NaN           NaN      NaN          NaN   \n",
       "4          NaN                 NaN           NaN      NaN          NaN   \n",
       "\n",
       "   open_rv_24m  max_bal_bc  all_util  total_rev_hi_lim  inq_fi  total_cu_tl  \\\n",
       "0          NaN         NaN       NaN               NaN     NaN          NaN   \n",
       "1          NaN         NaN       NaN               NaN     NaN          NaN   \n",
       "2          NaN         NaN       NaN               NaN     NaN          NaN   \n",
       "3          NaN         NaN       NaN               NaN     NaN          NaN   \n",
       "4          NaN         NaN       NaN               NaN     NaN          NaN   \n",
       "\n",
       "   inq_last_12m  \n",
       "0           NaN  \n",
       "1           NaN  \n",
       "2           NaN  \n",
       "3           NaN  \n",
       "4           NaN  "
      ]
     },
     "execution_count": 8,
     "metadata": {},
     "output_type": "execute_result"
    }
   ],
   "source": [
    "# 数据头\n",
    "pd.options.display.max_columns = None # 显示全部列，不压缩显示\n",
    "pd.set_option('max_colwidth', 20)\n",
    "df_bk.head()"
   ]
  },
  {
   "cell_type": "code",
   "execution_count": 9,
   "metadata": {},
   "outputs": [
    {
     "data": {
      "text/html": [
       "<div>\n",
       "<style scoped>\n",
       "    .dataframe tbody tr th:only-of-type {\n",
       "        vertical-align: middle;\n",
       "    }\n",
       "\n",
       "    .dataframe tbody tr th {\n",
       "        vertical-align: top;\n",
       "    }\n",
       "\n",
       "    .dataframe thead th {\n",
       "        text-align: right;\n",
       "    }\n",
       "</style>\n",
       "<table border=\"1\" class=\"dataframe\">\n",
       "  <thead>\n",
       "    <tr style=\"text-align: right;\">\n",
       "      <th></th>\n",
       "      <th>loan_amnt</th>\n",
       "      <th>funded_amnt</th>\n",
       "      <th>funded_amnt_inv</th>\n",
       "      <th>term</th>\n",
       "      <th>int_rate</th>\n",
       "      <th>installment</th>\n",
       "      <th>grade</th>\n",
       "      <th>sub_grade</th>\n",
       "      <th>emp_title</th>\n",
       "      <th>emp_length</th>\n",
       "      <th>home_ownership</th>\n",
       "      <th>annual_inc</th>\n",
       "      <th>verification_status</th>\n",
       "      <th>issue_d</th>\n",
       "      <th>loan_status</th>\n",
       "      <th>pymnt_plan</th>\n",
       "      <th>url</th>\n",
       "      <th>desc</th>\n",
       "      <th>purpose</th>\n",
       "      <th>title</th>\n",
       "      <th>zip_code</th>\n",
       "      <th>addr_state</th>\n",
       "      <th>dti</th>\n",
       "      <th>delinq_2yrs</th>\n",
       "      <th>earliest_cr_line</th>\n",
       "      <th>inq_last_6mths</th>\n",
       "      <th>mths_since_last_delinq</th>\n",
       "      <th>mths_since_last_record</th>\n",
       "      <th>open_acc</th>\n",
       "      <th>pub_rec</th>\n",
       "      <th>revol_bal</th>\n",
       "      <th>revol_util</th>\n",
       "      <th>total_acc</th>\n",
       "      <th>initial_list_status</th>\n",
       "      <th>out_prncp</th>\n",
       "      <th>out_prncp_inv</th>\n",
       "      <th>total_pymnt</th>\n",
       "      <th>total_pymnt_inv</th>\n",
       "      <th>total_rec_prncp</th>\n",
       "      <th>total_rec_int</th>\n",
       "      <th>total_rec_late_fee</th>\n",
       "      <th>recoveries</th>\n",
       "      <th>collection_recovery_fee</th>\n",
       "      <th>last_pymnt_d</th>\n",
       "      <th>last_pymnt_amnt</th>\n",
       "      <th>next_pymnt_d</th>\n",
       "      <th>last_credit_pull_d</th>\n",
       "      <th>collections_12_mths_ex_med</th>\n",
       "      <th>mths_since_last_major_derog</th>\n",
       "      <th>policy_code</th>\n",
       "      <th>application_type</th>\n",
       "      <th>annual_inc_joint</th>\n",
       "      <th>dti_joint</th>\n",
       "      <th>verification_status_joint</th>\n",
       "      <th>acc_now_delinq</th>\n",
       "      <th>tot_coll_amt</th>\n",
       "      <th>tot_cur_bal</th>\n",
       "      <th>open_acc_6m</th>\n",
       "      <th>open_il_6m</th>\n",
       "      <th>open_il_12m</th>\n",
       "      <th>open_il_24m</th>\n",
       "      <th>mths_since_rcnt_il</th>\n",
       "      <th>total_bal_il</th>\n",
       "      <th>il_util</th>\n",
       "      <th>open_rv_12m</th>\n",
       "      <th>open_rv_24m</th>\n",
       "      <th>max_bal_bc</th>\n",
       "      <th>all_util</th>\n",
       "      <th>total_rev_hi_lim</th>\n",
       "      <th>inq_fi</th>\n",
       "      <th>total_cu_tl</th>\n",
       "      <th>inq_last_12m</th>\n",
       "    </tr>\n",
       "  </thead>\n",
       "  <tbody>\n",
       "    <tr>\n",
       "      <th>0</th>\n",
       "      <td>5000</td>\n",
       "      <td>5000</td>\n",
       "      <td>4975.0</td>\n",
       "      <td>36 months</td>\n",
       "      <td>10.65</td>\n",
       "      <td>162.87</td>\n",
       "      <td>B</td>\n",
       "      <td>B2</td>\n",
       "      <td>NaN</td>\n",
       "      <td>10+ years</td>\n",
       "      <td>RENT</td>\n",
       "      <td>24000.0</td>\n",
       "      <td>Verified</td>\n",
       "      <td>Dec-11</td>\n",
       "      <td>Fully Paid</td>\n",
       "      <td>n</td>\n",
       "      <td>https://www.lend...</td>\n",
       "      <td>Borrower added...</td>\n",
       "      <td>credit_card</td>\n",
       "      <td>Computer</td>\n",
       "      <td>860xx</td>\n",
       "      <td>AZ</td>\n",
       "      <td>27.65</td>\n",
       "      <td>0.0</td>\n",
       "      <td>Jan-85</td>\n",
       "      <td>1.0</td>\n",
       "      <td>NaN</td>\n",
       "      <td>NaN</td>\n",
       "      <td>3.0</td>\n",
       "      <td>0.0</td>\n",
       "      <td>13648</td>\n",
       "      <td>83.7</td>\n",
       "      <td>9.0</td>\n",
       "      <td>f</td>\n",
       "      <td>0.0</td>\n",
       "      <td>0.0</td>\n",
       "      <td>5861.071414</td>\n",
       "      <td>5831.78</td>\n",
       "      <td>5000.00</td>\n",
       "      <td>861.07</td>\n",
       "      <td>0.00</td>\n",
       "      <td>0.00</td>\n",
       "      <td>0.00</td>\n",
       "      <td>Jan-15</td>\n",
       "      <td>171.62</td>\n",
       "      <td>NaN</td>\n",
       "      <td>Jan-16</td>\n",
       "      <td>0.0</td>\n",
       "      <td>NaN</td>\n",
       "      <td>1</td>\n",
       "      <td>INDIVIDUAL</td>\n",
       "      <td>NaN</td>\n",
       "      <td>NaN</td>\n",
       "      <td>NaN</td>\n",
       "      <td>0.0</td>\n",
       "      <td>NaN</td>\n",
       "      <td>NaN</td>\n",
       "      <td>NaN</td>\n",
       "      <td>NaN</td>\n",
       "      <td>NaN</td>\n",
       "      <td>NaN</td>\n",
       "      <td>NaN</td>\n",
       "      <td>NaN</td>\n",
       "      <td>NaN</td>\n",
       "      <td>NaN</td>\n",
       "      <td>NaN</td>\n",
       "      <td>NaN</td>\n",
       "      <td>NaN</td>\n",
       "      <td>NaN</td>\n",
       "      <td>NaN</td>\n",
       "      <td>NaN</td>\n",
       "      <td>NaN</td>\n",
       "    </tr>\n",
       "    <tr>\n",
       "      <th>1</th>\n",
       "      <td>2500</td>\n",
       "      <td>2500</td>\n",
       "      <td>2500.0</td>\n",
       "      <td>60 months</td>\n",
       "      <td>15.27</td>\n",
       "      <td>59.83</td>\n",
       "      <td>C</td>\n",
       "      <td>C4</td>\n",
       "      <td>Ryder</td>\n",
       "      <td>&lt; 1 year</td>\n",
       "      <td>RENT</td>\n",
       "      <td>30000.0</td>\n",
       "      <td>Source Verified</td>\n",
       "      <td>Dec-11</td>\n",
       "      <td>Charged Off</td>\n",
       "      <td>n</td>\n",
       "      <td>https://www.lend...</td>\n",
       "      <td>Borrower added...</td>\n",
       "      <td>car</td>\n",
       "      <td>bike</td>\n",
       "      <td>309xx</td>\n",
       "      <td>GA</td>\n",
       "      <td>1.00</td>\n",
       "      <td>0.0</td>\n",
       "      <td>Apr-99</td>\n",
       "      <td>5.0</td>\n",
       "      <td>NaN</td>\n",
       "      <td>NaN</td>\n",
       "      <td>3.0</td>\n",
       "      <td>0.0</td>\n",
       "      <td>1687</td>\n",
       "      <td>9.4</td>\n",
       "      <td>4.0</td>\n",
       "      <td>f</td>\n",
       "      <td>0.0</td>\n",
       "      <td>0.0</td>\n",
       "      <td>1008.710000</td>\n",
       "      <td>1008.71</td>\n",
       "      <td>456.46</td>\n",
       "      <td>435.17</td>\n",
       "      <td>0.00</td>\n",
       "      <td>117.08</td>\n",
       "      <td>1.11</td>\n",
       "      <td>Apr-13</td>\n",
       "      <td>119.66</td>\n",
       "      <td>NaN</td>\n",
       "      <td>Sep-13</td>\n",
       "      <td>0.0</td>\n",
       "      <td>NaN</td>\n",
       "      <td>1</td>\n",
       "      <td>INDIVIDUAL</td>\n",
       "      <td>NaN</td>\n",
       "      <td>NaN</td>\n",
       "      <td>NaN</td>\n",
       "      <td>0.0</td>\n",
       "      <td>NaN</td>\n",
       "      <td>NaN</td>\n",
       "      <td>NaN</td>\n",
       "      <td>NaN</td>\n",
       "      <td>NaN</td>\n",
       "      <td>NaN</td>\n",
       "      <td>NaN</td>\n",
       "      <td>NaN</td>\n",
       "      <td>NaN</td>\n",
       "      <td>NaN</td>\n",
       "      <td>NaN</td>\n",
       "      <td>NaN</td>\n",
       "      <td>NaN</td>\n",
       "      <td>NaN</td>\n",
       "      <td>NaN</td>\n",
       "      <td>NaN</td>\n",
       "      <td>NaN</td>\n",
       "    </tr>\n",
       "    <tr>\n",
       "      <th>2</th>\n",
       "      <td>2400</td>\n",
       "      <td>2400</td>\n",
       "      <td>2400.0</td>\n",
       "      <td>36 months</td>\n",
       "      <td>15.96</td>\n",
       "      <td>84.33</td>\n",
       "      <td>C</td>\n",
       "      <td>C5</td>\n",
       "      <td>NaN</td>\n",
       "      <td>10+ years</td>\n",
       "      <td>RENT</td>\n",
       "      <td>12252.0</td>\n",
       "      <td>Not Verified</td>\n",
       "      <td>Dec-11</td>\n",
       "      <td>Fully Paid</td>\n",
       "      <td>n</td>\n",
       "      <td>https://www.lend...</td>\n",
       "      <td>NaN</td>\n",
       "      <td>small_business</td>\n",
       "      <td>real estate busi...</td>\n",
       "      <td>606xx</td>\n",
       "      <td>IL</td>\n",
       "      <td>8.72</td>\n",
       "      <td>0.0</td>\n",
       "      <td>Nov-01</td>\n",
       "      <td>2.0</td>\n",
       "      <td>NaN</td>\n",
       "      <td>NaN</td>\n",
       "      <td>2.0</td>\n",
       "      <td>0.0</td>\n",
       "      <td>2956</td>\n",
       "      <td>98.5</td>\n",
       "      <td>10.0</td>\n",
       "      <td>f</td>\n",
       "      <td>0.0</td>\n",
       "      <td>0.0</td>\n",
       "      <td>3003.653644</td>\n",
       "      <td>3003.65</td>\n",
       "      <td>2400.00</td>\n",
       "      <td>603.65</td>\n",
       "      <td>0.00</td>\n",
       "      <td>0.00</td>\n",
       "      <td>0.00</td>\n",
       "      <td>Jun-14</td>\n",
       "      <td>649.91</td>\n",
       "      <td>NaN</td>\n",
       "      <td>Jan-16</td>\n",
       "      <td>0.0</td>\n",
       "      <td>NaN</td>\n",
       "      <td>1</td>\n",
       "      <td>INDIVIDUAL</td>\n",
       "      <td>NaN</td>\n",
       "      <td>NaN</td>\n",
       "      <td>NaN</td>\n",
       "      <td>0.0</td>\n",
       "      <td>NaN</td>\n",
       "      <td>NaN</td>\n",
       "      <td>NaN</td>\n",
       "      <td>NaN</td>\n",
       "      <td>NaN</td>\n",
       "      <td>NaN</td>\n",
       "      <td>NaN</td>\n",
       "      <td>NaN</td>\n",
       "      <td>NaN</td>\n",
       "      <td>NaN</td>\n",
       "      <td>NaN</td>\n",
       "      <td>NaN</td>\n",
       "      <td>NaN</td>\n",
       "      <td>NaN</td>\n",
       "      <td>NaN</td>\n",
       "      <td>NaN</td>\n",
       "      <td>NaN</td>\n",
       "    </tr>\n",
       "    <tr>\n",
       "      <th>3</th>\n",
       "      <td>10000</td>\n",
       "      <td>10000</td>\n",
       "      <td>10000.0</td>\n",
       "      <td>36 months</td>\n",
       "      <td>13.49</td>\n",
       "      <td>339.31</td>\n",
       "      <td>C</td>\n",
       "      <td>C1</td>\n",
       "      <td>AIR RESOURCES BOARD</td>\n",
       "      <td>10+ years</td>\n",
       "      <td>RENT</td>\n",
       "      <td>49200.0</td>\n",
       "      <td>Source Verified</td>\n",
       "      <td>Dec-11</td>\n",
       "      <td>Fully Paid</td>\n",
       "      <td>n</td>\n",
       "      <td>https://www.lend...</td>\n",
       "      <td>Borrower added...</td>\n",
       "      <td>other</td>\n",
       "      <td>personel</td>\n",
       "      <td>917xx</td>\n",
       "      <td>CA</td>\n",
       "      <td>20.00</td>\n",
       "      <td>0.0</td>\n",
       "      <td>Feb-96</td>\n",
       "      <td>1.0</td>\n",
       "      <td>35.0</td>\n",
       "      <td>NaN</td>\n",
       "      <td>10.0</td>\n",
       "      <td>0.0</td>\n",
       "      <td>5598</td>\n",
       "      <td>21.0</td>\n",
       "      <td>37.0</td>\n",
       "      <td>f</td>\n",
       "      <td>0.0</td>\n",
       "      <td>0.0</td>\n",
       "      <td>12226.302210</td>\n",
       "      <td>12226.30</td>\n",
       "      <td>10000.00</td>\n",
       "      <td>2209.33</td>\n",
       "      <td>16.97</td>\n",
       "      <td>0.00</td>\n",
       "      <td>0.00</td>\n",
       "      <td>Jan-15</td>\n",
       "      <td>357.48</td>\n",
       "      <td>NaN</td>\n",
       "      <td>Jan-15</td>\n",
       "      <td>0.0</td>\n",
       "      <td>NaN</td>\n",
       "      <td>1</td>\n",
       "      <td>INDIVIDUAL</td>\n",
       "      <td>NaN</td>\n",
       "      <td>NaN</td>\n",
       "      <td>NaN</td>\n",
       "      <td>0.0</td>\n",
       "      <td>NaN</td>\n",
       "      <td>NaN</td>\n",
       "      <td>NaN</td>\n",
       "      <td>NaN</td>\n",
       "      <td>NaN</td>\n",
       "      <td>NaN</td>\n",
       "      <td>NaN</td>\n",
       "      <td>NaN</td>\n",
       "      <td>NaN</td>\n",
       "      <td>NaN</td>\n",
       "      <td>NaN</td>\n",
       "      <td>NaN</td>\n",
       "      <td>NaN</td>\n",
       "      <td>NaN</td>\n",
       "      <td>NaN</td>\n",
       "      <td>NaN</td>\n",
       "      <td>NaN</td>\n",
       "    </tr>\n",
       "    <tr>\n",
       "      <th>4</th>\n",
       "      <td>3000</td>\n",
       "      <td>3000</td>\n",
       "      <td>3000.0</td>\n",
       "      <td>60 months</td>\n",
       "      <td>12.69</td>\n",
       "      <td>67.79</td>\n",
       "      <td>B</td>\n",
       "      <td>B5</td>\n",
       "      <td>University Medic...</td>\n",
       "      <td>1 year</td>\n",
       "      <td>RENT</td>\n",
       "      <td>80000.0</td>\n",
       "      <td>Source Verified</td>\n",
       "      <td>Dec-11</td>\n",
       "      <td>Current</td>\n",
       "      <td>n</td>\n",
       "      <td>https://www.lend...</td>\n",
       "      <td>Borrower added...</td>\n",
       "      <td>other</td>\n",
       "      <td>Personal</td>\n",
       "      <td>972xx</td>\n",
       "      <td>OR</td>\n",
       "      <td>17.94</td>\n",
       "      <td>0.0</td>\n",
       "      <td>Jan-96</td>\n",
       "      <td>0.0</td>\n",
       "      <td>38.0</td>\n",
       "      <td>NaN</td>\n",
       "      <td>15.0</td>\n",
       "      <td>0.0</td>\n",
       "      <td>27783</td>\n",
       "      <td>53.9</td>\n",
       "      <td>38.0</td>\n",
       "      <td>f</td>\n",
       "      <td>766.9</td>\n",
       "      <td>766.9</td>\n",
       "      <td>3242.170000</td>\n",
       "      <td>3242.17</td>\n",
       "      <td>2233.10</td>\n",
       "      <td>1009.07</td>\n",
       "      <td>0.00</td>\n",
       "      <td>0.00</td>\n",
       "      <td>0.00</td>\n",
       "      <td>Jan-16</td>\n",
       "      <td>67.79</td>\n",
       "      <td>Feb-16</td>\n",
       "      <td>Jan-16</td>\n",
       "      <td>0.0</td>\n",
       "      <td>NaN</td>\n",
       "      <td>1</td>\n",
       "      <td>INDIVIDUAL</td>\n",
       "      <td>NaN</td>\n",
       "      <td>NaN</td>\n",
       "      <td>NaN</td>\n",
       "      <td>0.0</td>\n",
       "      <td>NaN</td>\n",
       "      <td>NaN</td>\n",
       "      <td>NaN</td>\n",
       "      <td>NaN</td>\n",
       "      <td>NaN</td>\n",
       "      <td>NaN</td>\n",
       "      <td>NaN</td>\n",
       "      <td>NaN</td>\n",
       "      <td>NaN</td>\n",
       "      <td>NaN</td>\n",
       "      <td>NaN</td>\n",
       "      <td>NaN</td>\n",
       "      <td>NaN</td>\n",
       "      <td>NaN</td>\n",
       "      <td>NaN</td>\n",
       "      <td>NaN</td>\n",
       "      <td>NaN</td>\n",
       "    </tr>\n",
       "  </tbody>\n",
       "</table>\n",
       "</div>"
      ],
      "text/plain": [
       "   loan_amnt  funded_amnt  funded_amnt_inv        term  int_rate  installment  \\\n",
       "0       5000         5000           4975.0   36 months     10.65       162.87   \n",
       "1       2500         2500           2500.0   60 months     15.27        59.83   \n",
       "2       2400         2400           2400.0   36 months     15.96        84.33   \n",
       "3      10000        10000          10000.0   36 months     13.49       339.31   \n",
       "4       3000         3000           3000.0   60 months     12.69        67.79   \n",
       "\n",
       "  grade sub_grade            emp_title emp_length home_ownership  annual_inc  \\\n",
       "0     B        B2                  NaN  10+ years           RENT     24000.0   \n",
       "1     C        C4                Ryder   < 1 year           RENT     30000.0   \n",
       "2     C        C5                  NaN  10+ years           RENT     12252.0   \n",
       "3     C        C1  AIR RESOURCES BOARD  10+ years           RENT     49200.0   \n",
       "4     B        B5  University Medic...     1 year           RENT     80000.0   \n",
       "\n",
       "  verification_status issue_d  loan_status pymnt_plan                  url  \\\n",
       "0            Verified  Dec-11   Fully Paid          n  https://www.lend...   \n",
       "1     Source Verified  Dec-11  Charged Off          n  https://www.lend...   \n",
       "2        Not Verified  Dec-11   Fully Paid          n  https://www.lend...   \n",
       "3     Source Verified  Dec-11   Fully Paid          n  https://www.lend...   \n",
       "4     Source Verified  Dec-11      Current          n  https://www.lend...   \n",
       "\n",
       "                  desc         purpose                title zip_code  \\\n",
       "0    Borrower added...     credit_card             Computer    860xx   \n",
       "1    Borrower added...             car                 bike    309xx   \n",
       "2                  NaN  small_business  real estate busi...    606xx   \n",
       "3    Borrower added...           other             personel    917xx   \n",
       "4    Borrower added...           other             Personal    972xx   \n",
       "\n",
       "  addr_state    dti  delinq_2yrs earliest_cr_line  inq_last_6mths  \\\n",
       "0         AZ  27.65          0.0           Jan-85             1.0   \n",
       "1         GA   1.00          0.0           Apr-99             5.0   \n",
       "2         IL   8.72          0.0           Nov-01             2.0   \n",
       "3         CA  20.00          0.0           Feb-96             1.0   \n",
       "4         OR  17.94          0.0           Jan-96             0.0   \n",
       "\n",
       "   mths_since_last_delinq  mths_since_last_record  open_acc  pub_rec  \\\n",
       "0                  NaN                     NaN          3.0      0.0   \n",
       "1                  NaN                     NaN          3.0      0.0   \n",
       "2                  NaN                     NaN          2.0      0.0   \n",
       "3                 35.0                     NaN         10.0      0.0   \n",
       "4                 38.0                     NaN         15.0      0.0   \n",
       "\n",
       "   revol_bal  revol_util  total_acc initial_list_status  out_prncp  \\\n",
       "0      13648        83.7        9.0                   f        0.0   \n",
       "1       1687         9.4        4.0                   f        0.0   \n",
       "2       2956        98.5       10.0                   f        0.0   \n",
       "3       5598        21.0       37.0                   f        0.0   \n",
       "4      27783        53.9       38.0                   f      766.9   \n",
       "\n",
       "   out_prncp_inv   total_pymnt  total_pymnt_inv  total_rec_prncp  \\\n",
       "0            0.0   5861.071414          5831.78          5000.00   \n",
       "1            0.0   1008.710000          1008.71           456.46   \n",
       "2            0.0   3003.653644          3003.65          2400.00   \n",
       "3            0.0  12226.302210         12226.30         10000.00   \n",
       "4          766.9   3242.170000          3242.17          2233.10   \n",
       "\n",
       "   total_rec_int  total_rec_late_fee  recoveries  collection_recovery_fee  \\\n",
       "0         861.07                0.00        0.00                 0.00       \n",
       "1         435.17                0.00      117.08                 1.11       \n",
       "2         603.65                0.00        0.00                 0.00       \n",
       "3        2209.33               16.97        0.00                 0.00       \n",
       "4        1009.07                0.00        0.00                 0.00       \n",
       "\n",
       "  last_pymnt_d  last_pymnt_amnt next_pymnt_d last_credit_pull_d  \\\n",
       "0       Jan-15           171.62          NaN             Jan-16   \n",
       "1       Apr-13           119.66          NaN             Sep-13   \n",
       "2       Jun-14           649.91          NaN             Jan-16   \n",
       "3       Jan-15           357.48          NaN             Jan-15   \n",
       "4       Jan-16            67.79       Feb-16             Jan-16   \n",
       "\n",
       "   collections_12_mths_ex_med  mths_since_last_major_derog  policy_code  \\\n",
       "0                  0.0                         NaN                    1   \n",
       "1                  0.0                         NaN                    1   \n",
       "2                  0.0                         NaN                    1   \n",
       "3                  0.0                         NaN                    1   \n",
       "4                  0.0                         NaN                    1   \n",
       "\n",
       "  application_type  annual_inc_joint  dti_joint  verification_status_joint  \\\n",
       "0       INDIVIDUAL               NaN        NaN                  NaN         \n",
       "1       INDIVIDUAL               NaN        NaN                  NaN         \n",
       "2       INDIVIDUAL               NaN        NaN                  NaN         \n",
       "3       INDIVIDUAL               NaN        NaN                  NaN         \n",
       "4       INDIVIDUAL               NaN        NaN                  NaN         \n",
       "\n",
       "   acc_now_delinq  tot_coll_amt  tot_cur_bal  open_acc_6m  open_il_6m  \\\n",
       "0             0.0           NaN          NaN          NaN         NaN   \n",
       "1             0.0           NaN          NaN          NaN         NaN   \n",
       "2             0.0           NaN          NaN          NaN         NaN   \n",
       "3             0.0           NaN          NaN          NaN         NaN   \n",
       "4             0.0           NaN          NaN          NaN         NaN   \n",
       "\n",
       "   open_il_12m  open_il_24m  mths_since_rcnt_il  total_bal_il  il_util  \\\n",
       "0          NaN          NaN                 NaN           NaN      NaN   \n",
       "1          NaN          NaN                 NaN           NaN      NaN   \n",
       "2          NaN          NaN                 NaN           NaN      NaN   \n",
       "3          NaN          NaN                 NaN           NaN      NaN   \n",
       "4          NaN          NaN                 NaN           NaN      NaN   \n",
       "\n",
       "   open_rv_12m  open_rv_24m  max_bal_bc  all_util  total_rev_hi_lim  inq_fi  \\\n",
       "0          NaN          NaN         NaN       NaN               NaN     NaN   \n",
       "1          NaN          NaN         NaN       NaN               NaN     NaN   \n",
       "2          NaN          NaN         NaN       NaN               NaN     NaN   \n",
       "3          NaN          NaN         NaN       NaN               NaN     NaN   \n",
       "4          NaN          NaN         NaN       NaN               NaN     NaN   \n",
       "\n",
       "   total_cu_tl  inq_last_12m  \n",
       "0          NaN           NaN  \n",
       "1          NaN           NaN  \n",
       "2          NaN           NaN  \n",
       "3          NaN           NaN  \n",
       "4          NaN           NaN  "
      ]
     },
     "execution_count": 9,
     "metadata": {},
     "output_type": "execute_result"
    }
   ],
   "source": [
    "df = df_bk.iloc[:, 3:]\n",
    "df.head()"
   ]
  },
  {
   "cell_type": "markdown",
   "metadata": {},
   "source": [
    "## 预处理数据"
   ]
  },
  {
   "cell_type": "markdown",
   "metadata": {},
   "source": [
    "- 总体分析"
   ]
  },
  {
   "cell_type": "code",
   "execution_count": 10,
   "metadata": {},
   "outputs": [
    {
     "data": {
      "text/plain": [
       "(466285, 55)"
      ]
     },
     "execution_count": 10,
     "metadata": {},
     "output_type": "execute_result"
    }
   ],
   "source": [
    "cols = [x for x in list(df.columns) if int(df[x].count()) is 0] # 找到空列的名称，存到list中\n",
    "df.drop(labels=cols, inplace=True, axis=1) # 丢弃空列\n",
    "df.shape # 检查结果"
   ]
  },
  {
   "cell_type": "markdown",
   "metadata": {},
   "source": [
    "- 生成数据集的描述性报告"
   ]
  },
  {
   "cell_type": "code",
   "execution_count": 11,
   "metadata": {},
   "outputs": [],
   "source": [
    "# import pandas_profiling\n",
    "# pfr = pandas_profiling.ProfileReport(df)\n",
    "# pfr.to_file('df_report.html')"
   ]
  },
  {
   "cell_type": "markdown",
   "metadata": {},
   "source": [
    "![overiew](images/df_overiew.png)"
   ]
  },
  {
   "cell_type": "code",
   "execution_count": 12,
   "metadata": {},
   "outputs": [
    {
     "data": {
      "text/plain": [
       "(466285, 47)"
      ]
     },
     "execution_count": 12,
     "metadata": {},
     "output_type": "execute_result"
    }
   ],
   "source": [
    "drop_cols = ['application_type', 'funded_amnt', 'funded_amnt_inv', 'installment', \n",
    "             'out_prncp_inv', 'policy_code', 'total_pymnt_inv', 'total_rec_prncp']\n",
    "df.drop(labels=drop_cols, inplace=True, axis=1) # 丢弃高度相关的变量，和常数变量\n",
    "df.shape"
   ]
  },
  {
   "cell_type": "code",
   "execution_count": 13,
   "metadata": {},
   "outputs": [
    {
     "name": "stdout",
     "output_type": "stream",
     "text": [
      "<class 'pandas.core.frame.DataFrame'>\n",
      "RangeIndex: 466285 entries, 0 to 466284\n",
      "Data columns (total 47 columns):\n",
      " #   Column                       Non-Null Count   Dtype  \n",
      "---  ------                       --------------   -----  \n",
      " 0   loan_amnt                    466285 non-null  int64  \n",
      " 1   term                         466285 non-null  object \n",
      " 2   int_rate                     466285 non-null  float64\n",
      " 3   grade                        466285 non-null  object \n",
      " 4   sub_grade                    466285 non-null  object \n",
      " 5   emp_title                    438697 non-null  object \n",
      " 6   emp_length                   445277 non-null  object \n",
      " 7   home_ownership               466285 non-null  object \n",
      " 8   annual_inc                   466281 non-null  float64\n",
      " 9   verification_status          466285 non-null  object \n",
      " 10  issue_d                      466285 non-null  object \n",
      " 11  loan_status                  466285 non-null  object \n",
      " 12  pymnt_plan                   466285 non-null  object \n",
      " 13  url                          466285 non-null  object \n",
      " 14  desc                         125983 non-null  object \n",
      " 15  purpose                      466285 non-null  object \n",
      " 16  title                        466265 non-null  object \n",
      " 17  zip_code                     466285 non-null  object \n",
      " 18  addr_state                   466285 non-null  object \n",
      " 19  dti                          466285 non-null  float64\n",
      " 20  delinq_2yrs                  466256 non-null  float64\n",
      " 21  earliest_cr_line             466256 non-null  object \n",
      " 22  inq_last_6mths               466256 non-null  float64\n",
      " 23  mths_since_last_delinq       215934 non-null  float64\n",
      " 24  mths_since_last_record       62638 non-null   float64\n",
      " 25  open_acc                     466256 non-null  float64\n",
      " 26  pub_rec                      466256 non-null  float64\n",
      " 27  revol_bal                    466285 non-null  int64  \n",
      " 28  revol_util                   465945 non-null  float64\n",
      " 29  total_acc                    466256 non-null  float64\n",
      " 30  initial_list_status          466285 non-null  object \n",
      " 31  out_prncp                    466285 non-null  float64\n",
      " 32  total_pymnt                  466285 non-null  float64\n",
      " 33  total_rec_int                466285 non-null  float64\n",
      " 34  total_rec_late_fee           466285 non-null  float64\n",
      " 35  recoveries                   466285 non-null  float64\n",
      " 36  collection_recovery_fee      466285 non-null  float64\n",
      " 37  last_pymnt_d                 465909 non-null  object \n",
      " 38  last_pymnt_amnt              466285 non-null  float64\n",
      " 39  next_pymnt_d                 239071 non-null  object \n",
      " 40  last_credit_pull_d           466243 non-null  object \n",
      " 41  collections_12_mths_ex_med   466140 non-null  float64\n",
      " 42  mths_since_last_major_derog  98974 non-null   float64\n",
      " 43  acc_now_delinq               466256 non-null  float64\n",
      " 44  tot_coll_amt                 396009 non-null  float64\n",
      " 45  tot_cur_bal                  396009 non-null  float64\n",
      " 46  total_rev_hi_lim             396009 non-null  float64\n",
      "dtypes: float64(24), int64(2), object(21)\n",
      "memory usage: 167.2+ MB\n"
     ]
    }
   ],
   "source": [
    "df.info()"
   ]
  },
  {
   "cell_type": "markdown",
   "metadata": {},
   "source": [
    "- 变量loan_amnt"
   ]
  },
  {
   "cell_type": "code",
   "execution_count": 14,
   "metadata": {},
   "outputs": [
    {
     "data": {
      "text/plain": [
       "0"
      ]
     },
     "execution_count": 14,
     "metadata": {},
     "output_type": "execute_result"
    }
   ],
   "source": [
    "df.loan_amnt.isna().sum()"
   ]
  },
  {
   "cell_type": "code",
   "execution_count": 15,
   "metadata": {},
   "outputs": [
    {
     "data": {
      "image/png": "[encoded data removed]",
      "text/plain": [
       "<Figure size 432x288 with 1 Axes>"
      ]
     },
     "metadata": {
      "needs_background": "light"
     },
     "output_type": "display_data"
    }
   ],
   "source": [
    "df.loan_amnt.plot(kind='hist', bins=30);"
   ]
  },
  {
   "cell_type": "markdown",
   "metadata": {},
   "source": [
    "- 变量int_rate"
   ]
  },
  {
   "cell_type": "code",
   "execution_count": 16,
   "metadata": {},
   "outputs": [
    {
     "data": {
      "image/png": "[encoded data removed]",
      "text/plain": [
       "<Figure size 432x288 with 1 Axes>"
      ]
     },
     "metadata": {
      "needs_background": "light"
     },
     "output_type": "display_data"
    }
   ],
   "source": [
    "df.int_rate.hist(bins=30);"
   ]
  },
  {
   "cell_type": "code",
   "execution_count": 17,
   "metadata": {},
   "outputs": [
    {
     "data": {
      "text/plain": [
       "0"
      ]
     },
     "execution_count": 17,
     "metadata": {},
     "output_type": "execute_result"
    }
   ],
   "source": [
    "df.int_rate.isna().sum() # 空值个数"
   ]
  },
  {
   "cell_type": "markdown",
   "metadata": {},
   "source": [
    "- 变量home_ownership"
   ]
  },
  {
   "cell_type": "code",
   "execution_count": 18,
   "metadata": {},
   "outputs": [
    {
     "data": {
      "text/plain": [
       "MORTGAGE    235875\n",
       "RENT        188473\n",
       "OWN          41704\n",
       "OTHER          182\n",
       "NONE            50\n",
       "ANY              1\n",
       "Name: home_ownership, dtype: int64"
      ]
     },
     "execution_count": 18,
     "metadata": {},
     "output_type": "execute_result"
    }
   ],
   "source": [
    "df.home_ownership.value_counts()"
   ]
  },
  {
   "cell_type": "markdown",
   "metadata": {},
   "source": [
    "- 变量term"
   ]
  },
  {
   "cell_type": "code",
   "execution_count": 19,
   "metadata": {},
   "outputs": [
    {
     "data": {
      "text/plain": [
       "array([' 36 months', ' 60 months'], dtype=object)"
      ]
     },
     "execution_count": 19,
     "metadata": {},
     "output_type": "execute_result"
    }
   ],
   "source": [
    "df.term.unique() # 多少个值"
   ]
  },
  {
   "cell_type": "code",
   "execution_count": 20,
   "metadata": {},
   "outputs": [
    {
     "data": {
      "text/plain": [
       "0"
      ]
     },
     "execution_count": 20,
     "metadata": {},
     "output_type": "execute_result"
    }
   ],
   "source": [
    "df.term.isna().sum() # 空值个数"
   ]
  },
  {
   "cell_type": "code",
   "execution_count": 21,
   "metadata": {},
   "outputs": [],
   "source": [
    "df['term'] = df.term.str.replace(' 36 months', str(36)) # 以月为单位\n",
    "df['term'] = df.term.str.replace(' 60 months', str(60))"
   ]
  },
  {
   "cell_type": "code",
   "execution_count": 22,
   "metadata": {},
   "outputs": [],
   "source": [
    "df.term = pd.to_numeric(df.term)"
   ]
  },
  {
   "cell_type": "markdown",
   "metadata": {},
   "source": [
    "- 变量issue_d"
   ]
  },
  {
   "cell_type": "code",
   "execution_count": 23,
   "metadata": {},
   "outputs": [
    {
     "data": {
      "text/html": [
       "<div>\n",
       "<style scoped>\n",
       "    .dataframe tbody tr th:only-of-type {\n",
       "        vertical-align: middle;\n",
       "    }\n",
       "\n",
       "    .dataframe tbody tr th {\n",
       "        vertical-align: top;\n",
       "    }\n",
       "\n",
       "    .dataframe thead th {\n",
       "        text-align: right;\n",
       "    }\n",
       "</style>\n",
       "<table border=\"1\" class=\"dataframe\">\n",
       "  <thead>\n",
       "    <tr style=\"text-align: right;\">\n",
       "      <th></th>\n",
       "      <th>LoanStatNew</th>\n",
       "      <th>Description</th>\n",
       "      <th>Description_CN</th>\n",
       "    </tr>\n",
       "  </thead>\n",
       "  <tbody>\n",
       "    <tr>\n",
       "      <th>15</th>\n",
       "      <td>issue_d</td>\n",
       "      <td>The month which the loan was funded</td>\n",
       "      <td>贷款融资的月份</td>\n",
       "    </tr>\n",
       "  </tbody>\n",
       "</table>\n",
       "</div>"
      ],
      "text/plain": [
       "   LoanStatNew                          Description Description_CN\n",
       "15     issue_d  The month which the loan was funded        贷款融资的月份"
      ]
     },
     "execution_count": 23,
     "metadata": {},
     "output_type": "execute_result"
    }
   ],
   "source": [
    "pd.set_option('max_colwidth', 400)\n",
    "col_names[col_names.LoanStatNew == 'issue_d']"
   ]
  },
  {
   "cell_type": "code",
   "execution_count": 24,
   "metadata": {},
   "outputs": [
    {
     "data": {
      "text/plain": [
       "'Aug-11'"
      ]
     },
     "execution_count": 24,
     "metadata": {},
     "output_type": "execute_result"
    }
   ],
   "source": [
    "df.issue_d.iloc[9239]"
   ]
  },
  {
   "cell_type": "code",
   "execution_count": 25,
   "metadata": {},
   "outputs": [
    {
     "data": {
      "text/plain": [
       "Timestamp('2011-08-01 00:00:00')"
      ]
     },
     "execution_count": 25,
     "metadata": {},
     "output_type": "execute_result"
    }
   ],
   "source": [
    "df['issue_d_date'] = pd.to_datetime(df.issue_d, format='%b-%y') # 转换成日期格式\n",
    "df['issue_d_date'].iloc[9239] # 检查格式转换结果"
   ]
  },
  {
   "cell_type": "code",
   "execution_count": 26,
   "metadata": {},
   "outputs": [
    {
     "data": {
      "text/plain": [
       "count    466285.000000\n",
       "mean         51.255187\n",
       "std          14.340154\n",
       "min          36.000000\n",
       "25%          41.000000\n",
       "50%          47.000000\n",
       "75%          57.000000\n",
       "max         126.000000\n",
       "Name: issue_d_diff, dtype: float64"
      ]
     },
     "execution_count": 26,
     "metadata": {},
     "output_type": "execute_result"
    }
   ],
   "source": [
    "# 将日期转换为到2017年12月1日的时间差，以月份为单位\n",
    "import numpy as np\n",
    "df['issue_d_diff'] = round(pd.to_numeric((pd.to_datetime('2017-12-01') - df.issue_d_date) / np.timedelta64(1, 'M')))\n",
    "df.issue_d_diff.describe() # 检查时间差转换结果"
   ]
  },
  {
   "cell_type": "code",
   "execution_count": 27,
   "metadata": {},
   "outputs": [
    {
     "data": {
      "text/plain": [
       "loan_amnt                                                                                                5000\n",
       "term                                                                                                       36\n",
       "int_rate                                                                                                10.65\n",
       "grade                                                                                                       B\n",
       "sub_grade                                                                                                  B2\n",
       "emp_title                                                                                                 NaN\n",
       "emp_length                                                                                          10+ years\n",
       "home_ownership                                                                                           RENT\n",
       "annual_inc                                                                                              24000\n",
       "verification_status                                                                                  Verified\n",
       "issue_d                                                                                                Dec-11\n",
       "loan_status                                                                                        Fully Paid\n",
       "pymnt_plan                                                                                                  n\n",
       "url                                      https://www.lendingclub.com/browse/loanDetail.action?loan_id=1077501\n",
       "desc                             Borrower added on 12/22/11 > I need to upgrade my business technologies.<br>\n",
       "purpose                                                                                           credit_card\n",
       "title                                                                                                Computer\n",
       "zip_code                                                                                                860xx\n",
       "addr_state                                                                                                 AZ\n",
       "dti                                                                                                     27.65\n",
       "delinq_2yrs                                                                                                 0\n",
       "earliest_cr_line                                                                                       Jan-85\n",
       "inq_last_6mths                                                                                              1\n",
       "mths_since_last_delinq                                                                                    NaN\n",
       "mths_since_last_record                                                                                    NaN\n",
       "open_acc                                                                                                    3\n",
       "pub_rec                                                                                                     0\n",
       "revol_bal                                                                                               13648\n",
       "revol_util                                                                                               83.7\n",
       "total_acc                                                                                                   9\n",
       "initial_list_status                                                                                         f\n",
       "out_prncp                                                                                                   0\n",
       "total_pymnt                                                                                           5861.07\n",
       "total_rec_int                                                                                          861.07\n",
       "total_rec_late_fee                                                                                          0\n",
       "recoveries                                                                                                  0\n",
       "collection_recovery_fee                                                                                     0\n",
       "last_pymnt_d                                                                                           Jan-15\n",
       "last_pymnt_amnt                                                                                        171.62\n",
       "next_pymnt_d                                                                                              NaN\n",
       "last_credit_pull_d                                                                                     Jan-16\n",
       "collections_12_mths_ex_med                                                                                  0\n",
       "mths_since_last_major_derog                                                                               NaN\n",
       "acc_now_delinq                                                                                              0\n",
       "tot_coll_amt                                                                                              NaN\n",
       "tot_cur_bal                                                                                               NaN\n",
       "total_rev_hi_lim                                                                                          NaN\n",
       "issue_d_date                                                                              2011-12-01 00:00:00\n",
       "issue_d_diff                                                                                               72\n",
       "Name: 0, dtype: object"
      ]
     },
     "execution_count": 27,
     "metadata": {},
     "output_type": "execute_result"
    }
   ],
   "source": [
    "df.loc[0, :]"
   ]
  },
  {
   "cell_type": "markdown",
   "metadata": {},
   "source": [
    "## 处理连续变量"
   ]
  },
  {
   "cell_type": "markdown",
   "metadata": {},
   "source": [
    "- 变量emp_length"
   ]
  },
  {
   "cell_type": "code",
   "execution_count": 28,
   "metadata": {},
   "outputs": [
    {
     "data": {
      "text/plain": [
       "array(['10+ years', '< 1 year', '1 year', '3 years', '8 years', '9 years',\n",
       "       '4 years', '5 years', '6 years', '2 years', '7 years', nan],\n",
       "      dtype=object)"
      ]
     },
     "execution_count": 28,
     "metadata": {},
     "output_type": "execute_result"
    }
   ],
   "source": [
    "df.emp_length.unique()"
   ]
  },
  {
   "cell_type": "code",
   "execution_count": 29,
   "metadata": {},
   "outputs": [],
   "source": [
    "df.emp_length = df.emp_length.str.replace('10\\+ years', str(10))\n",
    "df.emp_length = df.emp_length.str.replace('< 1 year', str(0))\n",
    "df.emp_length = df.emp_length.str.replace('nan', str(0))\n",
    "df.emp_length = df.emp_length.str.replace(' years', '')\n",
    "df.emp_length = df.emp_length.str.replace(' year', '')\n",
    "df.emp_length = pd.to_numeric(df.emp_length)"
   ]
  },
  {
   "cell_type": "code",
   "execution_count": 30,
   "metadata": {},
   "outputs": [
    {
     "data": {
      "text/plain": [
       "array([10.,  0.,  1.,  3.,  8.,  9.,  4.,  5.,  6.,  2.,  7., nan])"
      ]
     },
     "execution_count": 30,
     "metadata": {},
     "output_type": "execute_result"
    }
   ],
   "source": [
    "df.emp_length.unique() # 检查结果"
   ]
  },
  {
   "cell_type": "code",
   "execution_count": 31,
   "metadata": {},
   "outputs": [
    {
     "data": {
      "text/plain": [
       "21008"
      ]
     },
     "execution_count": 31,
     "metadata": {},
     "output_type": "execute_result"
    }
   ],
   "source": [
    "df.emp_length.isna().sum() # 查看空值个数"
   ]
  },
  {
   "cell_type": "code",
   "execution_count": 32,
   "metadata": {},
   "outputs": [
    {
     "data": {
      "text/plain": [
       "0"
      ]
     },
     "execution_count": 32,
     "metadata": {},
     "output_type": "execute_result"
    }
   ],
   "source": [
    "df.emp_length.fillna(0, inplace=True) # 用0填充空值，是合理的，因为工作时长不填的一般没有工作或刚开始工作\n",
    "df.emp_length.isna().sum() # 检查结果"
   ]
  },
  {
   "cell_type": "markdown",
   "metadata": {},
   "source": [
    "- 变量earliest_cr_line"
   ]
  },
  {
   "cell_type": "code",
   "execution_count": 33,
   "metadata": {},
   "outputs": [
    {
     "data": {
      "text/plain": [
       "0    Jan-85\n",
       "1    Apr-99\n",
       "2    Nov-01\n",
       "3    Feb-96\n",
       "4    Jan-96\n",
       "5    Nov-04\n",
       "6    Jul-05\n",
       "7    Jan-07\n",
       "8    Apr-04\n",
       "9    Sep-04\n",
       "Name: earliest_cr_line, dtype: object"
      ]
     },
     "execution_count": 33,
     "metadata": {},
     "output_type": "execute_result"
    }
   ],
   "source": [
    "df.earliest_cr_line[:10]"
   ]
  },
  {
   "cell_type": "code",
   "execution_count": 34,
   "metadata": {},
   "outputs": [
    {
     "ename": "TypeError",
     "evalue": "unhashable type: 'list'",
     "output_type": "error",
     "traceback": [
      "\u001b[0;31m---------------------------------------------------------------------------\u001b[0m",
      "\u001b[0;31mTypeError\u001b[0m                                 Traceback (most recent call last)",
      "\u001b[0;32mpandas/_libs/hashtable_class_helper.pxi\u001b[0m in \u001b[0;36mpandas._libs.hashtable.PyObjectHashTable.map_locations\u001b[0;34m()\u001b[0m\n",
      "\u001b[0;31mTypeError\u001b[0m: unhashable type: 'list'"
     ]
    },
    {
     "name": "stderr",
     "output_type": "stream",
     "text": [
      "Exception ignored in: 'pandas._libs.index.IndexEngine._call_map_locations'\n",
      "Traceback (most recent call last):\n",
      "  File \"pandas/_libs/hashtable_class_helper.pxi\", line 1652, in pandas._libs.hashtable.PyObjectHashTable.map_locations\n",
      "TypeError: unhashable type: 'list'\n"
     ]
    },
    {
     "data": {
      "text/plain": [
       "[]      466251\n",
       "[46]         2\n",
       "[48]         1\n",
       "[44]         1\n",
       "[49]         1\n",
       "Name: earliest_cr_line, dtype: int64"
      ]
     },
     "execution_count": 34,
     "metadata": {},
     "output_type": "execute_result"
    }
   ],
   "source": [
    "df.earliest_cr_line.str.findall('-([4].)').value_counts()"
   ]
  },
  {
   "cell_type": "markdown",
   "metadata": {},
   "source": [
    "*转换方法：*\n",
    "- 年份的范围是4几年到1几年\n",
    "- 转换方法是：\n",
    "  + 年份数字大于等于40的转换成19XX，如45转换成1945\n",
    "  + 年份数字小于40的转换成20XX，如15转换成2015\n",
    "  + 实际上没有2X年和3X年的数据"
   ]
  },
  {
   "cell_type": "code",
   "execution_count": 35,
   "metadata": {},
   "outputs": [
    {
     "data": {
      "text/plain": [
       "29"
      ]
     },
     "execution_count": 35,
     "metadata": {},
     "output_type": "execute_result"
    }
   ],
   "source": [
    "df.earliest_cr_line.isna().sum() # 统计空值的个数"
   ]
  },
  {
   "cell_type": "code",
   "execution_count": 36,
   "metadata": {},
   "outputs": [
    {
     "data": {
      "text/plain": [
       "466256"
      ]
     },
     "execution_count": 36,
     "metadata": {},
     "output_type": "execute_result"
    }
   ],
   "source": [
    "na_line = list(df[df.earliest_cr_line.notna()].index) # 得到非空行的index\n",
    "len(na_line)"
   ]
  },
  {
   "cell_type": "code",
   "execution_count": 37,
   "metadata": {},
   "outputs": [],
   "source": [
    "df = df.loc[na_line, :] # 删除29个earliest_cr_line列空值对应的行"
   ]
  },
  {
   "cell_type": "code",
   "execution_count": 38,
   "metadata": {},
   "outputs": [
    {
     "data": {
      "text/plain": [
       "0"
      ]
     },
     "execution_count": 38,
     "metadata": {},
     "output_type": "execute_result"
    }
   ],
   "source": [
    "df.earliest_cr_line.isna().sum() # 检查去空值结果"
   ]
  },
  {
   "cell_type": "code",
   "execution_count": 39,
   "metadata": {},
   "outputs": [
    {
     "data": {
      "text/plain": [
       "True"
      ]
     },
     "execution_count": 39,
     "metadata": {},
     "output_type": "execute_result"
    }
   ],
   "source": [
    "# 验证字符串搜索功能，返回值是否正确\n",
    "import re\n",
    "re.search(r'-[4-9].', 'Feb-94') is not None"
   ]
  },
  {
   "cell_type": "code",
   "execution_count": 40,
   "metadata": {},
   "outputs": [
    {
     "data": {
      "text/plain": [
       "False"
      ]
     },
     "execution_count": 40,
     "metadata": {},
     "output_type": "execute_result"
    }
   ],
   "source": [
    "# 验证字符串搜索功能，返回值是否正确\n",
    "re.search(r'-[4-9].', 'Feb-06') is not None"
   ]
  },
  {
   "cell_type": "code",
   "execution_count": 41,
   "metadata": {
    "scrolled": true
   },
   "outputs": [],
   "source": [
    "# 按照上面的方案进行日期格式转换，年份由2位数变成4位数\n",
    "df['earliest_cr_line_date']= df.earliest_cr_line.apply(\n",
    "    lambda x: str(x)[:4]+'19'+str(x)[-2:] if re.search('-[4-9]', str(x)) is not None else x[:4]+'20'+x[-2:])"
   ]
  },
  {
   "cell_type": "code",
   "execution_count": 42,
   "metadata": {},
   "outputs": [
    {
     "data": {
      "text/plain": [
       "323222    Apr-2003\n",
       "84383     Dec-1991\n",
       "10835     Aug-1994\n",
       "356707    Oct-1986\n",
       "121623    Sep-1990\n",
       "Name: earliest_cr_line_date, dtype: object"
      ]
     },
     "execution_count": 42,
     "metadata": {},
     "output_type": "execute_result"
    }
   ],
   "source": [
    "df.earliest_cr_line_date.sample(5)"
   ]
  },
  {
   "cell_type": "code",
   "execution_count": 43,
   "metadata": {},
   "outputs": [],
   "source": [
    "# 变换成内置日期格式，并计算日期差\n",
    "df['earliest_cr_line_diff'] = pd.to_datetime('2017-12-01') - pd.to_datetime(df.earliest_cr_line_date)"
   ]
  },
  {
   "cell_type": "code",
   "execution_count": 44,
   "metadata": {},
   "outputs": [],
   "source": [
    "df['earliest_cr_line_diff'] = round(df.earliest_cr_line_diff / np.timedelta64(1, 'M'))"
   ]
  },
  {
   "cell_type": "code",
   "execution_count": 45,
   "metadata": {},
   "outputs": [
    {
     "data": {
      "text/plain": [
       "count    466256.000000\n",
       "mean        242.491078\n",
       "std          86.928944\n",
       "min          73.000000\n",
       "25%         184.000000\n",
       "50%         226.000000\n",
       "75%         285.000000\n",
       "max         887.000000\n",
       "Name: earliest_cr_line_diff, dtype: float64"
      ]
     },
     "execution_count": 45,
     "metadata": {},
     "output_type": "execute_result"
    }
   ],
   "source": [
    "df.earliest_cr_line_diff.describe()"
   ]
  },
  {
   "cell_type": "markdown",
   "metadata": {},
   "source": [
    "## 处理离散变量"
   ]
  },
  {
   "cell_type": "code",
   "execution_count": 46,
   "metadata": {},
   "outputs": [
    {
     "name": "stdout",
     "output_type": "stream",
     "text": [
      "<class 'pandas.core.frame.DataFrame'>\n",
      "Int64Index: 466256 entries, 0 to 466284\n",
      "Data columns (total 51 columns):\n",
      " #   Column                       Non-Null Count   Dtype         \n",
      "---  ------                       --------------   -----         \n",
      " 0   loan_amnt                    466256 non-null  int64         \n",
      " 1   term                         466256 non-null  int64         \n",
      " 2   int_rate                     466256 non-null  float64       \n",
      " 3   grade                        466256 non-null  object        \n",
      " 4   sub_grade                    466256 non-null  object        \n",
      " 5   emp_title                    438680 non-null  object        \n",
      " 6   emp_length                   466256 non-null  float64       \n",
      " 7   home_ownership               466256 non-null  object        \n",
      " 8   annual_inc                   466256 non-null  float64       \n",
      " 9   verification_status          466256 non-null  object        \n",
      " 10  issue_d                      466256 non-null  object        \n",
      " 11  loan_status                  466256 non-null  object        \n",
      " 12  pymnt_plan                   466256 non-null  object        \n",
      " 13  url                          466256 non-null  object        \n",
      " 14  desc                         125955 non-null  object        \n",
      " 15  purpose                      466256 non-null  object        \n",
      " 16  title                        466236 non-null  object        \n",
      " 17  zip_code                     466256 non-null  object        \n",
      " 18  addr_state                   466256 non-null  object        \n",
      " 19  dti                          466256 non-null  float64       \n",
      " 20  delinq_2yrs                  466256 non-null  float64       \n",
      " 21  earliest_cr_line             466256 non-null  object        \n",
      " 22  inq_last_6mths               466256 non-null  float64       \n",
      " 23  mths_since_last_delinq       215934 non-null  float64       \n",
      " 24  mths_since_last_record       62638 non-null   float64       \n",
      " 25  open_acc                     466256 non-null  float64       \n",
      " 26  pub_rec                      466256 non-null  float64       \n",
      " 27  revol_bal                    466256 non-null  int64         \n",
      " 28  revol_util                   465945 non-null  float64       \n",
      " 29  total_acc                    466256 non-null  float64       \n",
      " 30  initial_list_status          466256 non-null  object        \n",
      " 31  out_prncp                    466256 non-null  float64       \n",
      " 32  total_pymnt                  466256 non-null  float64       \n",
      " 33  total_rec_int                466256 non-null  float64       \n",
      " 34  total_rec_late_fee           466256 non-null  float64       \n",
      " 35  recoveries                   466256 non-null  float64       \n",
      " 36  collection_recovery_fee      466256 non-null  float64       \n",
      " 37  last_pymnt_d                 465880 non-null  object        \n",
      " 38  last_pymnt_amnt              466256 non-null  float64       \n",
      " 39  next_pymnt_d                 239042 non-null  object        \n",
      " 40  last_credit_pull_d           466215 non-null  object        \n",
      " 41  collections_12_mths_ex_med   466140 non-null  float64       \n",
      " 42  mths_since_last_major_derog  98974 non-null   float64       \n",
      " 43  acc_now_delinq               466256 non-null  float64       \n",
      " 44  tot_coll_amt                 396009 non-null  float64       \n",
      " 45  tot_cur_bal                  396009 non-null  float64       \n",
      " 46  total_rev_hi_lim             396009 non-null  float64       \n",
      " 47  issue_d_date                 466256 non-null  datetime64[ns]\n",
      " 48  issue_d_diff                 466256 non-null  float64       \n",
      " 49  earliest_cr_line_date        466256 non-null  object        \n",
      " 50  earliest_cr_line_diff        466256 non-null  float64       \n",
      "dtypes: datetime64[ns](1), float64(27), int64(3), object(20)\n",
      "memory usage: 185.0+ MB\n"
     ]
    }
   ],
   "source": [
    "df.info()"
   ]
  },
  {
   "cell_type": "markdown",
   "metadata": {},
   "source": [
    "- 变量grade"
   ]
  },
  {
   "cell_type": "code",
   "execution_count": 47,
   "metadata": {
    "scrolled": true
   },
   "outputs": [
    {
     "data": {
      "text/plain": [
       "B    136919\n",
       "C    125287\n",
       "D     76887\n",
       "A     74856\n",
       "E     35756\n",
       "F     13229\n",
       "G      3322\n",
       "Name: grade, dtype: int64"
      ]
     },
     "execution_count": 47,
     "metadata": {},
     "output_type": "execute_result"
    }
   ],
   "source": [
    "df.grade.value_counts()"
   ]
  },
  {
   "cell_type": "markdown",
   "metadata": {},
   "source": [
    "## 定义PD模型的因变量"
   ]
  },
  {
   "cell_type": "code",
   "execution_count": 48,
   "metadata": {},
   "outputs": [
    {
     "data": {
      "text/plain": [
       "array(['Fully Paid', 'Charged Off', 'Current', 'Default',\n",
       "       'Late (31-120 days)', 'In Grace Period', 'Late (16-30 days)',\n",
       "       'Does not meet the credit policy. Status:Fully Paid',\n",
       "       'Does not meet the credit policy. Status:Charged Off'],\n",
       "      dtype=object)"
      ]
     },
     "execution_count": 48,
     "metadata": {},
     "output_type": "execute_result"
    }
   ],
   "source": [
    "df.loan_status.unique()"
   ]
  },
  {
   "cell_type": "code",
   "execution_count": 65,
   "metadata": {},
   "outputs": [],
   "source": [
    "good = ['Fully Paid', 'Current', 'In Grace Period', 'Late (16-30 days)',\n",
    "       'Does not meet the credit policy. Status:Fully Paid']"
   ]
  },
  {
   "cell_type": "code",
   "execution_count": 66,
   "metadata": {},
   "outputs": [],
   "source": [
    "df['good_bad'] = df.loan_status.apply(lambda x: 1 if x in good else 0)"
   ]
  },
  {
   "cell_type": "code",
   "execution_count": 67,
   "metadata": {},
   "outputs": [
    {
     "data": {
      "text/plain": [
       "1    415291\n",
       "0     50965\n",
       "Name: good_bad, dtype: int64"
      ]
     },
     "execution_count": 67,
     "metadata": {},
     "output_type": "execute_result"
    }
   ],
   "source": [
    "df.good_bad.value_counts()"
   ]
  },
  {
   "cell_type": "code",
   "execution_count": 55,
   "metadata": {},
   "outputs": [
    {
     "data": {
      "text/plain": [
       "0          True\n",
       "1         False\n",
       "2          True\n",
       "3          True\n",
       "4         False\n",
       "          ...  \n",
       "466280    False\n",
       "466281    False\n",
       "466282    False\n",
       "466283     True\n",
       "466284    False\n",
       "Name: loan_status, Length: 466256, dtype: bool"
      ]
     },
     "execution_count": 55,
     "metadata": {},
     "output_type": "execute_result"
    }
   ],
   "source": [
    "df.loan_status == 'Fully Paid'"
   ]
  },
  {
   "cell_type": "code",
   "execution_count": null,
   "metadata": {},
   "outputs": [],
   "source": []
  }
 ],
 "metadata": {
  "kernelspec": {
   "display_name": "Python 3",
   "language": "python",
   "name": "python3"
  },
  "language_info": {
   "codemirror_mode": {
    "name": "ipython",
    "version": 3
   },
   "file_extension": ".py",
   "mimetype": "text/x-python",
   "name": "python",
   "nbconvert_exporter": "python",
   "pygments_lexer": "ipython3",
   "version": "3.7.6"
  }
 },
 "nbformat": 4,
 "nbformat_minor": 2
}
