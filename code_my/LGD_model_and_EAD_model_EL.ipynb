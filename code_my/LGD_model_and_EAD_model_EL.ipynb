{
 "cells": [
  {
   "cell_type": "markdown",
   "metadata": {},
   "source": [
    "# LGD模型和EAD模型"
   ]
  },
  {
   "cell_type": "markdown",
   "metadata": {},
   "source": [
    "LGD模型和EAD模型的自变量相同，但因为LGD模型和EAD模型只有建模者会用到，不需要具有可解释性，所以不需要所有变量都是dummy变量，不需要Fine classing和Coarse classing，也不需要计算woe和可视化woe。对于离散变量转换成dummy即可，对于连续变量可以直接使用或转换后使用也可以。"
   ]
  },
  {
   "cell_type": "code",
   "execution_count": 1,
   "metadata": {},
   "outputs": [],
   "source": [
    "import numpy as np\n",
    "import pandas as pd"
   ]
  },
  {
   "cell_type": "code",
   "execution_count": 2,
   "metadata": {},
   "outputs": [
    {
     "name": "stderr",
     "output_type": "stream",
     "text": [
      "/home/ligy/anaconda3/lib/python3.7/site-packages/IPython/core/interactiveshell.py:3063: DtypeWarning: Columns (18,46) have mixed types.Specify dtype option on import or set low_memory=False.\n",
      "  interactivity=interactivity, compiler=compiler, result=result)\n"
     ]
    }
   ],
   "source": [
    "df_bk = pd.read_csv('loan_preprocessed.csv', index_col=0)"
   ]
  },
  {
   "cell_type": "code",
   "execution_count": 3,
   "metadata": {},
   "outputs": [
    {
     "data": {
      "text/html": [
       "<div>\n",
       "<style scoped>\n",
       "    .dataframe tbody tr th:only-of-type {\n",
       "        vertical-align: middle;\n",
       "    }\n",
       "\n",
       "    .dataframe tbody tr th {\n",
       "        vertical-align: top;\n",
       "    }\n",
       "\n",
       "    .dataframe thead th {\n",
       "        text-align: right;\n",
       "    }\n",
       "</style>\n",
       "<table border=\"1\" class=\"dataframe\">\n",
       "  <thead>\n",
       "    <tr style=\"text-align: right;\">\n",
       "      <th></th>\n",
       "      <th>loan_amnt</th>\n",
       "      <th>funded_amnt</th>\n",
       "      <th>funded_amnt_inv</th>\n",
       "      <th>term</th>\n",
       "      <th>int_rate</th>\n",
       "      <th>installment</th>\n",
       "      <th>grade</th>\n",
       "      <th>sub_grade</th>\n",
       "      <th>emp_title</th>\n",
       "      <th>emp_length</th>\n",
       "      <th>...</th>\n",
       "      <th>mths_since_last_record:21-31</th>\n",
       "      <th>mths_since_last_record:32-80</th>\n",
       "      <th>mths_since_last_record:81-86</th>\n",
       "      <th>mths_since_last_record:&gt;86</th>\n",
       "      <th>tot_coll_amt:Missing</th>\n",
       "      <th>tot_coll_amt:0</th>\n",
       "      <th>tot_coll_amt:&gt;0</th>\n",
       "      <th>tot_cur_bal:Missing</th>\n",
       "      <th>tot_cur_bal:0</th>\n",
       "      <th>tot_cur_bal:&gt;0</th>\n",
       "    </tr>\n",
       "  </thead>\n",
       "  <tbody>\n",
       "    <tr>\n",
       "      <th>0</th>\n",
       "      <td>5000</td>\n",
       "      <td>5000</td>\n",
       "      <td>4975.0</td>\n",
       "      <td>36</td>\n",
       "      <td>10.65</td>\n",
       "      <td>162.87</td>\n",
       "      <td>B</td>\n",
       "      <td>B2</td>\n",
       "      <td>NaN</td>\n",
       "      <td>10</td>\n",
       "      <td>...</td>\n",
       "      <td>0</td>\n",
       "      <td>0</td>\n",
       "      <td>0</td>\n",
       "      <td>0</td>\n",
       "      <td>1</td>\n",
       "      <td>0</td>\n",
       "      <td>0</td>\n",
       "      <td>1</td>\n",
       "      <td>0</td>\n",
       "      <td>0</td>\n",
       "    </tr>\n",
       "    <tr>\n",
       "      <th>1</th>\n",
       "      <td>2500</td>\n",
       "      <td>2500</td>\n",
       "      <td>2500.0</td>\n",
       "      <td>60</td>\n",
       "      <td>15.27</td>\n",
       "      <td>59.83</td>\n",
       "      <td>C</td>\n",
       "      <td>C4</td>\n",
       "      <td>Ryder</td>\n",
       "      <td>0</td>\n",
       "      <td>...</td>\n",
       "      <td>0</td>\n",
       "      <td>0</td>\n",
       "      <td>0</td>\n",
       "      <td>0</td>\n",
       "      <td>1</td>\n",
       "      <td>0</td>\n",
       "      <td>0</td>\n",
       "      <td>1</td>\n",
       "      <td>0</td>\n",
       "      <td>0</td>\n",
       "    </tr>\n",
       "    <tr>\n",
       "      <th>2</th>\n",
       "      <td>2400</td>\n",
       "      <td>2400</td>\n",
       "      <td>2400.0</td>\n",
       "      <td>36</td>\n",
       "      <td>15.96</td>\n",
       "      <td>84.33</td>\n",
       "      <td>C</td>\n",
       "      <td>C5</td>\n",
       "      <td>NaN</td>\n",
       "      <td>10</td>\n",
       "      <td>...</td>\n",
       "      <td>0</td>\n",
       "      <td>0</td>\n",
       "      <td>0</td>\n",
       "      <td>0</td>\n",
       "      <td>1</td>\n",
       "      <td>0</td>\n",
       "      <td>0</td>\n",
       "      <td>1</td>\n",
       "      <td>0</td>\n",
       "      <td>0</td>\n",
       "    </tr>\n",
       "    <tr>\n",
       "      <th>3</th>\n",
       "      <td>10000</td>\n",
       "      <td>10000</td>\n",
       "      <td>10000.0</td>\n",
       "      <td>36</td>\n",
       "      <td>13.49</td>\n",
       "      <td>339.31</td>\n",
       "      <td>C</td>\n",
       "      <td>C1</td>\n",
       "      <td>AIR RESOURCES BOARD</td>\n",
       "      <td>10</td>\n",
       "      <td>...</td>\n",
       "      <td>0</td>\n",
       "      <td>0</td>\n",
       "      <td>0</td>\n",
       "      <td>0</td>\n",
       "      <td>1</td>\n",
       "      <td>0</td>\n",
       "      <td>0</td>\n",
       "      <td>1</td>\n",
       "      <td>0</td>\n",
       "      <td>0</td>\n",
       "    </tr>\n",
       "    <tr>\n",
       "      <th>4</th>\n",
       "      <td>3000</td>\n",
       "      <td>3000</td>\n",
       "      <td>3000.0</td>\n",
       "      <td>60</td>\n",
       "      <td>12.69</td>\n",
       "      <td>67.79</td>\n",
       "      <td>B</td>\n",
       "      <td>B5</td>\n",
       "      <td>University Medical Group</td>\n",
       "      <td>1</td>\n",
       "      <td>...</td>\n",
       "      <td>0</td>\n",
       "      <td>0</td>\n",
       "      <td>0</td>\n",
       "      <td>0</td>\n",
       "      <td>1</td>\n",
       "      <td>0</td>\n",
       "      <td>0</td>\n",
       "      <td>1</td>\n",
       "      <td>0</td>\n",
       "      <td>0</td>\n",
       "    </tr>\n",
       "  </tbody>\n",
       "</table>\n",
       "<p>5 rows × 203 columns</p>\n",
       "</div>"
      ],
      "text/plain": [
       "   loan_amnt  funded_amnt  funded_amnt_inv  term  int_rate  installment grade  \\\n",
       "0       5000         5000           4975.0    36     10.65       162.87     B   \n",
       "1       2500         2500           2500.0    60     15.27        59.83     C   \n",
       "2       2400         2400           2400.0    36     15.96        84.33     C   \n",
       "3      10000        10000          10000.0    36     13.49       339.31     C   \n",
       "4       3000         3000           3000.0    60     12.69        67.79     B   \n",
       "\n",
       "  sub_grade                 emp_title  emp_length  ...  \\\n",
       "0        B2                       NaN          10  ...   \n",
       "1        C4                     Ryder           0  ...   \n",
       "2        C5                       NaN          10  ...   \n",
       "3        C1       AIR RESOURCES BOARD          10  ...   \n",
       "4        B5  University Medical Group           1  ...   \n",
       "\n",
       "  mths_since_last_record:21-31  mths_since_last_record:32-80  \\\n",
       "0                            0                             0   \n",
       "1                            0                             0   \n",
       "2                            0                             0   \n",
       "3                            0                             0   \n",
       "4                            0                             0   \n",
       "\n",
       "  mths_since_last_record:81-86 mths_since_last_record:>86  \\\n",
       "0                            0                          0   \n",
       "1                            0                          0   \n",
       "2                            0                          0   \n",
       "3                            0                          0   \n",
       "4                            0                          0   \n",
       "\n",
       "  tot_coll_amt:Missing tot_coll_amt:0 tot_coll_amt:>0 tot_cur_bal:Missing  \\\n",
       "0                    1              0               0                   1   \n",
       "1                    1              0               0                   1   \n",
       "2                    1              0               0                   1   \n",
       "3                    1              0               0                   1   \n",
       "4                    1              0               0                   1   \n",
       "\n",
       "  tot_cur_bal:0 tot_cur_bal:>0  \n",
       "0             0              0  \n",
       "1             0              0  \n",
       "2             0              0  \n",
       "3             0              0  \n",
       "4             0              0  \n",
       "\n",
       "[5 rows x 203 columns]"
      ]
     },
     "execution_count": 3,
     "metadata": {},
     "output_type": "execute_result"
    }
   ],
   "source": [
    "df_bk.head()"
   ]
  },
  {
   "cell_type": "code",
   "execution_count": 4,
   "metadata": {},
   "outputs": [
    {
     "data": {
      "text/plain": [
       "array(['loan_amnt', 'funded_amnt', 'funded_amnt_inv', 'term', 'int_rate',\n",
       "       'installment', 'grade', 'sub_grade', 'emp_title', 'emp_length',\n",
       "       'home_ownership', 'annual_inc', 'verification_status', 'issue_d',\n",
       "       'loan_status', 'pymnt_plan', 'url', 'desc', 'purpose', 'title',\n",
       "       'zip_code', 'addr_state', 'dti', 'delinq_2yrs', 'earliest_cr_line',\n",
       "       'inq_last_6mths', 'mths_since_last_delinq',\n",
       "       'mths_since_last_record', 'open_acc', 'pub_rec', 'revol_bal',\n",
       "       'revol_util', 'total_acc', 'initial_list_status', 'out_prncp',\n",
       "       'out_prncp_inv', 'total_pymnt', 'total_pymnt_inv',\n",
       "       'total_rec_prncp', 'total_rec_int', 'total_rec_late_fee',\n",
       "       'recoveries', 'collection_recovery_fee', 'last_pymnt_d',\n",
       "       'last_pymnt_amnt', 'next_pymnt_d', 'last_credit_pull_d',\n",
       "       'collections_12_mths_ex_med', 'mths_since_last_major_derog',\n",
       "       'policy_code', 'application_type', 'acc_now_delinq',\n",
       "       'tot_coll_amt', 'tot_cur_bal', 'total_rev_hi_lim', 'good_bad',\n",
       "       'grade:A', 'grade:B', 'grade:C', 'grade:D', 'grade:E', 'grade:F',\n",
       "       'grade:G', 'home_ownership:MORTGAGE', 'home_ownership:OWN',\n",
       "       'home_ownership:RENT', 'home_ownership:NONE_OTHER_ANY',\n",
       "       'verification_status:Not Verified',\n",
       "       'verification_status:Source Verified',\n",
       "       'verification_status:Verified',\n",
       "       'purpose:educational_small_business', 'purpose:credit_card',\n",
       "       'purpose:car_major_purchase_home_improvement',\n",
       "       'purpose:debt_consolidation', 'purpose:wedding_vacation',\n",
       "       'purpose:medical_other_house', 'purpose:renewable_energy_moving',\n",
       "       'initial_list_status:f', 'initial_list_status:w',\n",
       "       'addr_state:ND_NE_IA_NV_FL_HI_AL', 'addr_state:NM_VA',\n",
       "       'addr_state:NY', 'addr_state:OK_TN_MO_LA_MD_NC', 'addr_state:CA',\n",
       "       'addr_state:UT_KY_AZ_NJ', 'addr_state:AR_MI_PA_OH_MN',\n",
       "       'addr_state:RI_MA_DE_SD_IN', 'addr_state:GA_WA_OR',\n",
       "       'addr_state:WI_MT', 'addr_state:TX', 'addr_state:IL_CT',\n",
       "       'addr_state:KS_SC_CO_VT_AK_MS', 'addr_state:WV_NH_WY_DC_ME_ID',\n",
       "       'term:36', 'term:60', 'emp_length:0', 'emp_length:1',\n",
       "       'emp_length:2_3_4', 'emp_length:5_6', 'emp_length:7_8_9',\n",
       "       'emp_length:10', 'issue_d_date', 'issue_d_diff',\n",
       "       'issue_d_diff_factor', 'issue_d:<38', 'issue_d:38-39',\n",
       "       'issue_d:40-41', 'issue_d:42-48', 'issue_d:49-52', 'issue_d:53-64',\n",
       "       'issue_d:65-84', 'issue_d:>84', 'int_rate_factor',\n",
       "       'int_rate:<9.548', 'int_rate:9.548-12.025',\n",
       "       'int_rate:12.025-15.74', 'int_rate:15.74-20.281',\n",
       "       'int_rate:>20.281', 'funded_amnt_factor', 'earliest_cr_line_date',\n",
       "       'earliest_cr_line_diff', 'earliest_cr_line_diff_factor',\n",
       "       'earliest_cr_line:<140', 'earliest_cr_line:141-164',\n",
       "       'earliest_cr_line:165-247', 'earliest_cr_line:248-270',\n",
       "       'earliest_cr_line:271-352', 'earliest_cr_line:>352',\n",
       "       'delinq_2yrs:0', 'delinq_2yrs:1-3', 'delinq_2yrs:>=4',\n",
       "       'inq_last_6mths:0', 'inq_last_6mths:1-2', 'inq_last_6mths:3-6',\n",
       "       'inq_last_6mths:>6', 'open_acc:0', 'open_acc:1-3', 'open_acc:4-12',\n",
       "       'open_acc:13-17', 'open_acc:18-22', 'open_acc:23-25',\n",
       "       'open_acc:26-30', 'open_acc:>=31', 'pub_rec:0-2', 'pub_rec:3-4',\n",
       "       'pub_rec:>=5', 'total_acc_factor', 'total_acc:<=27',\n",
       "       'total_acc:28-51', 'total_acc:>=52', 'acc_now_delinq:0',\n",
       "       'acc_now_delinq:>=1', 'total_rev_hi_lim_factor',\n",
       "       'total_rev_hi_lim:<=5K', 'total_rev_hi_lim:5K-10K',\n",
       "       'total_rev_hi_lim:10K-20K', 'total_rev_hi_lim:20K-30K',\n",
       "       'total_rev_hi_lim:30K-40K', 'total_rev_hi_lim:40K-55K',\n",
       "       'total_rev_hi_lim:55K-95K', 'total_rev_hi_lim:>95K',\n",
       "       'installment_factor', 'annual_inc:<20K', 'annual_inc:20K-30K',\n",
       "       'annual_inc:30K-40K', 'annual_inc:40K-50K', 'annual_inc:50K-60K',\n",
       "       'annual_inc:60K-70K', 'annual_inc:70K-80K', 'annual_inc:80K-90K',\n",
       "       'annual_inc:90K-100K', 'annual_inc:100K-120K',\n",
       "       'annual_inc:120K-140K', 'annual_inc:>140K',\n",
       "       'mths_since_last_delinq:Missing', 'mths_since_last_delinq:0-3',\n",
       "       'mths_since_last_delinq:4-30', 'mths_since_last_delinq:31-56',\n",
       "       'mths_since_last_delinq:>=57', 'dti_factor', 'dti:<=1.4',\n",
       "       'dti:1.4-3.5', 'dti:3.5-7.7', 'dti:7.7-10.5', 'dti:10.5-16.1',\n",
       "       'dti:16.1-20.3', 'dti:20.3-21.7', 'dti:21.7-22.4', 'dti:22.4-34',\n",
       "       'dti:>34', 'mths_since_last_record:Missing',\n",
       "       'mths_since_last_record:0-2', 'mths_since_last_record:3-20',\n",
       "       'mths_since_last_record:21-31', 'mths_since_last_record:32-80',\n",
       "       'mths_since_last_record:81-86', 'mths_since_last_record:>86',\n",
       "       'tot_coll_amt:Missing', 'tot_coll_amt:0', 'tot_coll_amt:>0',\n",
       "       'tot_cur_bal:Missing', 'tot_cur_bal:0', 'tot_cur_bal:>0'],\n",
       "      dtype=object)"
      ]
     },
     "execution_count": 4,
     "metadata": {},
     "output_type": "execute_result"
    }
   ],
   "source": [
    "df_bk.columns.values"
   ]
  },
  {
   "cell_type": "code",
   "execution_count": 5,
   "metadata": {},
   "outputs": [],
   "source": [
    "# 备份原数据，只取出违约的用户\n",
    "df = df_bk.copy()\n",
    "df = df[df_bk.loan_status.isin(['Charged Off', \n",
    "                                   'Does not meet the credit policy. Status:Charged Off'])]"
   ]
  },
  {
   "cell_type": "markdown",
   "metadata": {},
   "source": [
    "## 0. 预定义一些函数"
   ]
  },
  {
   "cell_type": "code",
   "execution_count": 6,
   "metadata": {},
   "outputs": [],
   "source": [
    "# 加载描述文件\n",
    "col_names = pd.read_csv('descriptions.csv', index_col=0)"
   ]
  },
  {
   "cell_type": "code",
   "execution_count": 7,
   "metadata": {},
   "outputs": [],
   "source": [
    "def chk_na(df=df, col_names=col_names):\n",
    "    '''\n",
    "    查看各变量缺失值情况\n",
    "    '''\n",
    "    # pd.options.display.max_rows = None\n",
    "    # pd.set_option('max_colwidth', 0) # 字符串显示宽度\n",
    "    na = pd.DataFrame()\n",
    "    na['na_num'] = df.isna().sum()\n",
    "    na['na_percentage(%)'] = round(df.isna().sum()/len(df) * 100)\n",
    "    # na_type = [type(df.loc[0, x]) for x in na.index]\n",
    "    # na['na_types'] = na_type\n",
    "    na = na[~(na.na_num  == 0)]\n",
    "    # 提取na的变量中文翻译\n",
    "    a = col_names.LoanStatNew.apply(lambda x: True if x in list(na.index) else False)\n",
    "    b = col_names[a==True]\n",
    "    c = b.set_index('LoanStatNew') # 将LoanStatNew作为索引\n",
    "    # 将中文翻译合并进na中\n",
    "    na = pd.concat([na, c.Description_CN], axis=1)\n",
    "#     print(na.shape)\n",
    "    return na"
   ]
  },
  {
   "cell_type": "markdown",
   "metadata": {},
   "source": [
    "## 1. 自变量"
   ]
  },
  {
   "cell_type": "code",
   "execution_count": 8,
   "metadata": {},
   "outputs": [
    {
     "data": {
      "text/html": [
       "<div>\n",
       "<style scoped>\n",
       "    .dataframe tbody tr th:only-of-type {\n",
       "        vertical-align: middle;\n",
       "    }\n",
       "\n",
       "    .dataframe tbody tr th {\n",
       "        vertical-align: top;\n",
       "    }\n",
       "\n",
       "    .dataframe thead th {\n",
       "        text-align: right;\n",
       "    }\n",
       "</style>\n",
       "<table border=\"1\" class=\"dataframe\">\n",
       "  <thead>\n",
       "    <tr style=\"text-align: right;\">\n",
       "      <th></th>\n",
       "      <th>na_num</th>\n",
       "      <th>na_percentage(%)</th>\n",
       "      <th>Description_CN</th>\n",
       "    </tr>\n",
       "  </thead>\n",
       "  <tbody>\n",
       "    <tr>\n",
       "      <th>emp_title</th>\n",
       "      <td>3252</td>\n",
       "      <td>8.0</td>\n",
       "      <td>借款人在申请贷款时提供的职位</td>\n",
       "    </tr>\n",
       "    <tr>\n",
       "      <th>desc</th>\n",
       "      <td>27108</td>\n",
       "      <td>63.0</td>\n",
       "      <td>借款人提供的贷款说明</td>\n",
       "    </tr>\n",
       "    <tr>\n",
       "      <th>mths_since_last_delinq</th>\n",
       "      <td>23698</td>\n",
       "      <td>55.0</td>\n",
       "      <td>自借款人上次拖欠债务以来的月数</td>\n",
       "    </tr>\n",
       "    <tr>\n",
       "      <th>mths_since_last_record</th>\n",
       "      <td>37438</td>\n",
       "      <td>88.0</td>\n",
       "      <td>自上次公开记录以来的月数</td>\n",
       "    </tr>\n",
       "    <tr>\n",
       "      <th>next_pymnt_d</th>\n",
       "      <td>42056</td>\n",
       "      <td>98.0</td>\n",
       "      <td>下一个预定的付款日期</td>\n",
       "    </tr>\n",
       "    <tr>\n",
       "      <th>mths_since_last_major_derog</th>\n",
       "      <td>34897</td>\n",
       "      <td>82.0</td>\n",
       "      <td>自最近90天或更差的评分以来的月份</td>\n",
       "    </tr>\n",
       "    <tr>\n",
       "      <th>tot_coll_amt</th>\n",
       "      <td>10613</td>\n",
       "      <td>25.0</td>\n",
       "      <td>曾经拖欠的托收总额</td>\n",
       "    </tr>\n",
       "    <tr>\n",
       "      <th>tot_cur_bal</th>\n",
       "      <td>10613</td>\n",
       "      <td>25.0</td>\n",
       "      <td>所有帐户的当前总余额</td>\n",
       "    </tr>\n",
       "    <tr>\n",
       "      <th>dti_factor</th>\n",
       "      <td>673</td>\n",
       "      <td>2.0</td>\n",
       "      <td>NaN</td>\n",
       "    </tr>\n",
       "  </tbody>\n",
       "</table>\n",
       "</div>"
      ],
      "text/plain": [
       "                             na_num  na_percentage(%)     Description_CN\n",
       "emp_title                      3252               8.0     借款人在申请贷款时提供的职位\n",
       "desc                          27108              63.0         借款人提供的贷款说明\n",
       "mths_since_last_delinq        23698              55.0    自借款人上次拖欠债务以来的月数\n",
       "mths_since_last_record        37438              88.0       自上次公开记录以来的月数\n",
       "next_pymnt_d                  42056              98.0         下一个预定的付款日期\n",
       "mths_since_last_major_derog   34897              82.0  自最近90天或更差的评分以来的月份\n",
       "tot_coll_amt                  10613              25.0          曾经拖欠的托收总额\n",
       "tot_cur_bal                   10613              25.0         所有帐户的当前总余额\n",
       "dti_factor                      673               2.0                NaN"
      ]
     },
     "execution_count": 8,
     "metadata": {},
     "output_type": "execute_result"
    }
   ],
   "source": [
    "chk_na(df)"
   ]
  },
  {
   "cell_type": "code",
   "execution_count": 9,
   "metadata": {},
   "outputs": [],
   "source": [
    "# 缺失值的保守补全方法\n",
    "df.mths_since_last_delinq.fillna(0, inplace=True)\n",
    "df.mths_since_last_record.fillna(0, inplace=True)"
   ]
  },
  {
   "cell_type": "markdown",
   "metadata": {},
   "source": [
    "## 2. 目标变量"
   ]
  },
  {
   "cell_type": "markdown",
   "metadata": {},
   "source": [
    "LGD模型的目标变量： LGD = 1 - RR, 大于等于0小于等于1."
   ]
  },
  {
   "cell_type": "code",
   "execution_count": 10,
   "metadata": {},
   "outputs": [
    {
     "data": {
      "text/html": [
       "<div>\n",
       "<style scoped>\n",
       "    .dataframe tbody tr th:only-of-type {\n",
       "        vertical-align: middle;\n",
       "    }\n",
       "\n",
       "    .dataframe tbody tr th {\n",
       "        vertical-align: top;\n",
       "    }\n",
       "\n",
       "    .dataframe thead th {\n",
       "        text-align: right;\n",
       "    }\n",
       "</style>\n",
       "<table border=\"1\" class=\"dataframe\">\n",
       "  <thead>\n",
       "    <tr style=\"text-align: right;\">\n",
       "      <th></th>\n",
       "      <th>LoanStatNew</th>\n",
       "      <th>Description</th>\n",
       "      <th>Description_CN</th>\n",
       "    </tr>\n",
       "  </thead>\n",
       "  <tbody>\n",
       "    <tr>\n",
       "      <th>43</th>\n",
       "      <td>recoveries</td>\n",
       "      <td>post charge off gross recovery</td>\n",
       "      <td>从总回收中扣除后的费用</td>\n",
       "    </tr>\n",
       "  </tbody>\n",
       "</table>\n",
       "</div>"
      ],
      "text/plain": [
       "   LoanStatNew                     Description Description_CN\n",
       "43  recoveries  post charge off gross recovery    从总回收中扣除后的费用"
      ]
     },
     "execution_count": 10,
     "metadata": {},
     "output_type": "execute_result"
    }
   ],
   "source": [
    "col_names[col_names.LoanStatNew == 'recoveries']"
   ]
  },
  {
   "cell_type": "code",
   "execution_count": 11,
   "metadata": {},
   "outputs": [],
   "source": [
    "df['recovery_rate'] = df['recoveries'] / df['funded_amnt']"
   ]
  },
  {
   "cell_type": "code",
   "execution_count": 12,
   "metadata": {},
   "outputs": [
    {
     "data": {
      "text/plain": [
       "count    42781.000000\n",
       "mean         0.060450\n",
       "std          0.088502\n",
       "min          0.000000\n",
       "25%          0.000000\n",
       "50%          0.028183\n",
       "75%          0.113861\n",
       "max          1.220774\n",
       "Name: recovery_rate, dtype: float64"
      ]
     },
     "execution_count": 12,
     "metadata": {},
     "output_type": "execute_result"
    }
   ],
   "source": [
    "df['recovery_rate'].describe()"
   ]
  },
  {
   "cell_type": "markdown",
   "metadata": {},
   "source": [
    "max大于1了，调整取值范围"
   ]
  },
  {
   "cell_type": "code",
   "execution_count": 13,
   "metadata": {},
   "outputs": [],
   "source": [
    "df['recovery_rate'] = np.where(df['recovery_rate'] > 1, 1, df['recovery_rate'])\n",
    "df['recovery_rate'] = np.where(df['recovery_rate'] < 0, 0, df['recovery_rate'])"
   ]
  },
  {
   "cell_type": "code",
   "execution_count": 14,
   "metadata": {},
   "outputs": [
    {
     "data": {
      "text/plain": [
       "count    42781.000000\n",
       "mean         0.060411\n",
       "std          0.088063\n",
       "min          0.000000\n",
       "25%          0.000000\n",
       "50%          0.028183\n",
       "75%          0.113861\n",
       "max          1.000000\n",
       "Name: recovery_rate, dtype: float64"
      ]
     },
     "execution_count": 14,
     "metadata": {},
     "output_type": "execute_result"
    }
   ],
   "source": [
    "df['recovery_rate'].describe()"
   ]
  },
  {
   "cell_type": "markdown",
   "metadata": {},
   "source": [
    "EAD模型的目标变量：credit conversion factor, 大于等于0小于等于1"
   ]
  },
  {
   "cell_type": "code",
   "execution_count": 15,
   "metadata": {},
   "outputs": [
    {
     "data": {
      "text/html": [
       "<div>\n",
       "<style scoped>\n",
       "    .dataframe tbody tr th:only-of-type {\n",
       "        vertical-align: middle;\n",
       "    }\n",
       "\n",
       "    .dataframe tbody tr th {\n",
       "        vertical-align: top;\n",
       "    }\n",
       "\n",
       "    .dataframe thead th {\n",
       "        text-align: right;\n",
       "    }\n",
       "</style>\n",
       "<table border=\"1\" class=\"dataframe\">\n",
       "  <thead>\n",
       "    <tr style=\"text-align: right;\">\n",
       "      <th></th>\n",
       "      <th>LoanStatNew</th>\n",
       "      <th>Description</th>\n",
       "      <th>Description_CN</th>\n",
       "    </tr>\n",
       "  </thead>\n",
       "  <tbody>\n",
       "    <tr>\n",
       "      <th>40</th>\n",
       "      <td>total_rec_prncp</td>\n",
       "      <td>Principal received to date</td>\n",
       "      <td>迄今为止收到的本金</td>\n",
       "    </tr>\n",
       "  </tbody>\n",
       "</table>\n",
       "</div>"
      ],
      "text/plain": [
       "        LoanStatNew                 Description Description_CN\n",
       "40  total_rec_prncp  Principal received to date      迄今为止收到的本金"
      ]
     },
     "execution_count": 15,
     "metadata": {},
     "output_type": "execute_result"
    }
   ],
   "source": [
    "col_names[col_names.LoanStatNew == 'total_rec_prncp']"
   ]
  },
  {
   "cell_type": "code",
   "execution_count": 16,
   "metadata": {},
   "outputs": [
    {
     "data": {
      "text/plain": [
       "count    42781.000000\n",
       "mean         0.733713\n",
       "std          0.200027\n",
       "min          0.000438\n",
       "25%          0.629811\n",
       "50%          0.788089\n",
       "75%          0.886648\n",
       "max          1.000000\n",
       "Name: CCF, dtype: float64"
      ]
     },
     "execution_count": 16,
     "metadata": {},
     "output_type": "execute_result"
    }
   ],
   "source": [
    "df['CCF'] = (df['funded_amnt'] - df['total_rec_prncp']) / df['funded_amnt']\n",
    "df['CCF'].describe()"
   ]
  },
  {
   "cell_type": "code",
   "execution_count": 17,
   "metadata": {},
   "outputs": [],
   "source": [
    "df.to_csv('defaulted_loan.csv')"
   ]
  },
  {
   "cell_type": "markdown",
   "metadata": {},
   "source": [
    "## 3. 探索目标变量"
   ]
  },
  {
   "cell_type": "markdown",
   "metadata": {},
   "source": [
    "LGD目标变量"
   ]
  },
  {
   "cell_type": "code",
   "execution_count": 18,
   "metadata": {},
   "outputs": [
    {
     "data": {
      "image/png": "[encoded data removed]",
      "text/plain": [
       "<Figure size 432x288 with 1 Axes>"
      ]
     },
     "metadata": {
      "needs_background": "light"
     },
     "output_type": "display_data"
    }
   ],
   "source": [
    "df.recovery_rate.hist(bins=100);"
   ]
  },
  {
   "cell_type": "code",
   "execution_count": 19,
   "metadata": {},
   "outputs": [
    {
     "data": {
      "image/png": "[encoded data removed]",
      "text/plain": [
       "<Figure size 432x288 with 1 Axes>"
      ]
     },
     "metadata": {
      "needs_background": "light"
     },
     "output_type": "display_data"
    }
   ],
   "source": [
    "df.recovery_rate.hist(bins=50);"
   ]
  },
  {
   "cell_type": "code",
   "execution_count": 20,
   "metadata": {},
   "outputs": [
    {
     "data": {
      "image/png": "[encoded data removed]",
      "text/plain": [
       "<Figure size 432x288 with 1 Axes>"
      ]
     },
     "metadata": {
      "needs_background": "light"
     },
     "output_type": "display_data"
    }
   ],
   "source": [
    "df.recovery_rate.hist(bins=30);"
   ]
  },
  {
   "cell_type": "markdown",
   "metadata": {},
   "source": [
    "EAD目标变量"
   ]
  },
  {
   "cell_type": "code",
   "execution_count": 21,
   "metadata": {},
   "outputs": [
    {
     "data": {
      "image/png": "[encoded data removed]",
      "text/plain": [
       "<Figure size 432x288 with 1 Axes>"
      ]
     },
     "metadata": {
      "needs_background": "light"
     },
     "output_type": "display_data"
    }
   ],
   "source": [
    "df.CCF.hist(bins=80);"
   ]
  },
  {
   "cell_type": "markdown",
   "metadata": {},
   "source": [
    "结论：\n",
    "\n",
    "1. 对于LGD模型，可以看出，recovery_rate有大量为0的实例，可以分两步模型：第一步，先新建二元分类变量，以判断RR是否为0，如果为0则为0,不为0则为1。可以使用LogisticRegression；第二步，对于不为0的实例再模型具体数值为多少。可以使用LinearRegression.\n",
    "2. 对于EAD模型，CCF基本上是均匀分布的，所以直接用multiple LinearRegression应该可以得到不错的结果。"
   ]
  },
  {
   "cell_type": "code",
   "execution_count": 22,
   "metadata": {},
   "outputs": [],
   "source": [
    "df['RR_0_1'] = np.where(df.recovery_rate == 0, 0, 1)"
   ]
  },
  {
   "cell_type": "code",
   "execution_count": 23,
   "metadata": {},
   "outputs": [
    {
     "data": {
      "text/plain": [
       "1    24030\n",
       "0    18751\n",
       "Name: RR_0_1, dtype: int64"
      ]
     },
     "execution_count": 23,
     "metadata": {},
     "output_type": "execute_result"
    }
   ],
   "source": [
    "df.RR_0_1.value_counts()"
   ]
  },
  {
   "cell_type": "markdown",
   "metadata": {},
   "source": [
    "## 4. LGD Model"
   ]
  },
  {
   "cell_type": "markdown",
   "metadata": {},
   "source": [
    "*stage 1*: 逻辑回归"
   ]
  },
  {
   "cell_type": "markdown",
   "metadata": {},
   "source": [
    "### 4.1 分离测试集"
   ]
  },
  {
   "cell_type": "code",
   "execution_count": 24,
   "metadata": {},
   "outputs": [],
   "source": [
    "from sklearn.model_selection import train_test_split"
   ]
  },
  {
   "cell_type": "code",
   "execution_count": 25,
   "metadata": {},
   "outputs": [],
   "source": [
    "# 去掉已知的目标变量：good_bad, recovery_rate, RR_0_1, CCF\n",
    "lgd_inputs_stage_1_train, lgd_inputs_stage_1_test, \\\n",
    "lgd_targets_stage_1_train, lgd_targets_stage_1_test \\\n",
    "= train_test_split(df.drop(['good_bad', 'recovery_rate','RR_0_1', 'CCF'], axis = 1),\n",
    "                   df['RR_0_1'], \n",
    "                   test_size = 0.2, \n",
    "                   random_state = 42)"
   ]
  },
  {
   "cell_type": "code",
   "execution_count": 26,
   "metadata": {},
   "outputs": [
    {
     "data": {
      "text/html": [
       "<div>\n",
       "<style scoped>\n",
       "    .dataframe tbody tr th:only-of-type {\n",
       "        vertical-align: middle;\n",
       "    }\n",
       "\n",
       "    .dataframe tbody tr th {\n",
       "        vertical-align: top;\n",
       "    }\n",
       "\n",
       "    .dataframe thead th {\n",
       "        text-align: right;\n",
       "    }\n",
       "</style>\n",
       "<table border=\"1\" class=\"dataframe\">\n",
       "  <thead>\n",
       "    <tr style=\"text-align: right;\">\n",
       "      <th></th>\n",
       "      <th>na_num</th>\n",
       "      <th>na_percentage(%)</th>\n",
       "      <th>Description_CN</th>\n",
       "    </tr>\n",
       "  </thead>\n",
       "  <tbody>\n",
       "    <tr>\n",
       "      <th>emp_title</th>\n",
       "      <td>2604</td>\n",
       "      <td>8.0</td>\n",
       "      <td>借款人在申请贷款时提供的职位</td>\n",
       "    </tr>\n",
       "    <tr>\n",
       "      <th>desc</th>\n",
       "      <td>21720</td>\n",
       "      <td>63.0</td>\n",
       "      <td>借款人提供的贷款说明</td>\n",
       "    </tr>\n",
       "    <tr>\n",
       "      <th>next_pymnt_d</th>\n",
       "      <td>33641</td>\n",
       "      <td>98.0</td>\n",
       "      <td>下一个预定的付款日期</td>\n",
       "    </tr>\n",
       "    <tr>\n",
       "      <th>mths_since_last_major_derog</th>\n",
       "      <td>27923</td>\n",
       "      <td>82.0</td>\n",
       "      <td>自最近90天或更差的评分以来的月份</td>\n",
       "    </tr>\n",
       "    <tr>\n",
       "      <th>tot_coll_amt</th>\n",
       "      <td>8507</td>\n",
       "      <td>25.0</td>\n",
       "      <td>曾经拖欠的托收总额</td>\n",
       "    </tr>\n",
       "    <tr>\n",
       "      <th>tot_cur_bal</th>\n",
       "      <td>8507</td>\n",
       "      <td>25.0</td>\n",
       "      <td>所有帐户的当前总余额</td>\n",
       "    </tr>\n",
       "    <tr>\n",
       "      <th>dti_factor</th>\n",
       "      <td>541</td>\n",
       "      <td>2.0</td>\n",
       "      <td>NaN</td>\n",
       "    </tr>\n",
       "  </tbody>\n",
       "</table>\n",
       "</div>"
      ],
      "text/plain": [
       "                             na_num  na_percentage(%)     Description_CN\n",
       "emp_title                      2604               8.0     借款人在申请贷款时提供的职位\n",
       "desc                          21720              63.0         借款人提供的贷款说明\n",
       "next_pymnt_d                  33641              98.0         下一个预定的付款日期\n",
       "mths_since_last_major_derog   27923              82.0  自最近90天或更差的评分以来的月份\n",
       "tot_coll_amt                   8507              25.0          曾经拖欠的托收总额\n",
       "tot_cur_bal                    8507              25.0         所有帐户的当前总余额\n",
       "dti_factor                      541               2.0                NaN"
      ]
     },
     "execution_count": 26,
     "metadata": {},
     "output_type": "execute_result"
    }
   ],
   "source": [
    "inputs_1_train_na = chk_na(lgd_inputs_stage_1_train)\n",
    "inputs_1_train_na"
   ]
  },
  {
   "cell_type": "code",
   "execution_count": 27,
   "metadata": {},
   "outputs": [
    {
     "data": {
      "text/plain": [
       "(34224, 195)"
      ]
     },
     "execution_count": 27,
     "metadata": {},
     "output_type": "execute_result"
    }
   ],
   "source": [
    "# 丢弃lgd_inputs_stage_1_train中依然有空值的变量\n",
    "na_cols = inputs_1_train_na.index.values\n",
    "lgd_inputs_stage_1_train.drop(labels=na_cols, axis=1, inplace=True)\n",
    "lgd_inputs_stage_1_train.shape"
   ]
  },
  {
   "cell_type": "code",
   "execution_count": 28,
   "metadata": {},
   "outputs": [
    {
     "data": {
      "text/plain": [
       "['loan_amnt',\n",
       " 'funded_amnt',\n",
       " 'funded_amnt_inv',\n",
       " 'term',\n",
       " 'int_rate',\n",
       " 'installment',\n",
       " 'grade',\n",
       " 'sub_grade',\n",
       " 'emp_length',\n",
       " 'home_ownership',\n",
       " 'annual_inc',\n",
       " 'verification_status',\n",
       " 'issue_d',\n",
       " 'loan_status',\n",
       " 'pymnt_plan',\n",
       " 'url',\n",
       " 'purpose',\n",
       " 'title',\n",
       " 'zip_code',\n",
       " 'addr_state',\n",
       " 'dti',\n",
       " 'delinq_2yrs',\n",
       " 'earliest_cr_line',\n",
       " 'inq_last_6mths',\n",
       " 'mths_since_last_delinq',\n",
       " 'mths_since_last_record',\n",
       " 'open_acc',\n",
       " 'pub_rec',\n",
       " 'revol_bal',\n",
       " 'revol_util',\n",
       " 'total_acc',\n",
       " 'initial_list_status',\n",
       " 'out_prncp',\n",
       " 'out_prncp_inv',\n",
       " 'total_pymnt',\n",
       " 'total_pymnt_inv',\n",
       " 'total_rec_prncp',\n",
       " 'total_rec_int',\n",
       " 'total_rec_late_fee',\n",
       " 'recoveries',\n",
       " 'collection_recovery_fee',\n",
       " 'last_pymnt_d',\n",
       " 'last_pymnt_amnt',\n",
       " 'last_credit_pull_d',\n",
       " 'collections_12_mths_ex_med',\n",
       " 'policy_code',\n",
       " 'application_type',\n",
       " 'acc_now_delinq',\n",
       " 'total_rev_hi_lim',\n",
       " 'issue_d_date',\n",
       " 'issue_d_diff',\n",
       " 'issue_d_diff_factor',\n",
       " 'int_rate_factor',\n",
       " 'funded_amnt_factor',\n",
       " 'earliest_cr_line_date',\n",
       " 'earliest_cr_line_diff',\n",
       " 'earliest_cr_line_diff_factor',\n",
       " 'total_acc_factor',\n",
       " 'total_rev_hi_lim_factor',\n",
       " 'installment_factor']"
      ]
     },
     "execution_count": 28,
     "metadata": {},
     "output_type": "execute_result"
    }
   ],
   "source": [
    "# 显示所有没有缺失值的变量名，从中选出连续变量与分类变量\n",
    "original_notna_list = [x for x in lgd_inputs_stage_1_train.columns.values if ':' not in x]\n",
    "original_notna_list"
   ]
  },
  {
   "cell_type": "code",
   "execution_count": 29,
   "metadata": {},
   "outputs": [],
   "source": [
    "# 连续变量\n",
    "feature_LGD_stage1_continous = [\n",
    "    'loan_amnt',\n",
    "    'funded_amnt',\n",
    "    'funded_amnt_inv',\n",
    "    'term',\n",
    "    'int_rate',\n",
    "    'installment',\n",
    "    'emp_length',\n",
    "    'annual_inc',\n",
    "    'issue_d_diff',\n",
    "    'dti',\n",
    "    'delinq_2yrs',\n",
    "    'earliest_cr_line_diff',\n",
    "    'inq_last_6mths',\n",
    "    'mths_since_last_delinq',\n",
    "    'mths_since_last_record',\n",
    "    'open_acc',\n",
    "    'pub_rec',\n",
    "    'revol_bal',\n",
    "    'revol_util',\n",
    "    'total_acc',\n",
    "    'total_pymnt',\n",
    "    'total_pymnt_inv',\n",
    "    'total_rec_prncp',\n",
    "    'total_rec_int',\n",
    "    'total_rec_late_fee',\n",
    "    'recoveries',\n",
    "    'collection_recovery_fee',\n",
    "    'collections_12_mths_ex_med',\n",
    "    'acc_now_delinq',\n",
    "    'total_rev_hi_lim',\n",
    "]"
   ]
  },
  {
   "cell_type": "code",
   "execution_count": 30,
   "metadata": {},
   "outputs": [],
   "source": [
    "# 分类变量\n",
    "feature_LGD_stage1_catogerical = [\n",
    "    'grade',\n",
    "    'home_ownership',\n",
    "    'verification_status',\n",
    "    'purpose',\n",
    "    'addr_state',\n",
    "    'initial_list_status'    \n",
    "]"
   ]
  },
  {
   "cell_type": "code",
   "execution_count": 31,
   "metadata": {},
   "outputs": [
    {
     "data": {
      "text/plain": [
       "(30, 6)"
      ]
     },
     "execution_count": 31,
     "metadata": {},
     "output_type": "execute_result"
    }
   ],
   "source": [
    "# 查看长度\n",
    "len(feature_LGD_stage1_continous), len(feature_LGD_stage1_catogerical)"
   ]
  },
  {
   "cell_type": "code",
   "execution_count": 32,
   "metadata": {},
   "outputs": [],
   "source": [
    "# 将连续变量与分类变量合并\n",
    "feature_all = feature_LGD_stage1_continous + [x for x in lgd_inputs_stage_1_train.columns \n",
    "                                              if (x.split(':')[0] in feature_LGD_stage1_catogerical) \n",
    "                                              and (x not in feature_LGD_stage1_catogerical)]"
   ]
  },
  {
   "cell_type": "code",
   "execution_count": 33,
   "metadata": {},
   "outputs": [
    {
     "data": {
      "text/plain": [
       "67"
      ]
     },
     "execution_count": 33,
     "metadata": {},
     "output_type": "execute_result"
    }
   ],
   "source": [
    "len(feature_all)"
   ]
  },
  {
   "cell_type": "code",
   "execution_count": 34,
   "metadata": {},
   "outputs": [],
   "source": [
    "# 分类变量的参考dummy变量，必须去掉\n",
    "feature_LGD_stage1_catogerical_ref = [\n",
    "    'grade:G',\n",
    "    'home_ownership:NONE_OTHER_ANY',\n",
    "    'verification_status:Verified',\n",
    "    'purpose:educational_small_business',\n",
    "    'addr_state:ND_NE_IA_NV_FL_HI_AL',\n",
    "    'initial_list_status:f'\n",
    "]"
   ]
  },
  {
   "cell_type": "code",
   "execution_count": 35,
   "metadata": {},
   "outputs": [
    {
     "data": {
      "text/plain": [
       "['loan_amnt',\n",
       " 'funded_amnt',\n",
       " 'funded_amnt_inv',\n",
       " 'term',\n",
       " 'int_rate',\n",
       " 'installment',\n",
       " 'emp_length',\n",
       " 'annual_inc',\n",
       " 'issue_d_diff',\n",
       " 'dti',\n",
       " 'delinq_2yrs',\n",
       " 'earliest_cr_line_diff',\n",
       " 'inq_last_6mths',\n",
       " 'mths_since_last_delinq',\n",
       " 'mths_since_last_record',\n",
       " 'open_acc',\n",
       " 'pub_rec',\n",
       " 'revol_bal',\n",
       " 'revol_util',\n",
       " 'total_acc',\n",
       " 'total_pymnt',\n",
       " 'total_pymnt_inv',\n",
       " 'total_rec_prncp',\n",
       " 'total_rec_int',\n",
       " 'total_rec_late_fee',\n",
       " 'recoveries',\n",
       " 'collection_recovery_fee',\n",
       " 'collections_12_mths_ex_med',\n",
       " 'acc_now_delinq',\n",
       " 'total_rev_hi_lim',\n",
       " 'grade:A',\n",
       " 'grade:B',\n",
       " 'grade:C',\n",
       " 'grade:D',\n",
       " 'grade:E',\n",
       " 'grade:F',\n",
       " 'grade:G',\n",
       " 'home_ownership:MORTGAGE',\n",
       " 'home_ownership:OWN',\n",
       " 'home_ownership:RENT',\n",
       " 'home_ownership:NONE_OTHER_ANY',\n",
       " 'verification_status:Not Verified',\n",
       " 'verification_status:Source Verified',\n",
       " 'verification_status:Verified',\n",
       " 'purpose:educational_small_business',\n",
       " 'purpose:credit_card',\n",
       " 'purpose:car_major_purchase_home_improvement',\n",
       " 'purpose:debt_consolidation',\n",
       " 'purpose:wedding_vacation',\n",
       " 'purpose:medical_other_house',\n",
       " 'purpose:renewable_energy_moving',\n",
       " 'initial_list_status:f',\n",
       " 'initial_list_status:w',\n",
       " 'addr_state:ND_NE_IA_NV_FL_HI_AL',\n",
       " 'addr_state:NM_VA',\n",
       " 'addr_state:NY',\n",
       " 'addr_state:OK_TN_MO_LA_MD_NC',\n",
       " 'addr_state:CA',\n",
       " 'addr_state:UT_KY_AZ_NJ',\n",
       " 'addr_state:AR_MI_PA_OH_MN',\n",
       " 'addr_state:RI_MA_DE_SD_IN',\n",
       " 'addr_state:GA_WA_OR',\n",
       " 'addr_state:WI_MT',\n",
       " 'addr_state:TX',\n",
       " 'addr_state:IL_CT',\n",
       " 'addr_state:KS_SC_CO_VT_AK_MS',\n",
       " 'addr_state:WV_NH_WY_DC_ME_ID']"
      ]
     },
     "execution_count": 35,
     "metadata": {},
     "output_type": "execute_result"
    }
   ],
   "source": [
    "feature_all"
   ]
  },
  {
   "cell_type": "code",
   "execution_count": 36,
   "metadata": {},
   "outputs": [],
   "source": [
    "# 挑选出上面选择的变量\n",
    "lgd_inputs_stage_1_train = lgd_inputs_stage_1_train[feature_all]"
   ]
  },
  {
   "cell_type": "code",
   "execution_count": 37,
   "metadata": {},
   "outputs": [],
   "source": [
    "# 丢弃参考dummy\n",
    "lgd_inputs_stage_1_train.drop(labels=feature_LGD_stage1_catogerical_ref, axis=1, inplace=True)"
   ]
  },
  {
   "cell_type": "code",
   "execution_count": 38,
   "metadata": {},
   "outputs": [
    {
     "data": {
      "text/plain": [
       "0"
      ]
     },
     "execution_count": 38,
     "metadata": {},
     "output_type": "execute_result"
    }
   ],
   "source": [
    "# 检查是否有空值\n",
    "lgd_inputs_stage_1_train.isna().sum().sum()"
   ]
  },
  {
   "cell_type": "markdown",
   "metadata": {},
   "source": [
    "### 4.2 求解模型"
   ]
  },
  {
   "cell_type": "code",
   "execution_count": 39,
   "metadata": {},
   "outputs": [],
   "source": [
    "# P values for sklearn logistic regression.\n",
    "\n",
    "# Class to display p-values for logistic regression in sklearn.\n",
    "\n",
    "from sklearn import linear_model\n",
    "import scipy.stats as stat\n",
    "\n",
    "class LogisticRegression_with_p_values:\n",
    "    \n",
    "    def __init__(self,*args,**kwargs):#,**kwargs):\n",
    "        self.model = linear_model.LogisticRegression(*args,**kwargs)#,**args)\n",
    "\n",
    "    def fit(self,X,y):\n",
    "        self.model.fit(X,y)\n",
    "        \n",
    "        #### Get p-values for the fitted model ####\n",
    "        denom = (2.0 * (1.0 + np.cosh(self.model.decision_function(X))))\n",
    "        denom = np.tile(denom,(X.shape[1],1)).T\n",
    "        F_ij = np.dot((X / denom).T,X) ## Fisher Information Matrix\n",
    "        Cramer_Rao = np.linalg.inv(F_ij) ## Inverse Information Matrix\n",
    "        sigma_estimates = np.sqrt(np.diagonal(Cramer_Rao))\n",
    "        z_scores = self.model.coef_[0] / sigma_estimates # z-score for eaach model coefficient\n",
    "        p_values = [stat.norm.sf(abs(x)) * 2 for x in z_scores] ### two tailed test for p-values\n",
    "        \n",
    "        self.coef_ = self.model.coef_\n",
    "        self.intercept_ = self.model.intercept_\n",
    "        #self.z_scores = z_scores\n",
    "        self.p_values = p_values\n",
    "        #self.sigma_estimates = sigma_estimates\n",
    "        #self.F_ij = F_ij"
   ]
  },
  {
   "cell_type": "code",
   "execution_count": 40,
   "metadata": {},
   "outputs": [
    {
     "name": "stdout",
     "output_type": "stream",
     "text": [
      "<class 'pandas.core.frame.DataFrame'>\n",
      "Int64Index: 34224 entries, 58651 to 136956\n",
      "Data columns (total 61 columns):\n",
      " #   Column                                       Non-Null Count  Dtype  \n",
      "---  ------                                       --------------  -----  \n",
      " 0   loan_amnt                                    34224 non-null  int64  \n",
      " 1   funded_amnt                                  34224 non-null  int64  \n",
      " 2   funded_amnt_inv                              34224 non-null  float64\n",
      " 3   term                                         34224 non-null  int64  \n",
      " 4   int_rate                                     34224 non-null  float64\n",
      " 5   installment                                  34224 non-null  float64\n",
      " 6   emp_length                                   34224 non-null  int64  \n",
      " 7   annual_inc                                   34224 non-null  float64\n",
      " 8   issue_d_diff                                 34224 non-null  float64\n",
      " 9   dti                                          34224 non-null  float64\n",
      " 10  delinq_2yrs                                  34224 non-null  int64  \n",
      " 11  earliest_cr_line_diff                        34224 non-null  float64\n",
      " 12  inq_last_6mths                               34224 non-null  float64\n",
      " 13  mths_since_last_delinq                       34224 non-null  float64\n",
      " 14  mths_since_last_record                       34224 non-null  float64\n",
      " 15  open_acc                                     34224 non-null  float64\n",
      " 16  pub_rec                                      34224 non-null  float64\n",
      " 17  revol_bal                                    34224 non-null  int64  \n",
      " 18  revol_util                                   34224 non-null  float64\n",
      " 19  total_acc                                    34224 non-null  float64\n",
      " 20  total_pymnt                                  34224 non-null  float64\n",
      " 21  total_pymnt_inv                              34224 non-null  float64\n",
      " 22  total_rec_prncp                              34224 non-null  float64\n",
      " 23  total_rec_int                                34224 non-null  float64\n",
      " 24  total_rec_late_fee                           34224 non-null  float64\n",
      " 25  recoveries                                   34224 non-null  float64\n",
      " 26  collection_recovery_fee                      34224 non-null  float64\n",
      " 27  collections_12_mths_ex_med                   34224 non-null  float64\n",
      " 28  acc_now_delinq                               34224 non-null  float64\n",
      " 29  total_rev_hi_lim                             34224 non-null  float64\n",
      " 30  grade:A                                      34224 non-null  int64  \n",
      " 31  grade:B                                      34224 non-null  int64  \n",
      " 32  grade:C                                      34224 non-null  int64  \n",
      " 33  grade:D                                      34224 non-null  int64  \n",
      " 34  grade:E                                      34224 non-null  int64  \n",
      " 35  grade:F                                      34224 non-null  int64  \n",
      " 36  home_ownership:MORTGAGE                      34224 non-null  int64  \n",
      " 37  home_ownership:OWN                           34224 non-null  int64  \n",
      " 38  home_ownership:RENT                          34224 non-null  int64  \n",
      " 39  verification_status:Not Verified             34224 non-null  int64  \n",
      " 40  verification_status:Source Verified          34224 non-null  int64  \n",
      " 41  purpose:credit_card                          34224 non-null  int64  \n",
      " 42  purpose:car_major_purchase_home_improvement  34224 non-null  int64  \n",
      " 43  purpose:debt_consolidation                   34224 non-null  int64  \n",
      " 44  purpose:wedding_vacation                     34224 non-null  int64  \n",
      " 45  purpose:medical_other_house                  34224 non-null  int64  \n",
      " 46  purpose:renewable_energy_moving              34224 non-null  int64  \n",
      " 47  initial_list_status:w                        34224 non-null  int64  \n",
      " 48  addr_state:NM_VA                             34224 non-null  int64  \n",
      " 49  addr_state:NY                                34224 non-null  int64  \n",
      " 50  addr_state:OK_TN_MO_LA_MD_NC                 34224 non-null  int64  \n",
      " 51  addr_state:CA                                34224 non-null  int64  \n",
      " 52  addr_state:UT_KY_AZ_NJ                       34224 non-null  int64  \n",
      " 53  addr_state:AR_MI_PA_OH_MN                    34224 non-null  int64  \n",
      " 54  addr_state:RI_MA_DE_SD_IN                    34224 non-null  int64  \n",
      " 55  addr_state:GA_WA_OR                          34224 non-null  int64  \n",
      " 56  addr_state:WI_MT                             34224 non-null  int64  \n",
      " 57  addr_state:TX                                34224 non-null  int64  \n",
      " 58  addr_state:IL_CT                             34224 non-null  int64  \n",
      " 59  addr_state:KS_SC_CO_VT_AK_MS                 34224 non-null  int64  \n",
      " 60  addr_state:WV_NH_WY_DC_ME_ID                 34224 non-null  int64  \n",
      "dtypes: float64(24), int64(37)\n",
      "memory usage: 16.2 MB\n"
     ]
    }
   ],
   "source": [
    "lgd_inputs_stage_1_train.info()"
   ]
  },
  {
   "cell_type": "code",
   "execution_count": 41,
   "metadata": {},
   "outputs": [
    {
     "name": "stderr",
     "output_type": "stream",
     "text": [
      "/home/ligy/anaconda3/lib/python3.7/site-packages/sklearn/linear_model/_logistic.py:940: ConvergenceWarning: lbfgs failed to converge (status=1):\n",
      "STOP: TOTAL NO. of ITERATIONS REACHED LIMIT.\n",
      "\n",
      "Increase the number of iterations (max_iter) or scale the data as shown in:\n",
      "    https://scikit-learn.org/stable/modules/preprocessing.html\n",
      "Please also refer to the documentation for alternative solver options:\n",
      "    https://scikit-learn.org/stable/modules/linear_model.html#logistic-regression\n",
      "  extra_warning_msg=_LOGISTIC_SOLVER_CONVERGENCE_MSG)\n",
      "/home/ligy/anaconda3/lib/python3.7/site-packages/ipykernel_launcher.py:17: RuntimeWarning: overflow encountered in cosh\n",
      "/home/ligy/anaconda3/lib/python3.7/site-packages/ipykernel_launcher.py:17: RuntimeWarning: overflow encountered in multiply\n"
     ]
    }
   ],
   "source": [
    "# stage 1 的模型\n",
    "reg_lgd_st_1 = LogisticRegression_with_p_values(max_iter = 1000)\n",
    "reg_lgd_st_1.fit(lgd_inputs_stage_1_train, lgd_targets_stage_1_train)"
   ]
  },
  {
   "cell_type": "code",
   "execution_count": 42,
   "metadata": {},
   "outputs": [],
   "source": [
    "feature_name = lgd_inputs_stage_1_train.columns.values\n",
    "# Stores the names of the columns of a dataframe in a variable."
   ]
  },
  {
   "cell_type": "code",
   "execution_count": 43,
   "metadata": {
    "scrolled": true
   },
   "outputs": [
    {
     "data": {
      "text/html": [
       "<div>\n",
       "<style scoped>\n",
       "    .dataframe tbody tr th:only-of-type {\n",
       "        vertical-align: middle;\n",
       "    }\n",
       "\n",
       "    .dataframe tbody tr th {\n",
       "        vertical-align: top;\n",
       "    }\n",
       "\n",
       "    .dataframe thead th {\n",
       "        text-align: right;\n",
       "    }\n",
       "</style>\n",
       "<table border=\"1\" class=\"dataframe\">\n",
       "  <thead>\n",
       "    <tr style=\"text-align: right;\">\n",
       "      <th></th>\n",
       "      <th>Feature name</th>\n",
       "      <th>Coefficients</th>\n",
       "      <th>p_values</th>\n",
       "    </tr>\n",
       "  </thead>\n",
       "  <tbody>\n",
       "    <tr>\n",
       "      <th>0</th>\n",
       "      <td>Intercept</td>\n",
       "      <td>-0.003941</td>\n",
       "      <td>NaN</td>\n",
       "    </tr>\n",
       "    <tr>\n",
       "      <th>1</th>\n",
       "      <td>loan_amnt</td>\n",
       "      <td>0.000700</td>\n",
       "      <td>0.069348</td>\n",
       "    </tr>\n",
       "    <tr>\n",
       "      <th>2</th>\n",
       "      <td>funded_amnt</td>\n",
       "      <td>-0.000432</td>\n",
       "      <td>0.504479</td>\n",
       "    </tr>\n",
       "    <tr>\n",
       "      <th>3</th>\n",
       "      <td>funded_amnt_inv</td>\n",
       "      <td>0.000258</td>\n",
       "      <td>0.619737</td>\n",
       "    </tr>\n",
       "    <tr>\n",
       "      <th>4</th>\n",
       "      <td>term</td>\n",
       "      <td>-0.153440</td>\n",
       "      <td>0.234032</td>\n",
       "    </tr>\n",
       "    <tr>\n",
       "      <th>...</th>\n",
       "      <td>...</td>\n",
       "      <td>...</td>\n",
       "      <td>...</td>\n",
       "    </tr>\n",
       "    <tr>\n",
       "      <th>57</th>\n",
       "      <td>addr_state:WI_MT</td>\n",
       "      <td>-0.000075</td>\n",
       "      <td>0.999989</td>\n",
       "    </tr>\n",
       "    <tr>\n",
       "      <th>58</th>\n",
       "      <td>addr_state:TX</td>\n",
       "      <td>-0.000227</td>\n",
       "      <td>0.999926</td>\n",
       "    </tr>\n",
       "    <tr>\n",
       "      <th>59</th>\n",
       "      <td>addr_state:IL_CT</td>\n",
       "      <td>-0.000165</td>\n",
       "      <td>0.999951</td>\n",
       "    </tr>\n",
       "    <tr>\n",
       "      <th>60</th>\n",
       "      <td>addr_state:KS_SC_CO_VT_AK_MS</td>\n",
       "      <td>-0.000231</td>\n",
       "      <td>0.999948</td>\n",
       "    </tr>\n",
       "    <tr>\n",
       "      <th>61</th>\n",
       "      <td>addr_state:WV_NH_WY_DC_ME_ID</td>\n",
       "      <td>-0.000139</td>\n",
       "      <td>0.999984</td>\n",
       "    </tr>\n",
       "  </tbody>\n",
       "</table>\n",
       "<p>62 rows × 3 columns</p>\n",
       "</div>"
      ],
      "text/plain": [
       "                    Feature name  Coefficients  p_values\n",
       "0                      Intercept     -0.003941       NaN\n",
       "1                      loan_amnt      0.000700  0.069348\n",
       "2                    funded_amnt     -0.000432  0.504479\n",
       "3                funded_amnt_inv      0.000258  0.619737\n",
       "4                           term     -0.153440  0.234032\n",
       "..                           ...           ...       ...\n",
       "57              addr_state:WI_MT     -0.000075  0.999989\n",
       "58                 addr_state:TX     -0.000227  0.999926\n",
       "59              addr_state:IL_CT     -0.000165  0.999951\n",
       "60  addr_state:KS_SC_CO_VT_AK_MS     -0.000231  0.999948\n",
       "61  addr_state:WV_NH_WY_DC_ME_ID     -0.000139  0.999984\n",
       "\n",
       "[62 rows x 3 columns]"
      ]
     },
     "execution_count": 43,
     "metadata": {},
     "output_type": "execute_result"
    }
   ],
   "source": [
    "summary_table = pd.DataFrame(columns = ['Feature name'], data = feature_name)\n",
    "# Creates a dataframe with a column titled 'Feature name' and row values contained in the 'feature_name' variable.\n",
    "summary_table['Coefficients'] = np.transpose(reg_lgd_st_1.coef_)\n",
    "# Creates a new column in the dataframe, called 'Coefficients',\n",
    "# with row values the transposed coefficients from the 'LogisticRegression' object.\n",
    "summary_table.index = summary_table.index + 1\n",
    "# Increases the index of every row of the dataframe with 1.\n",
    "summary_table.loc[0] = ['Intercept', reg_lgd_st_1.intercept_[0]]\n",
    "# Assigns values of the row with index 0 of the dataframe.\n",
    "summary_table = summary_table.sort_index()\n",
    "# Sorts the dataframe by index.\n",
    "p_values = reg_lgd_st_1.p_values\n",
    "# We take the result of the newly added method 'p_values' and store it in a variable 'p_values'.\n",
    "p_values = np.append(np.nan,np.array(p_values))\n",
    "# We add the value 'NaN' in the beginning of the variable with p-values.\n",
    "summary_table['p_values'] = p_values\n",
    "# In the 'summary_table' dataframe, we add a new column, called 'p_values', containing the values from the 'p_values' variable.\n",
    "summary_table"
   ]
  },
  {
   "cell_type": "markdown",
   "metadata": {},
   "source": [
    "### 4.3 测试模型"
   ]
  },
  {
   "cell_type": "code",
   "execution_count": 44,
   "metadata": {},
   "outputs": [],
   "source": [
    "# 选择与训练集相同的变量，并丢弃参考dummy\n",
    "lgd_inputs_stage_1_test = lgd_inputs_stage_1_test[feature_all]\n",
    "lgd_inputs_stage_1_test = lgd_inputs_stage_1_test.drop(feature_LGD_stage1_catogerical_ref, axis = 1)\n"
   ]
  },
  {
   "cell_type": "code",
   "execution_count": 45,
   "metadata": {},
   "outputs": [],
   "source": [
    "# 预测\n",
    "y_pred_test_lgd_stage_1 = reg_lgd_st_1.model.predict(lgd_inputs_stage_1_test)"
   ]
  },
  {
   "cell_type": "code",
   "execution_count": 46,
   "metadata": {},
   "outputs": [
    {
     "data": {
      "text/plain": [
       "array([0, 1, 1, ..., 1, 1, 0])"
      ]
     },
     "execution_count": 46,
     "metadata": {},
     "output_type": "execute_result"
    }
   ],
   "source": [
    "y_pred_test_lgd_stage_1"
   ]
  },
  {
   "cell_type": "code",
   "execution_count": 47,
   "metadata": {},
   "outputs": [
    {
     "data": {
      "text/plain": [
       "array([[9.99996521e-01, 3.47906092e-06],\n",
       "       [0.00000000e+00, 1.00000000e+00],\n",
       "       [0.00000000e+00, 1.00000000e+00],\n",
       "       ...,\n",
       "       [0.00000000e+00, 1.00000000e+00],\n",
       "       [0.00000000e+00, 1.00000000e+00],\n",
       "       [9.99969266e-01, 3.07341003e-05]])"
      ]
     },
     "execution_count": 47,
     "metadata": {},
     "output_type": "execute_result"
    }
   ],
   "source": [
    "# 分类的概率\n",
    "y_pred_test_proba_lgd_stage_1 = reg_lgd_st_1.model.predict_proba(lgd_inputs_stage_1_test)\n",
    "y_pred_test_proba_lgd_stage_1"
   ]
  },
  {
   "cell_type": "code",
   "execution_count": 48,
   "metadata": {},
   "outputs": [],
   "source": [
    "# 挑出1类的概率，即RR不为0的概率\n",
    "y_pred_test_proba_lgd_stage_1 = y_pred_test_proba_lgd_stage_1[: ][: , 1]"
   ]
  },
  {
   "cell_type": "code",
   "execution_count": 49,
   "metadata": {},
   "outputs": [],
   "source": [
    "lgd_targets_stage_1_test_temp = lgd_targets_stage_1_test"
   ]
  },
  {
   "cell_type": "code",
   "execution_count": 50,
   "metadata": {},
   "outputs": [
    {
     "data": {
      "text/plain": [
       "312595    0\n",
       "114572    1\n",
       "211891    1\n",
       "294184    0\n",
       "435151    0\n",
       "         ..\n",
       "379283    0\n",
       "115814    1\n",
       "331563    1\n",
       "173163    1\n",
       "258407    0\n",
       "Name: RR_0_1, Length: 8557, dtype: int64"
      ]
     },
     "execution_count": 50,
     "metadata": {},
     "output_type": "execute_result"
    }
   ],
   "source": [
    "lgd_targets_stage_1_test_temp"
   ]
  },
  {
   "cell_type": "code",
   "execution_count": 51,
   "metadata": {},
   "outputs": [],
   "source": [
    "# 更新索引\n",
    "lgd_targets_stage_1_test_temp.reset_index(drop = True, inplace = True)"
   ]
  },
  {
   "cell_type": "code",
   "execution_count": 52,
   "metadata": {},
   "outputs": [
    {
     "data": {
      "text/plain": [
       "0       0\n",
       "1       1\n",
       "2       1\n",
       "3       0\n",
       "4       0\n",
       "       ..\n",
       "8552    0\n",
       "8553    1\n",
       "8554    1\n",
       "8555    1\n",
       "8556    0\n",
       "Name: RR_0_1, Length: 8557, dtype: int64"
      ]
     },
     "execution_count": 52,
     "metadata": {},
     "output_type": "execute_result"
    }
   ],
   "source": [
    "lgd_targets_stage_1_test_temp"
   ]
  },
  {
   "cell_type": "code",
   "execution_count": 53,
   "metadata": {},
   "outputs": [],
   "source": [
    "df_actual_predicted_probs = pd.concat([lgd_targets_stage_1_test_temp, pd.DataFrame(y_pred_test_proba_lgd_stage_1)], axis = 1)"
   ]
  },
  {
   "cell_type": "code",
   "execution_count": 54,
   "metadata": {},
   "outputs": [],
   "source": [
    "df_actual_predicted_probs.columns = ['lgd_targets_stage_1_test', 'y_pred_test_proba_lgd_stage_1']"
   ]
  },
  {
   "cell_type": "code",
   "execution_count": 55,
   "metadata": {},
   "outputs": [],
   "source": [
    "df_actual_predicted_probs.index = lgd_inputs_stage_1_test.index"
   ]
  },
  {
   "cell_type": "code",
   "execution_count": 56,
   "metadata": {},
   "outputs": [
    {
     "data": {
      "text/html": [
       "<div>\n",
       "<style scoped>\n",
       "    .dataframe tbody tr th:only-of-type {\n",
       "        vertical-align: middle;\n",
       "    }\n",
       "\n",
       "    .dataframe tbody tr th {\n",
       "        vertical-align: top;\n",
       "    }\n",
       "\n",
       "    .dataframe thead th {\n",
       "        text-align: right;\n",
       "    }\n",
       "</style>\n",
       "<table border=\"1\" class=\"dataframe\">\n",
       "  <thead>\n",
       "    <tr style=\"text-align: right;\">\n",
       "      <th></th>\n",
       "      <th>lgd_targets_stage_1_test</th>\n",
       "      <th>y_pred_test_proba_lgd_stage_1</th>\n",
       "    </tr>\n",
       "  </thead>\n",
       "  <tbody>\n",
       "    <tr>\n",
       "      <th>312595</th>\n",
       "      <td>0</td>\n",
       "      <td>3.479061e-06</td>\n",
       "    </tr>\n",
       "    <tr>\n",
       "      <th>114572</th>\n",
       "      <td>1</td>\n",
       "      <td>1.000000e+00</td>\n",
       "    </tr>\n",
       "    <tr>\n",
       "      <th>211891</th>\n",
       "      <td>1</td>\n",
       "      <td>1.000000e+00</td>\n",
       "    </tr>\n",
       "    <tr>\n",
       "      <th>294184</th>\n",
       "      <td>0</td>\n",
       "      <td>5.049881e-09</td>\n",
       "    </tr>\n",
       "    <tr>\n",
       "      <th>435151</th>\n",
       "      <td>0</td>\n",
       "      <td>1.186916e-08</td>\n",
       "    </tr>\n",
       "  </tbody>\n",
       "</table>\n",
       "</div>"
      ],
      "text/plain": [
       "        lgd_targets_stage_1_test  y_pred_test_proba_lgd_stage_1\n",
       "312595                         0                   3.479061e-06\n",
       "114572                         1                   1.000000e+00\n",
       "211891                         1                   1.000000e+00\n",
       "294184                         0                   5.049881e-09\n",
       "435151                         0                   1.186916e-08"
      ]
     },
     "execution_count": 56,
     "metadata": {},
     "output_type": "execute_result"
    }
   ],
   "source": [
    "df_actual_predicted_probs.head()"
   ]
  },
  {
   "cell_type": "markdown",
   "metadata": {},
   "source": [
    "### 4.4 模型的准确率accuracy"
   ]
  },
  {
   "cell_type": "code",
   "execution_count": 57,
   "metadata": {},
   "outputs": [],
   "source": [
    "tr = 0.5\n",
    "df_actual_predicted_probs['y_pred_test_lgd_stage_1'] = np.where(df_actual_predicted_probs['y_pred_test_proba_lgd_stage_1'] > tr, 1, 0)"
   ]
  },
  {
   "cell_type": "code",
   "execution_count": 58,
   "metadata": {},
   "outputs": [
    {
     "data": {
      "text/html": [
       "<div>\n",
       "<style scoped>\n",
       "    .dataframe tbody tr th:only-of-type {\n",
       "        vertical-align: middle;\n",
       "    }\n",
       "\n",
       "    .dataframe tbody tr th {\n",
       "        vertical-align: top;\n",
       "    }\n",
       "\n",
       "    .dataframe thead th {\n",
       "        text-align: right;\n",
       "    }\n",
       "</style>\n",
       "<table border=\"1\" class=\"dataframe\">\n",
       "  <thead>\n",
       "    <tr style=\"text-align: right;\">\n",
       "      <th>Predicted</th>\n",
       "      <th>0</th>\n",
       "      <th>1</th>\n",
       "    </tr>\n",
       "    <tr>\n",
       "      <th>Actual</th>\n",
       "      <th></th>\n",
       "      <th></th>\n",
       "    </tr>\n",
       "  </thead>\n",
       "  <tbody>\n",
       "    <tr>\n",
       "      <th>0</th>\n",
       "      <td>3778</td>\n",
       "      <td>0</td>\n",
       "    </tr>\n",
       "    <tr>\n",
       "      <th>1</th>\n",
       "      <td>6</td>\n",
       "      <td>4773</td>\n",
       "    </tr>\n",
       "  </tbody>\n",
       "</table>\n",
       "</div>"
      ],
      "text/plain": [
       "Predicted     0     1\n",
       "Actual               \n",
       "0          3778     0\n",
       "1             6  4773"
      ]
     },
     "execution_count": 58,
     "metadata": {},
     "output_type": "execute_result"
    }
   ],
   "source": [
    "pd.crosstab(df_actual_predicted_probs['lgd_targets_stage_1_test'], df_actual_predicted_probs['y_pred_test_lgd_stage_1'], rownames = ['Actual'], colnames = ['Predicted'])\n"
   ]
  },
  {
   "cell_type": "code",
   "execution_count": 59,
   "metadata": {},
   "outputs": [
    {
     "data": {
      "text/html": [
       "<div>\n",
       "<style scoped>\n",
       "    .dataframe tbody tr th:only-of-type {\n",
       "        vertical-align: middle;\n",
       "    }\n",
       "\n",
       "    .dataframe tbody tr th {\n",
       "        vertical-align: top;\n",
       "    }\n",
       "\n",
       "    .dataframe thead th {\n",
       "        text-align: right;\n",
       "    }\n",
       "</style>\n",
       "<table border=\"1\" class=\"dataframe\">\n",
       "  <thead>\n",
       "    <tr style=\"text-align: right;\">\n",
       "      <th>Predicted</th>\n",
       "      <th>0</th>\n",
       "      <th>1</th>\n",
       "    </tr>\n",
       "    <tr>\n",
       "      <th>Actual</th>\n",
       "      <th></th>\n",
       "      <th></th>\n",
       "    </tr>\n",
       "  </thead>\n",
       "  <tbody>\n",
       "    <tr>\n",
       "      <th>0</th>\n",
       "      <td>0.441510</td>\n",
       "      <td>0.000000</td>\n",
       "    </tr>\n",
       "    <tr>\n",
       "      <th>1</th>\n",
       "      <td>0.000701</td>\n",
       "      <td>0.557789</td>\n",
       "    </tr>\n",
       "  </tbody>\n",
       "</table>\n",
       "</div>"
      ],
      "text/plain": [
       "Predicted         0         1\n",
       "Actual                       \n",
       "0          0.441510  0.000000\n",
       "1          0.000701  0.557789"
      ]
     },
     "execution_count": 59,
     "metadata": {},
     "output_type": "execute_result"
    }
   ],
   "source": [
    "pd.crosstab(df_actual_predicted_probs['lgd_targets_stage_1_test'], df_actual_predicted_probs['y_pred_test_lgd_stage_1'], rownames = ['Actual'], colnames = ['Predicted']) / df_actual_predicted_probs.shape[0]"
   ]
  },
  {
   "cell_type": "code",
   "execution_count": 60,
   "metadata": {},
   "outputs": [
    {
     "data": {
      "text/plain": [
       "0.9992988196797943"
      ]
     },
     "execution_count": 60,
     "metadata": {},
     "output_type": "execute_result"
    }
   ],
   "source": [
    "(pd.crosstab(df_actual_predicted_probs['lgd_targets_stage_1_test'], df_actual_predicted_probs['y_pred_test_lgd_stage_1'], rownames = ['Actual'], colnames = ['Predicted']) / df_actual_predicted_probs.shape[0]).iloc[0, 0] + (pd.crosstab(df_actual_predicted_probs['lgd_targets_stage_1_test'], df_actual_predicted_probs['y_pred_test_lgd_stage_1'], rownames = ['Actual'], colnames = ['Predicted']) / df_actual_predicted_probs.shape[0]).iloc[1, 1]"
   ]
  },
  {
   "cell_type": "code",
   "execution_count": 61,
   "metadata": {},
   "outputs": [],
   "source": [
    "from sklearn.metrics import roc_curve, roc_auc_score\n",
    "fpr, tpr, thresholds = roc_curve(df_actual_predicted_probs['lgd_targets_stage_1_test'], df_actual_predicted_probs['y_pred_test_proba_lgd_stage_1'])"
   ]
  },
  {
   "cell_type": "code",
   "execution_count": 62,
   "metadata": {},
   "outputs": [
    {
     "data": {
      "text/plain": [
       "Text(0.5, 1.0, 'ROC curve')"
      ]
     },
     "execution_count": 62,
     "metadata": {},
     "output_type": "execute_result"
    },
    {
     "data": {
      "image/png": "[encoded data removed]",
      "text/plain": [
       "<Figure size 432x288 with 1 Axes>"
      ]
     },
     "metadata": {
      "needs_background": "light"
     },
     "output_type": "display_data"
    }
   ],
   "source": [
    "import matplotlib.pyplot as plt\n",
    "plt.plot(fpr, tpr)\n",
    "# We plot the false positive rate along the x-axis and the true positive rate along the y-axis,\n",
    "# thus plotting the ROC curve.\n",
    "plt.plot(fpr, fpr, linestyle = '--', color = 'k')\n",
    "# We plot a seconary diagonal line, with dashed line style and black color.\n",
    "plt.xlabel('False positive rate')\n",
    "# We name the x-axis \"False positive rate\".\n",
    "plt.ylabel('True positive rate')\n",
    "# We name the x-axis \"True positive rate\".\n",
    "plt.title('ROC curve')\n",
    "# We name the graph \"ROC curve\"."
   ]
  },
  {
   "cell_type": "code",
   "execution_count": 63,
   "metadata": {},
   "outputs": [
    {
     "data": {
      "text/plain": [
       "0.9998039331019744"
      ]
     },
     "execution_count": 63,
     "metadata": {},
     "output_type": "execute_result"
    }
   ],
   "source": [
    "AUROC = roc_auc_score(df_actual_predicted_probs['lgd_targets_stage_1_test'], df_actual_predicted_probs['y_pred_test_proba_lgd_stage_1'])\n",
    "# Calculates the Area Under the Receiver Operating Characteristic Curve (AUROC)\n",
    "# from a set of actual values and their predicted probabilities.\n",
    "AUROC"
   ]
  },
  {
   "cell_type": "markdown",
   "metadata": {},
   "source": [
    "### 4.5 保存模型"
   ]
  },
  {
   "cell_type": "code",
   "execution_count": 64,
   "metadata": {},
   "outputs": [],
   "source": [
    "import pickle\n",
    "pickle.dump(reg_lgd_st_1, open('lgd_model_stage_1.sav', 'wb'))"
   ]
  },
  {
   "cell_type": "markdown",
   "metadata": {},
   "source": [
    "### 4.6 第二阶段建模"
   ]
  },
  {
   "cell_type": "markdown",
   "metadata": {},
   "source": [
    "*stage 2: 线性回归LinearRegression*"
   ]
  },
  {
   "cell_type": "code",
   "execution_count": 65,
   "metadata": {},
   "outputs": [],
   "source": [
    "# 对RR不为0的实例进行建模\n",
    "lgd_stage_2_data = df[df['RR_0_1'] == 1]\n",
    "lgd_inputs_stage_2_train, lgd_inputs_stage_2_test, \\\n",
    "lgd_targets_stage_2_train, lgd_targets_stage_2_test = \\\n",
    "train_test_split(lgd_stage_2_data.drop(['good_bad', 'recovery_rate','RR_0_1', 'CCF'], axis = 1), \n",
    "                 lgd_stage_2_data['recovery_rate'],\n",
    "                 test_size = 0.2,\n",
    "                 random_state = 42)\n"
   ]
  },
  {
   "cell_type": "code",
   "execution_count": 66,
   "metadata": {},
   "outputs": [],
   "source": [
    "# 回归问题的模型与性能度量\n",
    "from sklearn import linear_model\n",
    "from sklearn.metrics import mean_squared_error, r2_score"
   ]
  },
  {
   "cell_type": "code",
   "execution_count": 67,
   "metadata": {},
   "outputs": [],
   "source": [
    "# Since the p-values are obtained through certain statistics, we need the 'stat' module from scipy.stats\n",
    "import scipy.stats as stat\n",
    "\n",
    "# Since we are using an object oriented language such as Python, we can simply define our own \n",
    "# LinearRegression class (the same one from sklearn)\n",
    "# By typing the code below we will ovewrite a part of the class with one that includes p-values\n",
    "# Here's the full source code of the ORIGINAL class: https://github.com/scikit-learn/scikit-learn/blob/7b136e9/sklearn/linear_model/base.py#L362\n",
    "\n",
    "\n",
    "class LinearRegression(linear_model.LinearRegression):\n",
    "    \"\"\"\n",
    "    LinearRegression class after sklearn's, but calculate t-statistics\n",
    "    and p-values for model coefficients (betas).\n",
    "    Additional attributes available after .fit()\n",
    "    are `t` and `p` which are of the shape (y.shape[1], X.shape[1])\n",
    "    which is (n_features, n_coefs)\n",
    "    This class sets the intercept to 0 by default, since usually we include it\n",
    "    in X.\n",
    "    \"\"\"\n",
    "    \n",
    "    # nothing changes in __init__\n",
    "    def __init__(self, fit_intercept=True, normalize=False, copy_X=True,\n",
    "                 n_jobs=1):\n",
    "        self.fit_intercept = fit_intercept\n",
    "        self.normalize = normalize\n",
    "        self.copy_X = copy_X\n",
    "        self.n_jobs = n_jobs\n",
    "\n",
    "    \n",
    "    def fit(self, X, y, n_jobs=1):\n",
    "        self = super(LinearRegression, self).fit(X, y, n_jobs)\n",
    "        \n",
    "        # Calculate SSE (sum of squared errors)\n",
    "        # and SE (standard error)\n",
    "        sse = np.sum((self.predict(X) - y) ** 2, axis=0) / float(X.shape[0] - X.shape[1])\n",
    "        se = np.array([np.sqrt(np.diagonal(sse * np.linalg.inv(np.dot(X.T, X))))])\n",
    "\n",
    "        # compute the t-statistic for each feature\n",
    "        self.t = self.coef_ / se\n",
    "        # find the p-value for each feature\n",
    "        self.p = np.squeeze(2 * (1 - stat.t.cdf(np.abs(self.t), y.shape[0] - X.shape[1])))\n",
    "        return self"
   ]
  },
  {
   "cell_type": "code",
   "execution_count": 68,
   "metadata": {},
   "outputs": [],
   "source": [
    "# 保留的变量与第一阶段相同，并丢弃参考dummy变量\n",
    "lgd_inputs_stage_2_train = lgd_inputs_stage_2_train[feature_all]\n",
    "lgd_inputs_stage_2_train = lgd_inputs_stage_2_train.drop(feature_LGD_stage1_catogerical_ref, axis = 1)"
   ]
  },
  {
   "cell_type": "code",
   "execution_count": 69,
   "metadata": {},
   "outputs": [
    {
     "data": {
      "text/plain": [
       "LinearRegression(copy_X=True, fit_intercept=True, n_jobs=1, normalize=False)"
      ]
     },
     "execution_count": 69,
     "metadata": {},
     "output_type": "execute_result"
    }
   ],
   "source": [
    "reg_lgd_st_2 = LinearRegression()\n",
    "reg_lgd_st_2.fit(lgd_inputs_stage_2_train, lgd_targets_stage_2_train)\n"
   ]
  },
  {
   "cell_type": "code",
   "execution_count": 70,
   "metadata": {},
   "outputs": [
    {
     "data": {
      "text/html": [
       "<div>\n",
       "<style scoped>\n",
       "    .dataframe tbody tr th:only-of-type {\n",
       "        vertical-align: middle;\n",
       "    }\n",
       "\n",
       "    .dataframe tbody tr th {\n",
       "        vertical-align: top;\n",
       "    }\n",
       "\n",
       "    .dataframe thead th {\n",
       "        text-align: right;\n",
       "    }\n",
       "</style>\n",
       "<table border=\"1\" class=\"dataframe\">\n",
       "  <thead>\n",
       "    <tr style=\"text-align: right;\">\n",
       "      <th></th>\n",
       "      <th>Feature name</th>\n",
       "      <th>Coefficients</th>\n",
       "      <th>p_values</th>\n",
       "    </tr>\n",
       "  </thead>\n",
       "  <tbody>\n",
       "    <tr>\n",
       "      <th>0</th>\n",
       "      <td>Intercept</td>\n",
       "      <td>0.188068</td>\n",
       "      <td>NaN</td>\n",
       "    </tr>\n",
       "    <tr>\n",
       "      <th>1</th>\n",
       "      <td>loan_amnt</td>\n",
       "      <td>0.000002</td>\n",
       "      <td>0.002</td>\n",
       "    </tr>\n",
       "    <tr>\n",
       "      <th>2</th>\n",
       "      <td>funded_amnt</td>\n",
       "      <td>-0.000007</td>\n",
       "      <td>0.000</td>\n",
       "    </tr>\n",
       "    <tr>\n",
       "      <th>3</th>\n",
       "      <td>funded_amnt_inv</td>\n",
       "      <td>-0.000002</td>\n",
       "      <td>0.001</td>\n",
       "    </tr>\n",
       "    <tr>\n",
       "      <th>4</th>\n",
       "      <td>term</td>\n",
       "      <td>0.000055</td>\n",
       "      <td>0.506</td>\n",
       "    </tr>\n",
       "    <tr>\n",
       "      <th>...</th>\n",
       "      <td>...</td>\n",
       "      <td>...</td>\n",
       "      <td>...</td>\n",
       "    </tr>\n",
       "    <tr>\n",
       "      <th>57</th>\n",
       "      <td>addr_state:WI_MT</td>\n",
       "      <td>-0.000470</td>\n",
       "      <td>0.891</td>\n",
       "    </tr>\n",
       "    <tr>\n",
       "      <th>58</th>\n",
       "      <td>addr_state:TX</td>\n",
       "      <td>0.001488</td>\n",
       "      <td>0.373</td>\n",
       "    </tr>\n",
       "    <tr>\n",
       "      <th>59</th>\n",
       "      <td>addr_state:IL_CT</td>\n",
       "      <td>0.001916</td>\n",
       "      <td>0.342</td>\n",
       "    </tr>\n",
       "    <tr>\n",
       "      <th>60</th>\n",
       "      <td>addr_state:KS_SC_CO_VT_AK_MS</td>\n",
       "      <td>0.000386</td>\n",
       "      <td>0.854</td>\n",
       "    </tr>\n",
       "    <tr>\n",
       "      <th>61</th>\n",
       "      <td>addr_state:WV_NH_WY_DC_ME_ID</td>\n",
       "      <td>0.002461</td>\n",
       "      <td>0.506</td>\n",
       "    </tr>\n",
       "  </tbody>\n",
       "</table>\n",
       "<p>62 rows × 3 columns</p>\n",
       "</div>"
      ],
      "text/plain": [
       "                    Feature name  Coefficients  p_values\n",
       "0                      Intercept      0.188068       NaN\n",
       "1                      loan_amnt      0.000002     0.002\n",
       "2                    funded_amnt     -0.000007     0.000\n",
       "3                funded_amnt_inv     -0.000002     0.001\n",
       "4                           term      0.000055     0.506\n",
       "..                           ...           ...       ...\n",
       "57              addr_state:WI_MT     -0.000470     0.891\n",
       "58                 addr_state:TX      0.001488     0.373\n",
       "59              addr_state:IL_CT      0.001916     0.342\n",
       "60  addr_state:KS_SC_CO_VT_AK_MS      0.000386     0.854\n",
       "61  addr_state:WV_NH_WY_DC_ME_ID      0.002461     0.506\n",
       "\n",
       "[62 rows x 3 columns]"
      ]
     },
     "execution_count": 70,
     "metadata": {},
     "output_type": "execute_result"
    }
   ],
   "source": [
    "feature_name = lgd_inputs_stage_2_train.columns.values\n",
    "summary_table = pd.DataFrame(columns = ['Feature name'], data = feature_name)\n",
    "# Creates a dataframe with a column titled 'Feature name' and row values contained in the 'feature_name' variable.\n",
    "summary_table['Coefficients'] = np.transpose(reg_lgd_st_2.coef_)\n",
    "# Creates a new column in the dataframe, called 'Coefficients',\n",
    "# with row values the transposed coefficients from the 'LogisticRegression' object.\n",
    "summary_table.index = summary_table.index + 1\n",
    "# Increases the index of every row of the dataframe with 1.\n",
    "summary_table.loc[0] = ['Intercept', reg_lgd_st_2.intercept_]\n",
    "# Assigns values of the row with index 0 of the dataframe.\n",
    "summary_table = summary_table.sort_index()\n",
    "# Sorts the dataframe by index.\n",
    "p_values = reg_lgd_st_2.p\n",
    "# We take the result of the newly added method 'p_values' and store it in a variable 'p_values'.\n",
    "p_values = np.append(np.nan,np.array(p_values))\n",
    "# We add the value 'NaN' in the beginning of the variable with p-values.\n",
    "summary_table['p_values'] = p_values.round(3)\n",
    "# In the 'summary_table' dataframe, we add a new column, called 'p_values', containing the values from the 'p_values' variable.\n",
    "summary_table"
   ]
  },
  {
   "cell_type": "markdown",
   "metadata": {},
   "source": [
    "### 4.7 模型评估"
   ]
  },
  {
   "cell_type": "code",
   "execution_count": 71,
   "metadata": {},
   "outputs": [],
   "source": [
    "lgd_inputs_stage_2_test = lgd_inputs_stage_2_test[feature_all]\n",
    "lgd_inputs_stage_2_test = lgd_inputs_stage_2_test.drop(feature_LGD_stage1_catogerical_ref, axis = 1)\n"
   ]
  },
  {
   "cell_type": "code",
   "execution_count": 72,
   "metadata": {},
   "outputs": [
    {
     "data": {
      "text/plain": [
       "array(['loan_amnt', 'funded_amnt', 'funded_amnt_inv', 'term', 'int_rate',\n",
       "       'installment', 'emp_length', 'annual_inc', 'issue_d_diff', 'dti',\n",
       "       'delinq_2yrs', 'earliest_cr_line_diff', 'inq_last_6mths',\n",
       "       'mths_since_last_delinq', 'mths_since_last_record', 'open_acc',\n",
       "       'pub_rec', 'revol_bal', 'revol_util', 'total_acc', 'total_pymnt',\n",
       "       'total_pymnt_inv', 'total_rec_prncp', 'total_rec_int',\n",
       "       'total_rec_late_fee', 'recoveries', 'collection_recovery_fee',\n",
       "       'collections_12_mths_ex_med', 'acc_now_delinq', 'total_rev_hi_lim',\n",
       "       'grade:A', 'grade:B', 'grade:C', 'grade:D', 'grade:E', 'grade:F',\n",
       "       'home_ownership:MORTGAGE', 'home_ownership:OWN',\n",
       "       'home_ownership:RENT', 'verification_status:Not Verified',\n",
       "       'verification_status:Source Verified', 'purpose:credit_card',\n",
       "       'purpose:car_major_purchase_home_improvement',\n",
       "       'purpose:debt_consolidation', 'purpose:wedding_vacation',\n",
       "       'purpose:medical_other_house', 'purpose:renewable_energy_moving',\n",
       "       'initial_list_status:w', 'addr_state:NM_VA', 'addr_state:NY',\n",
       "       'addr_state:OK_TN_MO_LA_MD_NC', 'addr_state:CA',\n",
       "       'addr_state:UT_KY_AZ_NJ', 'addr_state:AR_MI_PA_OH_MN',\n",
       "       'addr_state:RI_MA_DE_SD_IN', 'addr_state:GA_WA_OR',\n",
       "       'addr_state:WI_MT', 'addr_state:TX', 'addr_state:IL_CT',\n",
       "       'addr_state:KS_SC_CO_VT_AK_MS', 'addr_state:WV_NH_WY_DC_ME_ID'],\n",
       "      dtype=object)"
      ]
     },
     "execution_count": 72,
     "metadata": {},
     "output_type": "execute_result"
    }
   ],
   "source": [
    "lgd_inputs_stage_2_test.columns.values"
   ]
  },
  {
   "cell_type": "code",
   "execution_count": 73,
   "metadata": {},
   "outputs": [],
   "source": [
    "y_pred_test_lgd_stage_2 = reg_lgd_st_2.predict(lgd_inputs_stage_2_test)"
   ]
  },
  {
   "cell_type": "code",
   "execution_count": 74,
   "metadata": {},
   "outputs": [],
   "source": [
    "lgd_targets_stage_2_test_temp = lgd_targets_stage_2_test"
   ]
  },
  {
   "cell_type": "code",
   "execution_count": 75,
   "metadata": {},
   "outputs": [],
   "source": [
    "lgd_targets_stage_2_test_temp = lgd_targets_stage_2_test_temp.reset_index(drop = True)"
   ]
  },
  {
   "cell_type": "code",
   "execution_count": 76,
   "metadata": {},
   "outputs": [
    {
     "data": {
      "text/html": [
       "<div>\n",
       "<style scoped>\n",
       "    .dataframe tbody tr th:only-of-type {\n",
       "        vertical-align: middle;\n",
       "    }\n",
       "\n",
       "    .dataframe tbody tr th {\n",
       "        vertical-align: top;\n",
       "    }\n",
       "\n",
       "    .dataframe thead th {\n",
       "        text-align: right;\n",
       "    }\n",
       "</style>\n",
       "<table border=\"1\" class=\"dataframe\">\n",
       "  <thead>\n",
       "    <tr style=\"text-align: right;\">\n",
       "      <th></th>\n",
       "      <th>recovery_rate</th>\n",
       "      <th>0</th>\n",
       "    </tr>\n",
       "  </thead>\n",
       "  <tbody>\n",
       "    <tr>\n",
       "      <th>recovery_rate</th>\n",
       "      <td>1.000000</td>\n",
       "      <td>0.851506</td>\n",
       "    </tr>\n",
       "    <tr>\n",
       "      <th>0</th>\n",
       "      <td>0.851506</td>\n",
       "      <td>1.000000</td>\n",
       "    </tr>\n",
       "  </tbody>\n",
       "</table>\n",
       "</div>"
      ],
      "text/plain": [
       "               recovery_rate         0\n",
       "recovery_rate       1.000000  0.851506\n",
       "0                   0.851506  1.000000"
      ]
     },
     "execution_count": 76,
     "metadata": {},
     "output_type": "execute_result"
    }
   ],
   "source": [
    "pd.concat([lgd_targets_stage_2_test_temp, pd.DataFrame(y_pred_test_lgd_stage_2)], axis = 1).corr()"
   ]
  },
  {
   "cell_type": "code",
   "execution_count": 77,
   "metadata": {},
   "outputs": [
    {
     "data": {
      "image/png": "[encoded data removed]",
      "text/plain": [
       "<Figure size 432x288 with 1 Axes>"
      ]
     },
     "metadata": {
      "needs_background": "light"
     },
     "output_type": "display_data"
    }
   ],
   "source": [
    "import seaborn as sns\n",
    "sns.distplot(lgd_targets_stage_2_test - y_pred_test_lgd_stage_2);"
   ]
  },
  {
   "cell_type": "markdown",
   "metadata": {},
   "source": [
    "保存模型"
   ]
  },
  {
   "cell_type": "code",
   "execution_count": 78,
   "metadata": {},
   "outputs": [],
   "source": [
    "pickle.dump(reg_lgd_st_2, open('lgd_model_stage_2.sav', 'wb'))"
   ]
  },
  {
   "cell_type": "markdown",
   "metadata": {},
   "source": [
    "### 4.8 将两阶段结合起来"
   ]
  },
  {
   "cell_type": "code",
   "execution_count": 79,
   "metadata": {},
   "outputs": [],
   "source": [
    "y_pred_test_lgd_stage_2_all = reg_lgd_st_2.predict(lgd_inputs_stage_1_test)"
   ]
  },
  {
   "cell_type": "code",
   "execution_count": 80,
   "metadata": {},
   "outputs": [
    {
     "data": {
      "text/plain": [
       "array([ 0.01353782,  0.10302512,  0.01556824, ...,  0.16776144,\n",
       "        0.10886558, -0.07919902])"
      ]
     },
     "execution_count": 80,
     "metadata": {},
     "output_type": "execute_result"
    }
   ],
   "source": [
    "y_pred_test_lgd_stage_2_all"
   ]
  },
  {
   "cell_type": "code",
   "execution_count": 81,
   "metadata": {},
   "outputs": [],
   "source": [
    "# 将两阶段结果相乘，即是最终结果\n",
    "y_pred_test_lgd = y_pred_test_lgd_stage_1 * y_pred_test_lgd_stage_2_all"
   ]
  },
  {
   "cell_type": "code",
   "execution_count": 82,
   "metadata": {},
   "outputs": [
    {
     "data": {
      "text/html": [
       "<div>\n",
       "<style scoped>\n",
       "    .dataframe tbody tr th:only-of-type {\n",
       "        vertical-align: middle;\n",
       "    }\n",
       "\n",
       "    .dataframe tbody tr th {\n",
       "        vertical-align: top;\n",
       "    }\n",
       "\n",
       "    .dataframe thead th {\n",
       "        text-align: right;\n",
       "    }\n",
       "</style>\n",
       "<table border=\"1\" class=\"dataframe\">\n",
       "  <thead>\n",
       "    <tr style=\"text-align: right;\">\n",
       "      <th></th>\n",
       "      <th>0</th>\n",
       "    </tr>\n",
       "  </thead>\n",
       "  <tbody>\n",
       "    <tr>\n",
       "      <th>count</th>\n",
       "      <td>8557.000000</td>\n",
       "    </tr>\n",
       "    <tr>\n",
       "      <th>mean</th>\n",
       "      <td>0.059229</td>\n",
       "    </tr>\n",
       "    <tr>\n",
       "      <th>std</th>\n",
       "      <td>0.076651</td>\n",
       "    </tr>\n",
       "    <tr>\n",
       "      <th>min</th>\n",
       "      <td>-0.102581</td>\n",
       "    </tr>\n",
       "    <tr>\n",
       "      <th>25%</th>\n",
       "      <td>0.000000</td>\n",
       "    </tr>\n",
       "    <tr>\n",
       "      <th>50%</th>\n",
       "      <td>0.037124</td>\n",
       "    </tr>\n",
       "    <tr>\n",
       "      <th>75%</th>\n",
       "      <td>0.109459</td>\n",
       "    </tr>\n",
       "    <tr>\n",
       "      <th>max</th>\n",
       "      <td>1.437569</td>\n",
       "    </tr>\n",
       "  </tbody>\n",
       "</table>\n",
       "</div>"
      ],
      "text/plain": [
       "                 0\n",
       "count  8557.000000\n",
       "mean      0.059229\n",
       "std       0.076651\n",
       "min      -0.102581\n",
       "25%       0.000000\n",
       "50%       0.037124\n",
       "75%       0.109459\n",
       "max       1.437569"
      ]
     },
     "execution_count": 82,
     "metadata": {},
     "output_type": "execute_result"
    }
   ],
   "source": [
    "pd.DataFrame(y_pred_test_lgd).describe()"
   ]
  },
  {
   "cell_type": "markdown",
   "metadata": {},
   "source": [
    "因为LinearRegression的输出并不局限在0到1之间，所以要手动将输出调整到0-1之间。"
   ]
  },
  {
   "cell_type": "code",
   "execution_count": 83,
   "metadata": {},
   "outputs": [],
   "source": [
    "y_pred_test_lgd = np.where(y_pred_test_lgd < 0, 0, y_pred_test_lgd)\n",
    "y_pred_test_lgd = np.where(y_pred_test_lgd > 1, 1, y_pred_test_lgd)"
   ]
  },
  {
   "cell_type": "code",
   "execution_count": 84,
   "metadata": {},
   "outputs": [
    {
     "data": {
      "text/html": [
       "<div>\n",
       "<style scoped>\n",
       "    .dataframe tbody tr th:only-of-type {\n",
       "        vertical-align: middle;\n",
       "    }\n",
       "\n",
       "    .dataframe tbody tr th {\n",
       "        vertical-align: top;\n",
       "    }\n",
       "\n",
       "    .dataframe thead th {\n",
       "        text-align: right;\n",
       "    }\n",
       "</style>\n",
       "<table border=\"1\" class=\"dataframe\">\n",
       "  <thead>\n",
       "    <tr style=\"text-align: right;\">\n",
       "      <th></th>\n",
       "      <th>0</th>\n",
       "    </tr>\n",
       "  </thead>\n",
       "  <tbody>\n",
       "    <tr>\n",
       "      <th>count</th>\n",
       "      <td>8557.000000</td>\n",
       "    </tr>\n",
       "    <tr>\n",
       "      <th>mean</th>\n",
       "      <td>0.059805</td>\n",
       "    </tr>\n",
       "    <tr>\n",
       "      <th>std</th>\n",
       "      <td>0.074939</td>\n",
       "    </tr>\n",
       "    <tr>\n",
       "      <th>min</th>\n",
       "      <td>-0.000000</td>\n",
       "    </tr>\n",
       "    <tr>\n",
       "      <th>25%</th>\n",
       "      <td>0.000000</td>\n",
       "    </tr>\n",
       "    <tr>\n",
       "      <th>50%</th>\n",
       "      <td>0.037124</td>\n",
       "    </tr>\n",
       "    <tr>\n",
       "      <th>75%</th>\n",
       "      <td>0.109459</td>\n",
       "    </tr>\n",
       "    <tr>\n",
       "      <th>max</th>\n",
       "      <td>1.000000</td>\n",
       "    </tr>\n",
       "  </tbody>\n",
       "</table>\n",
       "</div>"
      ],
      "text/plain": [
       "                 0\n",
       "count  8557.000000\n",
       "mean      0.059805\n",
       "std       0.074939\n",
       "min      -0.000000\n",
       "25%       0.000000\n",
       "50%       0.037124\n",
       "75%       0.109459\n",
       "max       1.000000"
      ]
     },
     "execution_count": 84,
     "metadata": {},
     "output_type": "execute_result"
    }
   ],
   "source": [
    "pd.DataFrame(y_pred_test_lgd).describe()"
   ]
  },
  {
   "cell_type": "markdown",
   "metadata": {},
   "source": [
    "## 5. EAD模型"
   ]
  },
  {
   "cell_type": "markdown",
   "metadata": {},
   "source": [
    "### 5.1 模型求解"
   ]
  },
  {
   "cell_type": "code",
   "execution_count": 85,
   "metadata": {},
   "outputs": [],
   "source": [
    "# EAD模型的数据集\n",
    "ead_inputs_train, ead_inputs_test,\\\n",
    "ead_targets_train, ead_targets_test = \\\n",
    "train_test_split(df.drop(['good_bad', 'recovery_rate','RR_0_1', 'CCF'], axis = 1), \n",
    "                 df['CCF'], \n",
    "                 test_size = 0.2, \n",
    "                 random_state = 42)"
   ]
  },
  {
   "cell_type": "code",
   "execution_count": 86,
   "metadata": {},
   "outputs": [],
   "source": [
    "# 选择变量并丢弃参考dummy，选哪个dummy变量作为参考在此处并不重要，这里保持和PD模型相同。\n",
    "ead_inputs_train = ead_inputs_train[feature_all]\n",
    "ead_inputs_train = ead_inputs_train.drop(feature_LGD_stage1_catogerical_ref, axis = 1)"
   ]
  },
  {
   "cell_type": "code",
   "execution_count": 87,
   "metadata": {},
   "outputs": [
    {
     "data": {
      "text/plain": [
       "LinearRegression(copy_X=True, fit_intercept=True, n_jobs=1, normalize=False)"
      ]
     },
     "execution_count": 87,
     "metadata": {},
     "output_type": "execute_result"
    }
   ],
   "source": [
    "reg_ead = LinearRegression()\n",
    "reg_ead.fit(ead_inputs_train, ead_targets_train)"
   ]
  },
  {
   "cell_type": "code",
   "execution_count": 88,
   "metadata": {},
   "outputs": [
    {
     "data": {
      "text/html": [
       "<div>\n",
       "<style scoped>\n",
       "    .dataframe tbody tr th:only-of-type {\n",
       "        vertical-align: middle;\n",
       "    }\n",
       "\n",
       "    .dataframe tbody tr th {\n",
       "        vertical-align: top;\n",
       "    }\n",
       "\n",
       "    .dataframe thead th {\n",
       "        text-align: right;\n",
       "    }\n",
       "</style>\n",
       "<table border=\"1\" class=\"dataframe\">\n",
       "  <thead>\n",
       "    <tr style=\"text-align: right;\">\n",
       "      <th></th>\n",
       "      <th>Feature name</th>\n",
       "      <th>Coefficients</th>\n",
       "      <th>p_values</th>\n",
       "    </tr>\n",
       "  </thead>\n",
       "  <tbody>\n",
       "    <tr>\n",
       "      <th>0</th>\n",
       "      <td>Intercept</td>\n",
       "      <td>0.810547</td>\n",
       "      <td>NaN</td>\n",
       "    </tr>\n",
       "    <tr>\n",
       "      <th>1</th>\n",
       "      <td>loan_amnt</td>\n",
       "      <td>0.000003</td>\n",
       "      <td>1.793875e-03</td>\n",
       "    </tr>\n",
       "    <tr>\n",
       "      <th>2</th>\n",
       "      <td>funded_amnt</td>\n",
       "      <td>0.000002</td>\n",
       "      <td>4.440892e-16</td>\n",
       "    </tr>\n",
       "    <tr>\n",
       "      <th>3</th>\n",
       "      <td>funded_amnt_inv</td>\n",
       "      <td>-0.000009</td>\n",
       "      <td>1.074384e-03</td>\n",
       "    </tr>\n",
       "    <tr>\n",
       "      <th>4</th>\n",
       "      <td>term</td>\n",
       "      <td>0.003866</td>\n",
       "      <td>5.064983e-01</td>\n",
       "    </tr>\n",
       "    <tr>\n",
       "      <th>...</th>\n",
       "      <td>...</td>\n",
       "      <td>...</td>\n",
       "      <td>...</td>\n",
       "    </tr>\n",
       "    <tr>\n",
       "      <th>57</th>\n",
       "      <td>addr_state:WI_MT</td>\n",
       "      <td>-0.000594</td>\n",
       "      <td>8.911612e-01</td>\n",
       "    </tr>\n",
       "    <tr>\n",
       "      <th>58</th>\n",
       "      <td>addr_state:TX</td>\n",
       "      <td>-0.001265</td>\n",
       "      <td>3.726486e-01</td>\n",
       "    </tr>\n",
       "    <tr>\n",
       "      <th>59</th>\n",
       "      <td>addr_state:IL_CT</td>\n",
       "      <td>-0.001326</td>\n",
       "      <td>3.421924e-01</td>\n",
       "    </tr>\n",
       "    <tr>\n",
       "      <th>60</th>\n",
       "      <td>addr_state:KS_SC_CO_VT_AK_MS</td>\n",
       "      <td>0.001280</td>\n",
       "      <td>8.538128e-01</td>\n",
       "    </tr>\n",
       "    <tr>\n",
       "      <th>61</th>\n",
       "      <td>addr_state:WV_NH_WY_DC_ME_ID</td>\n",
       "      <td>-0.002275</td>\n",
       "      <td>5.056500e-01</td>\n",
       "    </tr>\n",
       "  </tbody>\n",
       "</table>\n",
       "<p>62 rows × 3 columns</p>\n",
       "</div>"
      ],
      "text/plain": [
       "                    Feature name  Coefficients      p_values\n",
       "0                      Intercept      0.810547           NaN\n",
       "1                      loan_amnt      0.000003  1.793875e-03\n",
       "2                    funded_amnt      0.000002  4.440892e-16\n",
       "3                funded_amnt_inv     -0.000009  1.074384e-03\n",
       "4                           term      0.003866  5.064983e-01\n",
       "..                           ...           ...           ...\n",
       "57              addr_state:WI_MT     -0.000594  8.911612e-01\n",
       "58                 addr_state:TX     -0.001265  3.726486e-01\n",
       "59              addr_state:IL_CT     -0.001326  3.421924e-01\n",
       "60  addr_state:KS_SC_CO_VT_AK_MS      0.001280  8.538128e-01\n",
       "61  addr_state:WV_NH_WY_DC_ME_ID     -0.002275  5.056500e-01\n",
       "\n",
       "[62 rows x 3 columns]"
      ]
     },
     "execution_count": 88,
     "metadata": {},
     "output_type": "execute_result"
    }
   ],
   "source": [
    "feature_name = ead_inputs_train.columns.values\n",
    "summary_table = pd.DataFrame(columns = ['Feature name'], data = feature_name)\n",
    "# Creates a dataframe with a column titled 'Feature name' and row values contained in the 'feature_name' variable.\n",
    "summary_table['Coefficients'] = np.transpose(reg_ead.coef_)\n",
    "# Creates a new column in the dataframe, called 'Coefficients',\n",
    "# with row values the transposed coefficients from the 'LogisticRegression' object.\n",
    "summary_table.index = summary_table.index + 1\n",
    "# Increases the index of every row of the dataframe with 1.\n",
    "summary_table.loc[0] = ['Intercept', reg_ead.intercept_]\n",
    "# Assigns values of the row with index 0 of the dataframe.\n",
    "summary_table = summary_table.sort_index()\n",
    "# Sorts the dataframe by index.\n",
    "p_values = reg_lgd_st_2.p\n",
    "# We take the result of the newly added method 'p_values' and store it in a variable 'p_values'.\n",
    "p_values = np.append(np.nan,np.array(p_values))\n",
    "# We add the value 'NaN' in the beginning of the variable with p-values.\n",
    "summary_table['p_values'] = p_values\n",
    "# In the 'summary_table' dataframe, we add a new column, called 'p_values', containing the values from the 'p_values' variable.\n",
    "summary_table"
   ]
  },
  {
   "cell_type": "markdown",
   "metadata": {},
   "source": [
    "### 5.2 模型验证"
   ]
  },
  {
   "cell_type": "code",
   "execution_count": 89,
   "metadata": {},
   "outputs": [],
   "source": [
    "# 对测试集选择相同的变量，并丢弃参考dummy\n",
    "ead_inputs_test = ead_inputs_test[feature_all]\n",
    "ead_inputs_test = ead_inputs_test.drop(feature_LGD_stage1_catogerical_ref, axis = 1)"
   ]
  },
  {
   "cell_type": "code",
   "execution_count": 90,
   "metadata": {},
   "outputs": [],
   "source": [
    "y_pred_test_ead = reg_ead.predict(ead_inputs_test)"
   ]
  },
  {
   "cell_type": "code",
   "execution_count": 91,
   "metadata": {},
   "outputs": [],
   "source": [
    "ead_targets_test_temp = ead_targets_test"
   ]
  },
  {
   "cell_type": "code",
   "execution_count": 92,
   "metadata": {},
   "outputs": [],
   "source": [
    "ead_targets_test_temp = ead_targets_test_temp.reset_index(drop = True)"
   ]
  },
  {
   "cell_type": "code",
   "execution_count": 93,
   "metadata": {},
   "outputs": [
    {
     "data": {
      "text/html": [
       "<div>\n",
       "<style scoped>\n",
       "    .dataframe tbody tr th:only-of-type {\n",
       "        vertical-align: middle;\n",
       "    }\n",
       "\n",
       "    .dataframe tbody tr th {\n",
       "        vertical-align: top;\n",
       "    }\n",
       "\n",
       "    .dataframe thead th {\n",
       "        text-align: right;\n",
       "    }\n",
       "</style>\n",
       "<table border=\"1\" class=\"dataframe\">\n",
       "  <thead>\n",
       "    <tr style=\"text-align: right;\">\n",
       "      <th></th>\n",
       "      <th>CCF</th>\n",
       "      <th>0</th>\n",
       "    </tr>\n",
       "  </thead>\n",
       "  <tbody>\n",
       "    <tr>\n",
       "      <th>CCF</th>\n",
       "      <td>1.000000</td>\n",
       "      <td>0.873142</td>\n",
       "    </tr>\n",
       "    <tr>\n",
       "      <th>0</th>\n",
       "      <td>0.873142</td>\n",
       "      <td>1.000000</td>\n",
       "    </tr>\n",
       "  </tbody>\n",
       "</table>\n",
       "</div>"
      ],
      "text/plain": [
       "          CCF         0\n",
       "CCF  1.000000  0.873142\n",
       "0    0.873142  1.000000"
      ]
     },
     "execution_count": 93,
     "metadata": {},
     "output_type": "execute_result"
    }
   ],
   "source": [
    "pd.concat([ead_targets_test_temp, pd.DataFrame(y_pred_test_ead)], axis = 1).corr()"
   ]
  },
  {
   "cell_type": "code",
   "execution_count": 94,
   "metadata": {},
   "outputs": [
    {
     "data": {
      "image/png": "[encoded data removed]",
      "text/plain": [
       "<Figure size 432x288 with 1 Axes>"
      ]
     },
     "metadata": {
      "needs_background": "light"
     },
     "output_type": "display_data"
    }
   ],
   "source": [
    "sns.distplot(ead_targets_test - y_pred_test_ead);"
   ]
  },
  {
   "cell_type": "code",
   "execution_count": 95,
   "metadata": {},
   "outputs": [
    {
     "data": {
      "text/html": [
       "<div>\n",
       "<style scoped>\n",
       "    .dataframe tbody tr th:only-of-type {\n",
       "        vertical-align: middle;\n",
       "    }\n",
       "\n",
       "    .dataframe tbody tr th {\n",
       "        vertical-align: top;\n",
       "    }\n",
       "\n",
       "    .dataframe thead th {\n",
       "        text-align: right;\n",
       "    }\n",
       "</style>\n",
       "<table border=\"1\" class=\"dataframe\">\n",
       "  <thead>\n",
       "    <tr style=\"text-align: right;\">\n",
       "      <th></th>\n",
       "      <th>0</th>\n",
       "    </tr>\n",
       "  </thead>\n",
       "  <tbody>\n",
       "    <tr>\n",
       "      <th>count</th>\n",
       "      <td>8557.000000</td>\n",
       "    </tr>\n",
       "    <tr>\n",
       "      <th>mean</th>\n",
       "      <td>0.734809</td>\n",
       "    </tr>\n",
       "    <tr>\n",
       "      <th>std</th>\n",
       "      <td>0.172364</td>\n",
       "    </tr>\n",
       "    <tr>\n",
       "      <th>min</th>\n",
       "      <td>-0.639368</td>\n",
       "    </tr>\n",
       "    <tr>\n",
       "      <th>25%</th>\n",
       "      <td>0.650127</td>\n",
       "    </tr>\n",
       "    <tr>\n",
       "      <th>50%</th>\n",
       "      <td>0.748169</td>\n",
       "    </tr>\n",
       "    <tr>\n",
       "      <th>75%</th>\n",
       "      <td>0.845861</td>\n",
       "    </tr>\n",
       "    <tr>\n",
       "      <th>max</th>\n",
       "      <td>1.242692</td>\n",
       "    </tr>\n",
       "  </tbody>\n",
       "</table>\n",
       "</div>"
      ],
      "text/plain": [
       "                 0\n",
       "count  8557.000000\n",
       "mean      0.734809\n",
       "std       0.172364\n",
       "min      -0.639368\n",
       "25%       0.650127\n",
       "50%       0.748169\n",
       "75%       0.845861\n",
       "max       1.242692"
      ]
     },
     "execution_count": 95,
     "metadata": {},
     "output_type": "execute_result"
    }
   ],
   "source": [
    "pd.DataFrame(y_pred_test_ead).describe()"
   ]
  },
  {
   "cell_type": "code",
   "execution_count": 96,
   "metadata": {},
   "outputs": [],
   "source": [
    "# 调整取值范围到 0-1\n",
    "y_pred_test_ead = np.where(y_pred_test_ead < 0, 0, y_pred_test_ead)\n",
    "y_pred_test_ead = np.where(y_pred_test_ead > 1, 1, y_pred_test_ead)"
   ]
  },
  {
   "cell_type": "code",
   "execution_count": 97,
   "metadata": {},
   "outputs": [
    {
     "data": {
      "text/html": [
       "<div>\n",
       "<style scoped>\n",
       "    .dataframe tbody tr th:only-of-type {\n",
       "        vertical-align: middle;\n",
       "    }\n",
       "\n",
       "    .dataframe tbody tr th {\n",
       "        vertical-align: top;\n",
       "    }\n",
       "\n",
       "    .dataframe thead th {\n",
       "        text-align: right;\n",
       "    }\n",
       "</style>\n",
       "<table border=\"1\" class=\"dataframe\">\n",
       "  <thead>\n",
       "    <tr style=\"text-align: right;\">\n",
       "      <th></th>\n",
       "      <th>0</th>\n",
       "    </tr>\n",
       "  </thead>\n",
       "  <tbody>\n",
       "    <tr>\n",
       "      <th>count</th>\n",
       "      <td>8557.000000</td>\n",
       "    </tr>\n",
       "    <tr>\n",
       "      <th>mean</th>\n",
       "      <td>0.733203</td>\n",
       "    </tr>\n",
       "    <tr>\n",
       "      <th>std</th>\n",
       "      <td>0.165525</td>\n",
       "    </tr>\n",
       "    <tr>\n",
       "      <th>min</th>\n",
       "      <td>0.000000</td>\n",
       "    </tr>\n",
       "    <tr>\n",
       "      <th>25%</th>\n",
       "      <td>0.650127</td>\n",
       "    </tr>\n",
       "    <tr>\n",
       "      <th>50%</th>\n",
       "      <td>0.748169</td>\n",
       "    </tr>\n",
       "    <tr>\n",
       "      <th>75%</th>\n",
       "      <td>0.845861</td>\n",
       "    </tr>\n",
       "    <tr>\n",
       "      <th>max</th>\n",
       "      <td>1.000000</td>\n",
       "    </tr>\n",
       "  </tbody>\n",
       "</table>\n",
       "</div>"
      ],
      "text/plain": [
       "                 0\n",
       "count  8557.000000\n",
       "mean      0.733203\n",
       "std       0.165525\n",
       "min       0.000000\n",
       "25%       0.650127\n",
       "50%       0.748169\n",
       "75%       0.845861\n",
       "max       1.000000"
      ]
     },
     "execution_count": 97,
     "metadata": {},
     "output_type": "execute_result"
    }
   ],
   "source": [
    "pd.DataFrame(y_pred_test_ead).describe()"
   ]
  },
  {
   "cell_type": "markdown",
   "metadata": {},
   "source": [
    "# 预期损失EL"
   ]
  },
  {
   "cell_type": "markdown",
   "metadata": {},
   "source": [
    "## 计算LGD和EAD"
   ]
  },
  {
   "cell_type": "markdown",
   "metadata": {},
   "source": [
    "*LGD和EAD的计算使用相同的特征（变量），但与PD的特征（变量）不同*"
   ]
  },
  {
   "cell_type": "markdown",
   "metadata": {},
   "source": [
    "- 计算LGD"
   ]
  },
  {
   "cell_type": "code",
   "execution_count": 98,
   "metadata": {},
   "outputs": [],
   "source": [
    "df_prep = df_bk.copy()"
   ]
  },
  {
   "cell_type": "code",
   "execution_count": 99,
   "metadata": {},
   "outputs": [
    {
     "data": {
      "text/html": [
       "<div>\n",
       "<style scoped>\n",
       "    .dataframe tbody tr th:only-of-type {\n",
       "        vertical-align: middle;\n",
       "    }\n",
       "\n",
       "    .dataframe tbody tr th {\n",
       "        vertical-align: top;\n",
       "    }\n",
       "\n",
       "    .dataframe thead th {\n",
       "        text-align: right;\n",
       "    }\n",
       "</style>\n",
       "<table border=\"1\" class=\"dataframe\">\n",
       "  <thead>\n",
       "    <tr style=\"text-align: right;\">\n",
       "      <th></th>\n",
       "      <th>na_num</th>\n",
       "      <th>na_percentage(%)</th>\n",
       "      <th>Description_CN</th>\n",
       "    </tr>\n",
       "  </thead>\n",
       "  <tbody>\n",
       "    <tr>\n",
       "      <th>emp_title</th>\n",
       "      <td>27507</td>\n",
       "      <td>6.0</td>\n",
       "      <td>借款人在申请贷款时提供的职位</td>\n",
       "    </tr>\n",
       "    <tr>\n",
       "      <th>desc</th>\n",
       "      <td>339788</td>\n",
       "      <td>73.0</td>\n",
       "      <td>借款人提供的贷款说明</td>\n",
       "    </tr>\n",
       "    <tr>\n",
       "      <th>mths_since_last_delinq</th>\n",
       "      <td>249916</td>\n",
       "      <td>54.0</td>\n",
       "      <td>自借款人上次拖欠债务以来的月数</td>\n",
       "    </tr>\n",
       "    <tr>\n",
       "      <th>mths_since_last_record</th>\n",
       "      <td>402935</td>\n",
       "      <td>87.0</td>\n",
       "      <td>自上次公开记录以来的月数</td>\n",
       "    </tr>\n",
       "    <tr>\n",
       "      <th>next_pymnt_d</th>\n",
       "      <td>226580</td>\n",
       "      <td>49.0</td>\n",
       "      <td>下一个预定的付款日期</td>\n",
       "    </tr>\n",
       "    <tr>\n",
       "      <th>mths_since_last_major_derog</th>\n",
       "      <td>366575</td>\n",
       "      <td>79.0</td>\n",
       "      <td>自最近90天或更差的评分以来的月份</td>\n",
       "    </tr>\n",
       "    <tr>\n",
       "      <th>tot_coll_amt</th>\n",
       "      <td>69917</td>\n",
       "      <td>15.0</td>\n",
       "      <td>曾经拖欠的托收总额</td>\n",
       "    </tr>\n",
       "    <tr>\n",
       "      <th>tot_cur_bal</th>\n",
       "      <td>69917</td>\n",
       "      <td>15.0</td>\n",
       "      <td>所有帐户的当前总余额</td>\n",
       "    </tr>\n",
       "    <tr>\n",
       "      <th>dti_factor</th>\n",
       "      <td>7213</td>\n",
       "      <td>2.0</td>\n",
       "      <td>NaN</td>\n",
       "    </tr>\n",
       "  </tbody>\n",
       "</table>\n",
       "</div>"
      ],
      "text/plain": [
       "                             na_num  na_percentage(%)     Description_CN\n",
       "emp_title                     27507               6.0     借款人在申请贷款时提供的职位\n",
       "desc                         339788              73.0         借款人提供的贷款说明\n",
       "mths_since_last_delinq       249916              54.0    自借款人上次拖欠债务以来的月数\n",
       "mths_since_last_record       402935              87.0       自上次公开记录以来的月数\n",
       "next_pymnt_d                 226580              49.0         下一个预定的付款日期\n",
       "mths_since_last_major_derog  366575              79.0  自最近90天或更差的评分以来的月份\n",
       "tot_coll_amt                  69917              15.0          曾经拖欠的托收总额\n",
       "tot_cur_bal                   69917              15.0         所有帐户的当前总余额\n",
       "dti_factor                     7213               2.0                NaN"
      ]
     },
     "execution_count": 99,
     "metadata": {},
     "output_type": "execute_result"
    }
   ],
   "source": [
    "chk_na(df_prep)"
   ]
  },
  {
   "cell_type": "code",
   "execution_count": 101,
   "metadata": {},
   "outputs": [],
   "source": [
    "# 填充空值\n",
    "df_prep.mths_since_last_delinq.fillna(0, inplace=True)\n",
    "df_prep.mths_since_last_record.fillna(0, inplace=True)"
   ]
  },
  {
   "cell_type": "code",
   "execution_count": 113,
   "metadata": {},
   "outputs": [],
   "source": [
    "# 选出分类变量(dummy)和连续变量\n",
    "df_prep_lgd_ead = df_prep[feature_all]"
   ]
  },
  {
   "cell_type": "code",
   "execution_count": 114,
   "metadata": {},
   "outputs": [],
   "source": [
    "# 丢弃参考dummy\n",
    "df_prep_lgd_ead = df_prep_lgd_ead.drop(labels=feature_LGD_stage1_catogerical_ref, axis=1)"
   ]
  },
  {
   "cell_type": "code",
   "execution_count": 115,
   "metadata": {},
   "outputs": [],
   "source": [
    "df_prep['recovery_rate_st_1'] = reg_lgd_st_1.model.predict(df_prep_lgd_ead)"
   ]
  },
  {
   "cell_type": "code",
   "execution_count": 116,
   "metadata": {},
   "outputs": [],
   "source": [
    "df_prep['recovery_rate_st_2'] = reg_lgd_st_2.predict(df_prep_lgd_ead)"
   ]
  },
  {
   "cell_type": "code",
   "execution_count": 117,
   "metadata": {},
   "outputs": [],
   "source": [
    "# 结合两步\n",
    "df_prep['recovery_rate'] = df_prep['recovery_rate_st_1'] * df_prep['recovery_rate_st_2']"
   ]
  },
  {
   "cell_type": "code",
   "execution_count": 118,
   "metadata": {},
   "outputs": [
    {
     "data": {
      "text/plain": [
       "count    465402.000000\n",
       "mean          0.005561\n",
       "std           0.030026\n",
       "min          -0.112298\n",
       "25%           0.000000\n",
       "50%           0.000000\n",
       "75%           0.000000\n",
       "max           1.610950\n",
       "Name: recovery_rate, dtype: float64"
      ]
     },
     "execution_count": 118,
     "metadata": {},
     "output_type": "execute_result"
    }
   ],
   "source": [
    "df_prep.recovery_rate.describe()"
   ]
  },
  {
   "cell_type": "code",
   "execution_count": 122,
   "metadata": {},
   "outputs": [],
   "source": [
    "df_prep.recovery_rate = df_prep.recovery_rate.apply(lambda x: 0 if x < 0 else x)\n",
    "df_prep.recovery_rate = df_prep.recovery_rate.apply(lambda x: 1 if x > 1 else x)"
   ]
  },
  {
   "cell_type": "code",
   "execution_count": 123,
   "metadata": {},
   "outputs": [
    {
     "data": {
      "text/plain": [
       "count    465402.000000\n",
       "mean          0.005614\n",
       "std           0.029624\n",
       "min           0.000000\n",
       "25%           0.000000\n",
       "50%           0.000000\n",
       "75%           0.000000\n",
       "max           1.000000\n",
       "Name: recovery_rate, dtype: float64"
      ]
     },
     "execution_count": 123,
     "metadata": {},
     "output_type": "execute_result"
    }
   ],
   "source": [
    "df_prep.recovery_rate.describe()"
   ]
  },
  {
   "cell_type": "code",
   "execution_count": 124,
   "metadata": {},
   "outputs": [],
   "source": [
    "df_prep['LGD'] = 1 - df_prep.recovery_rate"
   ]
  },
  {
   "cell_type": "code",
   "execution_count": 126,
   "metadata": {},
   "outputs": [
    {
     "data": {
      "text/plain": [
       "count    465402.000000\n",
       "mean          0.994386\n",
       "std           0.029624\n",
       "min           0.000000\n",
       "25%           1.000000\n",
       "50%           1.000000\n",
       "75%           1.000000\n",
       "max           1.000000\n",
       "Name: LGD, dtype: float64"
      ]
     },
     "execution_count": 126,
     "metadata": {},
     "output_type": "execute_result"
    }
   ],
   "source": [
    "df_prep.LGD.describe()"
   ]
  },
  {
   "cell_type": "code",
   "execution_count": 129,
   "metadata": {},
   "outputs": [
    {
     "data": {
      "text/plain": [
       "1.000000    442250\n",
       "0.000000        19\n",
       "0.878893         1\n",
       "0.867513         1\n",
       "0.953709         1\n",
       "             ...  \n",
       "0.919856         1\n",
       "0.958915         1\n",
       "0.888722         1\n",
       "0.923999         1\n",
       "0.770597         1\n",
       "Name: LGD, Length: 23135, dtype: int64"
      ]
     },
     "execution_count": 129,
     "metadata": {},
     "output_type": "execute_result"
    }
   ],
   "source": [
    "df_prep.LGD.value_counts()"
   ]
  },
  {
   "cell_type": "markdown",
   "metadata": {},
   "source": [
    "- 计算EAD"
   ]
  },
  {
   "cell_type": "code",
   "execution_count": 133,
   "metadata": {},
   "outputs": [],
   "source": [
    "df_prep['CCF'] = reg_ead.predict(df_prep_lgd_ead)"
   ]
  },
  {
   "cell_type": "code",
   "execution_count": 134,
   "metadata": {},
   "outputs": [],
   "source": [
    "df_prep['CCF'] = np.where(df_prep['CCF'] < 0, 0, df_prep['CCF'])\n",
    "df_prep['CCF'] = np.where(df_prep['CCF'] > 1, 1, df_prep['CCF'])"
   ]
  },
  {
   "cell_type": "code",
   "execution_count": 135,
   "metadata": {},
   "outputs": [],
   "source": [
    "df_prep['EAD'] = df_prep['CCF'] * df_prep_lgd_ead['funded_amnt']"
   ]
  },
  {
   "cell_type": "code",
   "execution_count": 142,
   "metadata": {},
   "outputs": [
    {
     "data": {
      "text/plain": [
       "465402"
      ]
     },
     "execution_count": 142,
     "metadata": {},
     "output_type": "execute_result"
    }
   ],
   "source": [
    "(df_prep_lgd_ead['funded_amnt'] == df_prep['funded_amnt']).sum()"
   ]
  },
  {
   "cell_type": "code",
   "execution_count": 143,
   "metadata": {},
   "outputs": [
    {
     "data": {
      "text/plain": [
       "count    465402.000000\n",
       "mean       6198.226801\n",
       "std        6180.092497\n",
       "min           0.000000\n",
       "25%        2310.505942\n",
       "50%        3620.360759\n",
       "75%        8800.033491\n",
       "max       35000.000000\n",
       "Name: EAD, dtype: float64"
      ]
     },
     "execution_count": 143,
     "metadata": {},
     "output_type": "execute_result"
    }
   ],
   "source": [
    "df_prep['EAD'].describe()"
   ]
  },
  {
   "cell_type": "markdown",
   "metadata": {},
   "source": [
    "## 计算PD"
   ]
  },
  {
   "cell_type": "markdown",
   "metadata": {},
   "source": [
    "- 计算PD"
   ]
  },
  {
   "cell_type": "code",
   "execution_count": 147,
   "metadata": {},
   "outputs": [],
   "source": [
    "inputs_train = pd.read_csv('inputs_train.csv')\n",
    "inputs_test = pd.read_csv('inputs_test.csv')"
   ]
  },
  {
   "cell_type": "code",
   "execution_count": 148,
   "metadata": {},
   "outputs": [],
   "source": [
    "inputs_train = inputs_train.iloc[:, 1:]\n",
    "inputs_test = inputs_test.iloc[:, 1:]"
   ]
  },
  {
   "cell_type": "code",
   "execution_count": 149,
   "metadata": {},
   "outputs": [
    {
     "data": {
      "text/html": [
       "<div>\n",
       "<style scoped>\n",
       "    .dataframe tbody tr th:only-of-type {\n",
       "        vertical-align: middle;\n",
       "    }\n",
       "\n",
       "    .dataframe tbody tr th {\n",
       "        vertical-align: top;\n",
       "    }\n",
       "\n",
       "    .dataframe thead th {\n",
       "        text-align: right;\n",
       "    }\n",
       "</style>\n",
       "<table border=\"1\" class=\"dataframe\">\n",
       "  <thead>\n",
       "    <tr style=\"text-align: right;\">\n",
       "      <th></th>\n",
       "      <th>grade:A</th>\n",
       "      <th>grade:B</th>\n",
       "      <th>grade:C</th>\n",
       "      <th>grade:D</th>\n",
       "      <th>grade:E</th>\n",
       "      <th>grade:F</th>\n",
       "      <th>home_ownership:MORTGAGE</th>\n",
       "      <th>home_ownership:OWN</th>\n",
       "      <th>home_ownership:RENT</th>\n",
       "      <th>verification_status:Not Verified</th>\n",
       "      <th>...</th>\n",
       "      <th>mths_since_last_record:Missing</th>\n",
       "      <th>mths_since_last_record:3-20</th>\n",
       "      <th>mths_since_last_record:21-31</th>\n",
       "      <th>mths_since_last_record:32-80</th>\n",
       "      <th>mths_since_last_record:81-86</th>\n",
       "      <th>mths_since_last_record:&gt;86</th>\n",
       "      <th>tot_coll_amt:Missing</th>\n",
       "      <th>tot_coll_amt:&gt;0</th>\n",
       "      <th>tot_cur_bal:Missing</th>\n",
       "      <th>tot_cur_bal:&gt;0</th>\n",
       "    </tr>\n",
       "  </thead>\n",
       "  <tbody>\n",
       "    <tr>\n",
       "      <th>0</th>\n",
       "      <td>1</td>\n",
       "      <td>0</td>\n",
       "      <td>0</td>\n",
       "      <td>0</td>\n",
       "      <td>0</td>\n",
       "      <td>0</td>\n",
       "      <td>1</td>\n",
       "      <td>0</td>\n",
       "      <td>0</td>\n",
       "      <td>0</td>\n",
       "      <td>...</td>\n",
       "      <td>1</td>\n",
       "      <td>0</td>\n",
       "      <td>0</td>\n",
       "      <td>0</td>\n",
       "      <td>0</td>\n",
       "      <td>0</td>\n",
       "      <td>0</td>\n",
       "      <td>0</td>\n",
       "      <td>0</td>\n",
       "      <td>1</td>\n",
       "    </tr>\n",
       "    <tr>\n",
       "      <th>1</th>\n",
       "      <td>0</td>\n",
       "      <td>0</td>\n",
       "      <td>0</td>\n",
       "      <td>1</td>\n",
       "      <td>0</td>\n",
       "      <td>0</td>\n",
       "      <td>0</td>\n",
       "      <td>0</td>\n",
       "      <td>1</td>\n",
       "      <td>0</td>\n",
       "      <td>...</td>\n",
       "      <td>1</td>\n",
       "      <td>0</td>\n",
       "      <td>0</td>\n",
       "      <td>0</td>\n",
       "      <td>0</td>\n",
       "      <td>0</td>\n",
       "      <td>0</td>\n",
       "      <td>0</td>\n",
       "      <td>0</td>\n",
       "      <td>1</td>\n",
       "    </tr>\n",
       "    <tr>\n",
       "      <th>2</th>\n",
       "      <td>0</td>\n",
       "      <td>1</td>\n",
       "      <td>0</td>\n",
       "      <td>0</td>\n",
       "      <td>0</td>\n",
       "      <td>0</td>\n",
       "      <td>1</td>\n",
       "      <td>0</td>\n",
       "      <td>0</td>\n",
       "      <td>0</td>\n",
       "      <td>...</td>\n",
       "      <td>1</td>\n",
       "      <td>0</td>\n",
       "      <td>0</td>\n",
       "      <td>0</td>\n",
       "      <td>0</td>\n",
       "      <td>0</td>\n",
       "      <td>0</td>\n",
       "      <td>0</td>\n",
       "      <td>0</td>\n",
       "      <td>1</td>\n",
       "    </tr>\n",
       "    <tr>\n",
       "      <th>3</th>\n",
       "      <td>0</td>\n",
       "      <td>1</td>\n",
       "      <td>0</td>\n",
       "      <td>0</td>\n",
       "      <td>0</td>\n",
       "      <td>0</td>\n",
       "      <td>1</td>\n",
       "      <td>0</td>\n",
       "      <td>0</td>\n",
       "      <td>0</td>\n",
       "      <td>...</td>\n",
       "      <td>1</td>\n",
       "      <td>0</td>\n",
       "      <td>0</td>\n",
       "      <td>0</td>\n",
       "      <td>0</td>\n",
       "      <td>0</td>\n",
       "      <td>0</td>\n",
       "      <td>0</td>\n",
       "      <td>0</td>\n",
       "      <td>1</td>\n",
       "    </tr>\n",
       "    <tr>\n",
       "      <th>4</th>\n",
       "      <td>0</td>\n",
       "      <td>0</td>\n",
       "      <td>0</td>\n",
       "      <td>1</td>\n",
       "      <td>0</td>\n",
       "      <td>0</td>\n",
       "      <td>1</td>\n",
       "      <td>0</td>\n",
       "      <td>0</td>\n",
       "      <td>0</td>\n",
       "      <td>...</td>\n",
       "      <td>1</td>\n",
       "      <td>0</td>\n",
       "      <td>0</td>\n",
       "      <td>0</td>\n",
       "      <td>0</td>\n",
       "      <td>0</td>\n",
       "      <td>0</td>\n",
       "      <td>0</td>\n",
       "      <td>0</td>\n",
       "      <td>1</td>\n",
       "    </tr>\n",
       "  </tbody>\n",
       "</table>\n",
       "<p>5 rows × 111 columns</p>\n",
       "</div>"
      ],
      "text/plain": [
       "   grade:A  grade:B  grade:C  grade:D  grade:E  grade:F  \\\n",
       "0        1        0        0        0        0        0   \n",
       "1        0        0        0        1        0        0   \n",
       "2        0        1        0        0        0        0   \n",
       "3        0        1        0        0        0        0   \n",
       "4        0        0        0        1        0        0   \n",
       "\n",
       "   home_ownership:MORTGAGE  home_ownership:OWN  home_ownership:RENT  \\\n",
       "0                        1                   0                    0   \n",
       "1                        0                   0                    1   \n",
       "2                        1                   0                    0   \n",
       "3                        1                   0                    0   \n",
       "4                        1                   0                    0   \n",
       "\n",
       "   verification_status:Not Verified  ...  mths_since_last_record:Missing  \\\n",
       "0                                 0  ...                               1   \n",
       "1                                 0  ...                               1   \n",
       "2                                 0  ...                               1   \n",
       "3                                 0  ...                               1   \n",
       "4                                 0  ...                               1   \n",
       "\n",
       "   mths_since_last_record:3-20  mths_since_last_record:21-31  \\\n",
       "0                            0                             0   \n",
       "1                            0                             0   \n",
       "2                            0                             0   \n",
       "3                            0                             0   \n",
       "4                            0                             0   \n",
       "\n",
       "   mths_since_last_record:32-80  mths_since_last_record:81-86  \\\n",
       "0                             0                             0   \n",
       "1                             0                             0   \n",
       "2                             0                             0   \n",
       "3                             0                             0   \n",
       "4                             0                             0   \n",
       "\n",
       "   mths_since_last_record:>86  tot_coll_amt:Missing  tot_coll_amt:>0  \\\n",
       "0                           0                     0                0   \n",
       "1                           0                     0                0   \n",
       "2                           0                     0                0   \n",
       "3                           0                     0                0   \n",
       "4                           0                     0                0   \n",
       "\n",
       "   tot_cur_bal:Missing  tot_cur_bal:>0  \n",
       "0                    0               1  \n",
       "1                    0               1  \n",
       "2                    0               1  \n",
       "3                    0               1  \n",
       "4                    0               1  \n",
       "\n",
       "[5 rows x 111 columns]"
      ]
     },
     "execution_count": 149,
     "metadata": {},
     "output_type": "execute_result"
    }
   ],
   "source": [
    "inputs_train.head()"
   ]
  },
  {
   "cell_type": "code",
   "execution_count": 162,
   "metadata": {},
   "outputs": [],
   "source": [
    "inputs_pd = pd.concat([inputs_train, inputs_test], axis=0)"
   ]
  },
  {
   "cell_type": "code",
   "execution_count": 163,
   "metadata": {},
   "outputs": [
    {
     "data": {
      "text/plain": [
       "(465402, 111)"
      ]
     },
     "execution_count": 163,
     "metadata": {},
     "output_type": "execute_result"
    }
   ],
   "source": [
    "inputs_pd.shape"
   ]
  },
  {
   "cell_type": "code",
   "execution_count": 164,
   "metadata": {},
   "outputs": [],
   "source": [
    "feature_all_pd = ['grade:A',\n",
    " 'grade:B',\n",
    " 'grade:C',\n",
    " 'grade:D',\n",
    " 'grade:E',\n",
    " 'grade:F',\n",
    " 'verification_status:Not Verified',\n",
    " 'verification_status:Source Verified',\n",
    " 'purpose:credit_card',\n",
    " 'purpose:car_major_purchase_home_improvement',\n",
    " 'purpose:debt_consolidation',\n",
    " 'purpose:wedding_vacation',\n",
    " 'purpose:medical_other_house',\n",
    " 'purpose:renewable_energy_moving',\n",
    " 'initial_list_status:w',\n",
    " 'addr_state:NM_VA',\n",
    " 'addr_state:NY',\n",
    " 'addr_state:OK_TN_MO_LA_MD_NC',\n",
    " 'addr_state:CA',\n",
    " 'addr_state:UT_KY_AZ_NJ',\n",
    " 'addr_state:AR_MI_PA_OH_MN',\n",
    " 'addr_state:RI_MA_DE_SD_IN',\n",
    " 'addr_state:GA_WA_OR',\n",
    " 'addr_state:WI_MT',\n",
    " 'addr_state:TX',\n",
    " 'addr_state:IL_CT',\n",
    " 'addr_state:KS_SC_CO_VT_AK_MS',\n",
    " 'addr_state:WV_NH_WY_DC_ME_ID',\n",
    " 'term:36',\n",
    " 'emp_length:1',\n",
    " 'emp_length:2_3_4',\n",
    " 'emp_length:5_6',\n",
    " 'emp_length:7_8_9',\n",
    " 'emp_length:10',\n",
    " 'issue_d:<38',\n",
    " 'issue_d:38-39',\n",
    " 'issue_d:40-41',\n",
    " 'issue_d:42-48',\n",
    " 'issue_d:49-52',\n",
    " 'issue_d:53-64',\n",
    " 'issue_d:65-84',\n",
    " 'int_rate:<9.548',\n",
    " 'int_rate:9.548-12.025',\n",
    " 'int_rate:12.025-15.74',\n",
    " 'int_rate:15.74-20.281',\n",
    " 'earliest_cr_line:141-164',\n",
    " 'earliest_cr_line:165-247',\n",
    " 'earliest_cr_line:248-270',\n",
    " 'earliest_cr_line:271-352',\n",
    " 'earliest_cr_line:>352',\n",
    " 'inq_last_6mths:0',\n",
    " 'inq_last_6mths:1-2',\n",
    " 'inq_last_6mths:3-6',\n",
    " 'total_acc:28-51',\n",
    " 'total_acc:>=52',\n",
    " 'total_rev_hi_lim:5K-10K',\n",
    " 'total_rev_hi_lim:10K-20K',\n",
    " 'total_rev_hi_lim:20K-30K',\n",
    " 'total_rev_hi_lim:30K-40K',\n",
    " 'total_rev_hi_lim:40K-55K',\n",
    " 'total_rev_hi_lim:55K-95K',\n",
    " 'total_rev_hi_lim:>95K',\n",
    " 'annual_inc:20K-30K',\n",
    " 'annual_inc:30K-40K',\n",
    " 'annual_inc:40K-50K',\n",
    " 'annual_inc:50K-60K',\n",
    " 'annual_inc:60K-70K',\n",
    " 'annual_inc:70K-80K',\n",
    " 'annual_inc:80K-90K',\n",
    " 'annual_inc:90K-100K',\n",
    " 'annual_inc:100K-120K',\n",
    " 'annual_inc:120K-140K',\n",
    " 'annual_inc:>140K',\n",
    " 'mths_since_last_delinq:Missing',\n",
    " 'mths_since_last_delinq:4-30',\n",
    " 'mths_since_last_delinq:31-56',\n",
    " 'mths_since_last_delinq:>=57',\n",
    " 'dti:<=1.4',\n",
    " 'dti:1.4-3.5',\n",
    " 'dti:3.5-7.7',\n",
    " 'dti:7.7-10.5',\n",
    " 'dti:10.5-16.1',\n",
    " 'dti:16.1-20.3',\n",
    " 'dti:20.3-21.7',\n",
    " 'dti:21.7-22.4',\n",
    " 'dti:22.4-34',\n",
    " 'mths_since_last_record:Missing',\n",
    " 'mths_since_last_record:3-20',\n",
    " 'mths_since_last_record:21-31',\n",
    " 'mths_since_last_record:32-80',\n",
    " 'mths_since_last_record:81-86',\n",
    " 'mths_since_last_record:>86']"
   ]
  },
  {
   "cell_type": "code",
   "execution_count": 165,
   "metadata": {},
   "outputs": [],
   "source": [
    "inputs_pd = inputs_pd[feature_all_pd]"
   ]
  },
  {
   "cell_type": "code",
   "execution_count": 155,
   "metadata": {},
   "outputs": [],
   "source": [
    "import pickle\n",
    "log_reg_pd = pickle.load(open('pd_model.sav', 'rb'))"
   ]
  },
  {
   "cell_type": "code",
   "execution_count": 167,
   "metadata": {},
   "outputs": [],
   "source": [
    "inputs_pd['PD'] = log_reg_pd.model.predict_proba(inputs_pd)[:, 0]"
   ]
  },
  {
   "cell_type": "code",
   "execution_count": 169,
   "metadata": {},
   "outputs": [
    {
     "data": {
      "text/plain": [
       "count    465402.000000\n",
       "mean          0.108328\n",
       "std           0.070672\n",
       "min           0.006993\n",
       "25%           0.055228\n",
       "50%           0.092850\n",
       "75%           0.145593\n",
       "max           0.691646\n",
       "Name: PD, dtype: float64"
      ]
     },
     "execution_count": 169,
     "metadata": {},
     "output_type": "execute_result"
    }
   ],
   "source": [
    "inputs_pd['PD'].describe()"
   ]
  },
  {
   "cell_type": "code",
   "execution_count": 172,
   "metadata": {},
   "outputs": [
    {
     "data": {
      "text/plain": [
       "(465402, 93)"
      ]
     },
     "execution_count": 172,
     "metadata": {},
     "output_type": "execute_result"
    }
   ],
   "source": [
    "inputs_pd.shape"
   ]
  },
  {
   "cell_type": "code",
   "execution_count": 173,
   "metadata": {},
   "outputs": [
    {
     "data": {
      "text/plain": [
       "(465402, 209)"
      ]
     },
     "execution_count": 173,
     "metadata": {},
     "output_type": "execute_result"
    }
   ],
   "source": [
    "df_prep.shape"
   ]
  },
  {
   "cell_type": "code",
   "execution_count": 179,
   "metadata": {},
   "outputs": [],
   "source": [
    "# 对齐索引，不然不能concat\n",
    "inputs_pd.reset_index(drop=True, inplace=True)\n",
    "df_prep.reset_index(drop=True, inplace=True)"
   ]
  },
  {
   "cell_type": "code",
   "execution_count": 181,
   "metadata": {},
   "outputs": [],
   "source": [
    "df_prep_new = pd.concat([inputs_pd, df_prep], axis=1)"
   ]
  },
  {
   "cell_type": "markdown",
   "metadata": {},
   "source": [
    "## 计算EL"
   ]
  },
  {
   "cell_type": "code",
   "execution_count": 182,
   "metadata": {},
   "outputs": [],
   "source": [
    "df_prep_new['EL'] = df_prep_new.PD * df_prep_new.LGD * df_prep_new.EAD"
   ]
  },
  {
   "cell_type": "code",
   "execution_count": 183,
   "metadata": {},
   "outputs": [
    {
     "data": {
      "text/plain": [
       "count    465402.000000\n",
       "mean        663.251226\n",
       "std         892.703260\n",
       "min           0.000000\n",
       "25%         138.276567\n",
       "50%         358.488591\n",
       "75%         820.132636\n",
       "max       16086.292061\n",
       "Name: EL, dtype: float64"
      ]
     },
     "execution_count": 183,
     "metadata": {},
     "output_type": "execute_result"
    }
   ],
   "source": [
    "df_prep_new.EL.describe()"
   ]
  },
  {
   "cell_type": "code",
   "execution_count": 185,
   "metadata": {},
   "outputs": [
    {
     "data": {
      "text/html": [
       "<div>\n",
       "<style scoped>\n",
       "    .dataframe tbody tr th:only-of-type {\n",
       "        vertical-align: middle;\n",
       "    }\n",
       "\n",
       "    .dataframe tbody tr th {\n",
       "        vertical-align: top;\n",
       "    }\n",
       "\n",
       "    .dataframe thead th {\n",
       "        text-align: right;\n",
       "    }\n",
       "</style>\n",
       "<table border=\"1\" class=\"dataframe\">\n",
       "  <thead>\n",
       "    <tr style=\"text-align: right;\">\n",
       "      <th></th>\n",
       "      <th>funded_amnt</th>\n",
       "      <th>PD</th>\n",
       "      <th>LGD</th>\n",
       "      <th>EAD</th>\n",
       "      <th>EL</th>\n",
       "    </tr>\n",
       "  </thead>\n",
       "  <tbody>\n",
       "    <tr>\n",
       "      <th>0</th>\n",
       "      <td>5000</td>\n",
       "      <td>0.034819</td>\n",
       "      <td>1.000000</td>\n",
       "      <td>2488.731006</td>\n",
       "      <td>86.656266</td>\n",
       "    </tr>\n",
       "    <tr>\n",
       "      <th>1</th>\n",
       "      <td>2500</td>\n",
       "      <td>0.127245</td>\n",
       "      <td>0.911343</td>\n",
       "      <td>1964.755475</td>\n",
       "      <td>227.841091</td>\n",
       "    </tr>\n",
       "    <tr>\n",
       "      <th>2</th>\n",
       "      <td>2400</td>\n",
       "      <td>0.042307</td>\n",
       "      <td>1.000000</td>\n",
       "      <td>1416.778478</td>\n",
       "      <td>59.939627</td>\n",
       "    </tr>\n",
       "    <tr>\n",
       "      <th>3</th>\n",
       "      <td>10000</td>\n",
       "      <td>0.077471</td>\n",
       "      <td>1.000000</td>\n",
       "      <td>3096.256859</td>\n",
       "      <td>239.868933</td>\n",
       "    </tr>\n",
       "    <tr>\n",
       "      <th>4</th>\n",
       "      <td>3000</td>\n",
       "      <td>0.097044</td>\n",
       "      <td>1.000000</td>\n",
       "      <td>2064.291721</td>\n",
       "      <td>200.326334</td>\n",
       "    </tr>\n",
       "  </tbody>\n",
       "</table>\n",
       "</div>"
      ],
      "text/plain": [
       "   funded_amnt        PD       LGD          EAD          EL\n",
       "0         5000  0.034819  1.000000  2488.731006   86.656266\n",
       "1         2500  0.127245  0.911343  1964.755475  227.841091\n",
       "2         2400  0.042307  1.000000  1416.778478   59.939627\n",
       "3        10000  0.077471  1.000000  3096.256859  239.868933\n",
       "4         3000  0.097044  1.000000  2064.291721  200.326334"
      ]
     },
     "execution_count": 185,
     "metadata": {},
     "output_type": "execute_result"
    }
   ],
   "source": [
    "df_prep_new[['funded_amnt', 'PD', 'LGD', 'EAD', 'EL']].head()"
   ]
  },
  {
   "cell_type": "code",
   "execution_count": 187,
   "metadata": {},
   "outputs": [
    {
     "data": {
      "text/plain": [
       "0.046385260489390026"
      ]
     },
     "execution_count": 187,
     "metadata": {},
     "output_type": "execute_result"
    }
   ],
   "source": [
    "df_prep_new.EL.sum() / df_prep_new.funded_amnt.sum()"
   ]
  },
  {
   "cell_type": "code",
   "execution_count": 190,
   "metadata": {},
   "outputs": [
    {
     "data": {
      "text/plain": [
       "308678447.189938"
      ]
     },
     "execution_count": 190,
     "metadata": {},
     "output_type": "execute_result"
    }
   ],
   "source": [
    "df_prep_new.EL.sum()"
   ]
  },
  {
   "cell_type": "code",
   "execution_count": 189,
   "metadata": {},
   "outputs": [
    {
     "name": "stdout",
     "output_type": "stream",
     "text": [
      "3.086784e+08\n"
     ]
    }
   ],
   "source": [
    "print('%e' %df_prep_new.EL.sum())"
   ]
  },
  {
   "cell_type": "markdown",
   "metadata": {},
   "source": [
    "## 计算RWA"
   ]
  },
  {
   "cell_type": "markdown",
   "metadata": {},
   "source": [
    "RWA = "
   ]
  },
  {
   "cell_type": "code",
   "execution_count": 191,
   "metadata": {},
   "outputs": [
    {
     "data": {
      "text/plain": [
       "Index(['grade:A', 'grade:B', 'grade:C', 'grade:D', 'grade:E', 'grade:F',\n",
       "       'verification_status:Not Verified',\n",
       "       'verification_status:Source Verified', 'purpose:credit_card',\n",
       "       'purpose:car_major_purchase_home_improvement',\n",
       "       ...\n",
       "       'tot_cur_bal:Missing', 'tot_cur_bal:0', 'tot_cur_bal:>0',\n",
       "       'recovery_rate_st_1', 'recovery_rate_st_2', 'recovery_rate', 'LGD',\n",
       "       'CCF', 'EAD', 'EL'],\n",
       "      dtype='object', length=303)"
      ]
     },
     "execution_count": 191,
     "metadata": {},
     "output_type": "execute_result"
    }
   ],
   "source": [
    "df_prep_new.columns"
   ]
  },
  {
   "cell_type": "code",
   "execution_count": 193,
   "metadata": {},
   "outputs": [
    {
     "data": {
      "text/plain": [
       "debt_consolidation    273815\n",
       "credit_card           104053\n",
       "home_improvement       26461\n",
       "other                  23549\n",
       "major_purchase          9791\n",
       "small_business          6978\n",
       "car                     5375\n",
       "medical                 4579\n",
       "moving                  2982\n",
       "vacation                2476\n",
       "wedding                 2328\n",
       "house                   2262\n",
       "educational              404\n",
       "renewable_energy         349\n",
       "Name: purpose, dtype: int64"
      ]
     },
     "execution_count": 193,
     "metadata": {},
     "output_type": "execute_result"
    }
   ],
   "source": [
    "df_prep_new.purpose.value_counts()"
   ]
  },
  {
   "cell_type": "code",
   "execution_count": 198,
   "metadata": {},
   "outputs": [
    {
     "data": {
      "text/plain": [
       "<matplotlib.axes._subplots.AxesSubplot at 0x7f0000877e90>"
      ]
     },
     "execution_count": 198,
     "metadata": {},
     "output_type": "execute_result"
    },
    {
     "data": {
      "image/png": "[encoded data removed]",
      "text/plain": [
       "<Figure size 432x288 with 1 Axes>"
      ]
     },
     "metadata": {
      "needs_background": "light"
     },
     "output_type": "display_data"
    }
   ],
   "source": [
    "df_prep_new.LGD.hist(bins=40)"
   ]
  },
  {
   "cell_type": "code",
   "execution_count": null,
   "metadata": {},
   "outputs": [],
   "source": []
  },
  {
   "cell_type": "code",
   "execution_count": null,
   "metadata": {},
   "outputs": [],
   "source": []
  }
 ],
 "metadata": {
  "kernelspec": {
   "display_name": "Python 3",
   "language": "python",
   "name": "python3"
  },
  "language_info": {
   "codemirror_mode": {
    "name": "ipython",
    "version": 3
   },
   "file_extension": ".py",
   "mimetype": "text/x-python",
   "name": "python",
   "nbconvert_exporter": "python",
   "pygments_lexer": "ipython3",
   "version": "3.7.6"
  }
 },
 "nbformat": 4,
 "nbformat_minor": 4
}
